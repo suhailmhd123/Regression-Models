{
 "cells": [
  {
   "cell_type": "markdown",
   "id": "e7091150",
   "metadata": {},
   "source": [
    "# Regression methods"
   ]
  },
  {
   "cell_type": "markdown",
   "id": "3bdb56d7",
   "metadata": {},
   "source": [
    "Random Forest Regressor &\n",
    "Decision Tree Regressor\n",
    "\n",
    "Boosting Methods"
   ]
  },
  {
   "cell_type": "markdown",
   "id": "23ef43cf",
   "metadata": {},
   "source": [
    "1. Ada Boosting\n",
    "\n",
    "2. GradientBoosting Regressor\n",
    "\n",
    "3. XGB Regressor\n",
    "\n",
    "4. LightGBM\n",
    "\n",
    "5. CatBoost"
   ]
  },
  {
   "cell_type": "code",
   "execution_count": 1,
   "id": "08820c06",
   "metadata": {},
   "outputs": [],
   "source": [
    "import pandas as pd\n",
    "import matplotlib.pyplot as plt\n",
    "import numpy as np\n",
    "import seaborn as sns\n",
    "\n",
    "# ignore warnings\n",
    "\n",
    "import warnings\n",
    "warnings.filterwarnings(\"ignore\")\n",
    "warnings.warn(\"this will not show\")"
   ]
  },
  {
   "cell_type": "code",
   "execution_count": 2,
   "id": "5d444349",
   "metadata": {},
   "outputs": [],
   "source": [
    "# Import data\n",
    "data = pd.read_csv(r\"C:\\SUHAIL\\Reshma miss\\insurance.csv\")"
   ]
  },
  {
   "cell_type": "code",
   "execution_count": 3,
   "id": "69bf09b5",
   "metadata": {},
   "outputs": [
    {
     "data": {
      "text/html": [
       "<div>\n",
       "<style scoped>\n",
       "    .dataframe tbody tr th:only-of-type {\n",
       "        vertical-align: middle;\n",
       "    }\n",
       "\n",
       "    .dataframe tbody tr th {\n",
       "        vertical-align: top;\n",
       "    }\n",
       "\n",
       "    .dataframe thead th {\n",
       "        text-align: right;\n",
       "    }\n",
       "</style>\n",
       "<table border=\"1\" class=\"dataframe\">\n",
       "  <thead>\n",
       "    <tr style=\"text-align: right;\">\n",
       "      <th></th>\n",
       "      <th>age</th>\n",
       "      <th>sex</th>\n",
       "      <th>bmi</th>\n",
       "      <th>children</th>\n",
       "      <th>smoker</th>\n",
       "      <th>region</th>\n",
       "      <th>charges</th>\n",
       "    </tr>\n",
       "  </thead>\n",
       "  <tbody>\n",
       "    <tr>\n",
       "      <th>0</th>\n",
       "      <td>19</td>\n",
       "      <td>female</td>\n",
       "      <td>27.900</td>\n",
       "      <td>0</td>\n",
       "      <td>yes</td>\n",
       "      <td>southwest</td>\n",
       "      <td>16884.92400</td>\n",
       "    </tr>\n",
       "    <tr>\n",
       "      <th>1</th>\n",
       "      <td>18</td>\n",
       "      <td>male</td>\n",
       "      <td>33.770</td>\n",
       "      <td>1</td>\n",
       "      <td>no</td>\n",
       "      <td>southeast</td>\n",
       "      <td>1725.55230</td>\n",
       "    </tr>\n",
       "    <tr>\n",
       "      <th>2</th>\n",
       "      <td>28</td>\n",
       "      <td>male</td>\n",
       "      <td>33.000</td>\n",
       "      <td>3</td>\n",
       "      <td>no</td>\n",
       "      <td>southeast</td>\n",
       "      <td>4449.46200</td>\n",
       "    </tr>\n",
       "    <tr>\n",
       "      <th>3</th>\n",
       "      <td>33</td>\n",
       "      <td>male</td>\n",
       "      <td>22.705</td>\n",
       "      <td>0</td>\n",
       "      <td>no</td>\n",
       "      <td>northwest</td>\n",
       "      <td>21984.47061</td>\n",
       "    </tr>\n",
       "    <tr>\n",
       "      <th>4</th>\n",
       "      <td>32</td>\n",
       "      <td>male</td>\n",
       "      <td>28.880</td>\n",
       "      <td>0</td>\n",
       "      <td>no</td>\n",
       "      <td>northwest</td>\n",
       "      <td>3866.85520</td>\n",
       "    </tr>\n",
       "    <tr>\n",
       "      <th>...</th>\n",
       "      <td>...</td>\n",
       "      <td>...</td>\n",
       "      <td>...</td>\n",
       "      <td>...</td>\n",
       "      <td>...</td>\n",
       "      <td>...</td>\n",
       "      <td>...</td>\n",
       "    </tr>\n",
       "    <tr>\n",
       "      <th>1333</th>\n",
       "      <td>50</td>\n",
       "      <td>male</td>\n",
       "      <td>30.970</td>\n",
       "      <td>3</td>\n",
       "      <td>no</td>\n",
       "      <td>northwest</td>\n",
       "      <td>10600.54830</td>\n",
       "    </tr>\n",
       "    <tr>\n",
       "      <th>1334</th>\n",
       "      <td>18</td>\n",
       "      <td>female</td>\n",
       "      <td>31.920</td>\n",
       "      <td>0</td>\n",
       "      <td>no</td>\n",
       "      <td>northeast</td>\n",
       "      <td>2205.98080</td>\n",
       "    </tr>\n",
       "    <tr>\n",
       "      <th>1335</th>\n",
       "      <td>18</td>\n",
       "      <td>female</td>\n",
       "      <td>36.850</td>\n",
       "      <td>0</td>\n",
       "      <td>no</td>\n",
       "      <td>southeast</td>\n",
       "      <td>1629.83350</td>\n",
       "    </tr>\n",
       "    <tr>\n",
       "      <th>1336</th>\n",
       "      <td>21</td>\n",
       "      <td>female</td>\n",
       "      <td>25.800</td>\n",
       "      <td>0</td>\n",
       "      <td>no</td>\n",
       "      <td>southwest</td>\n",
       "      <td>2007.94500</td>\n",
       "    </tr>\n",
       "    <tr>\n",
       "      <th>1337</th>\n",
       "      <td>61</td>\n",
       "      <td>female</td>\n",
       "      <td>29.070</td>\n",
       "      <td>0</td>\n",
       "      <td>yes</td>\n",
       "      <td>northwest</td>\n",
       "      <td>29141.36030</td>\n",
       "    </tr>\n",
       "  </tbody>\n",
       "</table>\n",
       "<p>1338 rows × 7 columns</p>\n",
       "</div>"
      ],
      "text/plain": [
       "      age     sex     bmi  children smoker     region      charges\n",
       "0      19  female  27.900         0    yes  southwest  16884.92400\n",
       "1      18    male  33.770         1     no  southeast   1725.55230\n",
       "2      28    male  33.000         3     no  southeast   4449.46200\n",
       "3      33    male  22.705         0     no  northwest  21984.47061\n",
       "4      32    male  28.880         0     no  northwest   3866.85520\n",
       "...   ...     ...     ...       ...    ...        ...          ...\n",
       "1333   50    male  30.970         3     no  northwest  10600.54830\n",
       "1334   18  female  31.920         0     no  northeast   2205.98080\n",
       "1335   18  female  36.850         0     no  southeast   1629.83350\n",
       "1336   21  female  25.800         0     no  southwest   2007.94500\n",
       "1337   61  female  29.070         0    yes  northwest  29141.36030\n",
       "\n",
       "[1338 rows x 7 columns]"
      ]
     },
     "execution_count": 3,
     "metadata": {},
     "output_type": "execute_result"
    }
   ],
   "source": [
    "data"
   ]
  },
  {
   "cell_type": "code",
   "execution_count": 4,
   "id": "95c72367",
   "metadata": {},
   "outputs": [
    {
     "data": {
      "text/plain": [
       "(1338, 7)"
      ]
     },
     "execution_count": 4,
     "metadata": {},
     "output_type": "execute_result"
    }
   ],
   "source": [
    "data.shape"
   ]
  },
  {
   "cell_type": "code",
   "execution_count": 5,
   "id": "3e8abdd1",
   "metadata": {},
   "outputs": [
    {
     "data": {
      "text/html": [
       "<div>\n",
       "<style scoped>\n",
       "    .dataframe tbody tr th:only-of-type {\n",
       "        vertical-align: middle;\n",
       "    }\n",
       "\n",
       "    .dataframe tbody tr th {\n",
       "        vertical-align: top;\n",
       "    }\n",
       "\n",
       "    .dataframe thead th {\n",
       "        text-align: right;\n",
       "    }\n",
       "</style>\n",
       "<table border=\"1\" class=\"dataframe\">\n",
       "  <thead>\n",
       "    <tr style=\"text-align: right;\">\n",
       "      <th></th>\n",
       "      <th>age</th>\n",
       "      <th>bmi</th>\n",
       "      <th>children</th>\n",
       "      <th>charges</th>\n",
       "    </tr>\n",
       "  </thead>\n",
       "  <tbody>\n",
       "    <tr>\n",
       "      <th>count</th>\n",
       "      <td>1338.000000</td>\n",
       "      <td>1338.000000</td>\n",
       "      <td>1338.000000</td>\n",
       "      <td>1338.000000</td>\n",
       "    </tr>\n",
       "    <tr>\n",
       "      <th>mean</th>\n",
       "      <td>39.207025</td>\n",
       "      <td>30.663397</td>\n",
       "      <td>1.094918</td>\n",
       "      <td>13270.422265</td>\n",
       "    </tr>\n",
       "    <tr>\n",
       "      <th>std</th>\n",
       "      <td>14.049960</td>\n",
       "      <td>6.098187</td>\n",
       "      <td>1.205493</td>\n",
       "      <td>12110.011237</td>\n",
       "    </tr>\n",
       "    <tr>\n",
       "      <th>min</th>\n",
       "      <td>18.000000</td>\n",
       "      <td>15.960000</td>\n",
       "      <td>0.000000</td>\n",
       "      <td>1121.873900</td>\n",
       "    </tr>\n",
       "    <tr>\n",
       "      <th>25%</th>\n",
       "      <td>27.000000</td>\n",
       "      <td>26.296250</td>\n",
       "      <td>0.000000</td>\n",
       "      <td>4740.287150</td>\n",
       "    </tr>\n",
       "    <tr>\n",
       "      <th>50%</th>\n",
       "      <td>39.000000</td>\n",
       "      <td>30.400000</td>\n",
       "      <td>1.000000</td>\n",
       "      <td>9382.033000</td>\n",
       "    </tr>\n",
       "    <tr>\n",
       "      <th>75%</th>\n",
       "      <td>51.000000</td>\n",
       "      <td>34.693750</td>\n",
       "      <td>2.000000</td>\n",
       "      <td>16639.912515</td>\n",
       "    </tr>\n",
       "    <tr>\n",
       "      <th>max</th>\n",
       "      <td>64.000000</td>\n",
       "      <td>53.130000</td>\n",
       "      <td>5.000000</td>\n",
       "      <td>63770.428010</td>\n",
       "    </tr>\n",
       "  </tbody>\n",
       "</table>\n",
       "</div>"
      ],
      "text/plain": [
       "               age          bmi     children       charges\n",
       "count  1338.000000  1338.000000  1338.000000   1338.000000\n",
       "mean     39.207025    30.663397     1.094918  13270.422265\n",
       "std      14.049960     6.098187     1.205493  12110.011237\n",
       "min      18.000000    15.960000     0.000000   1121.873900\n",
       "25%      27.000000    26.296250     0.000000   4740.287150\n",
       "50%      39.000000    30.400000     1.000000   9382.033000\n",
       "75%      51.000000    34.693750     2.000000  16639.912515\n",
       "max      64.000000    53.130000     5.000000  63770.428010"
      ]
     },
     "execution_count": 5,
     "metadata": {},
     "output_type": "execute_result"
    }
   ],
   "source": [
    "data.describe()"
   ]
  },
  {
   "cell_type": "code",
   "execution_count": 6,
   "id": "48d8d668",
   "metadata": {},
   "outputs": [
    {
     "data": {
      "text/plain": [
       "1"
      ]
     },
     "execution_count": 6,
     "metadata": {},
     "output_type": "execute_result"
    }
   ],
   "source": [
    "data.duplicated().sum()"
   ]
  },
  {
   "cell_type": "code",
   "execution_count": 7,
   "id": "187c69ae",
   "metadata": {},
   "outputs": [],
   "source": [
    "data.drop_duplicates(inplace=True)"
   ]
  },
  {
   "cell_type": "code",
   "execution_count": 8,
   "id": "5594ff1f",
   "metadata": {},
   "outputs": [],
   "source": [
    "data.reset_index(drop=True, inplace=True)"
   ]
  },
  {
   "cell_type": "code",
   "execution_count": 9,
   "id": "cd2705c9",
   "metadata": {},
   "outputs": [
    {
     "data": {
      "text/plain": [
       "age         0\n",
       "sex         0\n",
       "bmi         0\n",
       "children    0\n",
       "smoker      0\n",
       "region      0\n",
       "charges     0\n",
       "dtype: int64"
      ]
     },
     "execution_count": 9,
     "metadata": {},
     "output_type": "execute_result"
    }
   ],
   "source": [
    "data.isna().sum()"
   ]
  },
  {
   "cell_type": "code",
   "execution_count": 10,
   "id": "50fdb00d",
   "metadata": {},
   "outputs": [
    {
     "data": {
      "text/plain": [
       "region\n",
       "southeast    364\n",
       "southwest    325\n",
       "northwest    324\n",
       "northeast    324\n",
       "Name: count, dtype: int64"
      ]
     },
     "execution_count": 10,
     "metadata": {},
     "output_type": "execute_result"
    }
   ],
   "source": [
    "data[\"region\"].value_counts()"
   ]
  },
  {
   "cell_type": "code",
   "execution_count": 11,
   "id": "2cc2de53",
   "metadata": {},
   "outputs": [
    {
     "data": {
      "text/plain": [
       "(1337, 7)"
      ]
     },
     "execution_count": 11,
     "metadata": {},
     "output_type": "execute_result"
    }
   ],
   "source": [
    "data.shape"
   ]
  },
  {
   "cell_type": "code",
   "execution_count": 12,
   "id": "c1765612",
   "metadata": {},
   "outputs": [],
   "source": [
    "# split the x and y\n",
    "x = data.iloc[:,:6]\n",
    "y = data[\"charges\"]"
   ]
  },
  {
   "cell_type": "code",
   "execution_count": 13,
   "id": "5a671751",
   "metadata": {},
   "outputs": [],
   "source": [
    "# split train and test\n",
    "from sklearn.model_selection import train_test_split\n",
    "x_train, x_test, y_train, y_test = train_test_split(x, y, test_size=0.2, random_state=42)"
   ]
  },
  {
   "cell_type": "code",
   "execution_count": 14,
   "id": "1c68313f",
   "metadata": {},
   "outputs": [],
   "source": [
    "x_train.reset_index(drop=True, inplace=True)"
   ]
  },
  {
   "cell_type": "code",
   "execution_count": 15,
   "id": "e3b56b1f",
   "metadata": {},
   "outputs": [],
   "source": [
    "x_test.reset_index(drop=True, inplace=True)"
   ]
  },
  {
   "cell_type": "code",
   "execution_count": 16,
   "id": "54542d8c",
   "metadata": {},
   "outputs": [],
   "source": [
    "y_train.reset_index(drop=True, inplace=True)"
   ]
  },
  {
   "cell_type": "code",
   "execution_count": 17,
   "id": "a80eb5c2",
   "metadata": {},
   "outputs": [],
   "source": [
    "y_test.reset_index(drop=True, inplace=True)"
   ]
  },
  {
   "cell_type": "markdown",
   "id": "891751a4",
   "metadata": {},
   "source": [
    "For train"
   ]
  },
  {
   "cell_type": "code",
   "execution_count": 18,
   "id": "65d9f76f",
   "metadata": {},
   "outputs": [],
   "source": [
    "# OneHote Encoding\n",
    "categorical_columns = x.select_dtypes(include=['O']).columns\n",
    "numerical_columns = x.select_dtypes(exclude=['O']).columns"
   ]
  },
  {
   "cell_type": "code",
   "execution_count": 19,
   "id": "5cd9c0f8",
   "metadata": {},
   "outputs": [],
   "source": [
    "# for train\n",
    "from sklearn.preprocessing import OneHotEncoder\n",
    "ohe = OneHotEncoder(sparse=False, drop=\"first\")"
   ]
  },
  {
   "cell_type": "code",
   "execution_count": 20,
   "id": "4a1ebab1",
   "metadata": {},
   "outputs": [],
   "source": [
    "encoded = ohe.fit_transform(x_train[categorical_columns])"
   ]
  },
  {
   "cell_type": "code",
   "execution_count": 21,
   "id": "0309e11f",
   "metadata": {},
   "outputs": [],
   "source": [
    "feature_names = ohe.get_feature_names_out(input_features=categorical_columns)"
   ]
  },
  {
   "cell_type": "code",
   "execution_count": 22,
   "id": "6785143c",
   "metadata": {},
   "outputs": [
    {
     "data": {
      "text/plain": [
       "array(['sex_male', 'smoker_yes', 'region_northwest', 'region_southeast',\n",
       "       'region_southwest'], dtype=object)"
      ]
     },
     "execution_count": 22,
     "metadata": {},
     "output_type": "execute_result"
    }
   ],
   "source": [
    "feature_names"
   ]
  },
  {
   "cell_type": "code",
   "execution_count": 23,
   "id": "7bb1bf35",
   "metadata": {},
   "outputs": [],
   "source": [
    "data_ohe_columns = pd.DataFrame(encoded, columns=feature_names)"
   ]
  },
  {
   "cell_type": "code",
   "execution_count": 24,
   "id": "3dab3a19",
   "metadata": {},
   "outputs": [
    {
     "data": {
      "text/html": [
       "<div>\n",
       "<style scoped>\n",
       "    .dataframe tbody tr th:only-of-type {\n",
       "        vertical-align: middle;\n",
       "    }\n",
       "\n",
       "    .dataframe tbody tr th {\n",
       "        vertical-align: top;\n",
       "    }\n",
       "\n",
       "    .dataframe thead th {\n",
       "        text-align: right;\n",
       "    }\n",
       "</style>\n",
       "<table border=\"1\" class=\"dataframe\">\n",
       "  <thead>\n",
       "    <tr style=\"text-align: right;\">\n",
       "      <th></th>\n",
       "      <th>sex_male</th>\n",
       "      <th>smoker_yes</th>\n",
       "      <th>region_northwest</th>\n",
       "      <th>region_southeast</th>\n",
       "      <th>region_southwest</th>\n",
       "    </tr>\n",
       "  </thead>\n",
       "  <tbody>\n",
       "    <tr>\n",
       "      <th>0</th>\n",
       "      <td>1.0</td>\n",
       "      <td>0.0</td>\n",
       "      <td>0.0</td>\n",
       "      <td>0.0</td>\n",
       "      <td>0.0</td>\n",
       "    </tr>\n",
       "    <tr>\n",
       "      <th>1</th>\n",
       "      <td>1.0</td>\n",
       "      <td>0.0</td>\n",
       "      <td>0.0</td>\n",
       "      <td>0.0</td>\n",
       "      <td>0.0</td>\n",
       "    </tr>\n",
       "    <tr>\n",
       "      <th>2</th>\n",
       "      <td>0.0</td>\n",
       "      <td>0.0</td>\n",
       "      <td>1.0</td>\n",
       "      <td>0.0</td>\n",
       "      <td>0.0</td>\n",
       "    </tr>\n",
       "    <tr>\n",
       "      <th>3</th>\n",
       "      <td>1.0</td>\n",
       "      <td>0.0</td>\n",
       "      <td>0.0</td>\n",
       "      <td>1.0</td>\n",
       "      <td>0.0</td>\n",
       "    </tr>\n",
       "    <tr>\n",
       "      <th>4</th>\n",
       "      <td>0.0</td>\n",
       "      <td>0.0</td>\n",
       "      <td>0.0</td>\n",
       "      <td>0.0</td>\n",
       "      <td>0.0</td>\n",
       "    </tr>\n",
       "    <tr>\n",
       "      <th>...</th>\n",
       "      <td>...</td>\n",
       "      <td>...</td>\n",
       "      <td>...</td>\n",
       "      <td>...</td>\n",
       "      <td>...</td>\n",
       "    </tr>\n",
       "    <tr>\n",
       "      <th>1064</th>\n",
       "      <td>0.0</td>\n",
       "      <td>1.0</td>\n",
       "      <td>0.0</td>\n",
       "      <td>0.0</td>\n",
       "      <td>0.0</td>\n",
       "    </tr>\n",
       "    <tr>\n",
       "      <th>1065</th>\n",
       "      <td>1.0</td>\n",
       "      <td>0.0</td>\n",
       "      <td>0.0</td>\n",
       "      <td>0.0</td>\n",
       "      <td>1.0</td>\n",
       "    </tr>\n",
       "    <tr>\n",
       "      <th>1066</th>\n",
       "      <td>1.0</td>\n",
       "      <td>0.0</td>\n",
       "      <td>0.0</td>\n",
       "      <td>0.0</td>\n",
       "      <td>1.0</td>\n",
       "    </tr>\n",
       "    <tr>\n",
       "      <th>1067</th>\n",
       "      <td>0.0</td>\n",
       "      <td>0.0</td>\n",
       "      <td>0.0</td>\n",
       "      <td>0.0</td>\n",
       "      <td>1.0</td>\n",
       "    </tr>\n",
       "    <tr>\n",
       "      <th>1068</th>\n",
       "      <td>0.0</td>\n",
       "      <td>0.0</td>\n",
       "      <td>0.0</td>\n",
       "      <td>1.0</td>\n",
       "      <td>0.0</td>\n",
       "    </tr>\n",
       "  </tbody>\n",
       "</table>\n",
       "<p>1069 rows × 5 columns</p>\n",
       "</div>"
      ],
      "text/plain": [
       "      sex_male  smoker_yes  region_northwest  region_southeast  \\\n",
       "0          1.0         0.0               0.0               0.0   \n",
       "1          1.0         0.0               0.0               0.0   \n",
       "2          0.0         0.0               1.0               0.0   \n",
       "3          1.0         0.0               0.0               1.0   \n",
       "4          0.0         0.0               0.0               0.0   \n",
       "...        ...         ...               ...               ...   \n",
       "1064       0.0         1.0               0.0               0.0   \n",
       "1065       1.0         0.0               0.0               0.0   \n",
       "1066       1.0         0.0               0.0               0.0   \n",
       "1067       0.0         0.0               0.0               0.0   \n",
       "1068       0.0         0.0               0.0               1.0   \n",
       "\n",
       "      region_southwest  \n",
       "0                  0.0  \n",
       "1                  0.0  \n",
       "2                  0.0  \n",
       "3                  0.0  \n",
       "4                  0.0  \n",
       "...                ...  \n",
       "1064               0.0  \n",
       "1065               1.0  \n",
       "1066               1.0  \n",
       "1067               1.0  \n",
       "1068               0.0  \n",
       "\n",
       "[1069 rows x 5 columns]"
      ]
     },
     "execution_count": 24,
     "metadata": {},
     "output_type": "execute_result"
    }
   ],
   "source": [
    "data_ohe_columns"
   ]
  },
  {
   "cell_type": "code",
   "execution_count": 25,
   "id": "acd7c1e3",
   "metadata": {},
   "outputs": [
    {
     "data": {
      "text/plain": [
       "(1069, 5)"
      ]
     },
     "execution_count": 25,
     "metadata": {},
     "output_type": "execute_result"
    }
   ],
   "source": [
    "data_ohe_columns.shape"
   ]
  },
  {
   "cell_type": "code",
   "execution_count": 26,
   "id": "9a428ed1",
   "metadata": {},
   "outputs": [],
   "source": [
    "x_train[feature_names] = data_ohe_columns"
   ]
  },
  {
   "cell_type": "code",
   "execution_count": 27,
   "id": "c4b173f0",
   "metadata": {},
   "outputs": [],
   "source": [
    "x_train.drop(columns=categorical_columns, inplace=True)"
   ]
  },
  {
   "cell_type": "code",
   "execution_count": 28,
   "id": "897930f9",
   "metadata": {},
   "outputs": [
    {
     "data": {
      "text/html": [
       "<div>\n",
       "<style scoped>\n",
       "    .dataframe tbody tr th:only-of-type {\n",
       "        vertical-align: middle;\n",
       "    }\n",
       "\n",
       "    .dataframe tbody tr th {\n",
       "        vertical-align: top;\n",
       "    }\n",
       "\n",
       "    .dataframe thead th {\n",
       "        text-align: right;\n",
       "    }\n",
       "</style>\n",
       "<table border=\"1\" class=\"dataframe\">\n",
       "  <thead>\n",
       "    <tr style=\"text-align: right;\">\n",
       "      <th></th>\n",
       "      <th>age</th>\n",
       "      <th>bmi</th>\n",
       "      <th>children</th>\n",
       "      <th>sex_male</th>\n",
       "      <th>smoker_yes</th>\n",
       "      <th>region_northwest</th>\n",
       "      <th>region_southeast</th>\n",
       "      <th>region_southwest</th>\n",
       "    </tr>\n",
       "  </thead>\n",
       "  <tbody>\n",
       "    <tr>\n",
       "      <th>0</th>\n",
       "      <td>23</td>\n",
       "      <td>24.510</td>\n",
       "      <td>0</td>\n",
       "      <td>1.0</td>\n",
       "      <td>0.0</td>\n",
       "      <td>0.0</td>\n",
       "      <td>0.0</td>\n",
       "      <td>0.0</td>\n",
       "    </tr>\n",
       "    <tr>\n",
       "      <th>1</th>\n",
       "      <td>21</td>\n",
       "      <td>25.745</td>\n",
       "      <td>2</td>\n",
       "      <td>1.0</td>\n",
       "      <td>0.0</td>\n",
       "      <td>0.0</td>\n",
       "      <td>0.0</td>\n",
       "      <td>0.0</td>\n",
       "    </tr>\n",
       "    <tr>\n",
       "      <th>2</th>\n",
       "      <td>52</td>\n",
       "      <td>37.525</td>\n",
       "      <td>2</td>\n",
       "      <td>0.0</td>\n",
       "      <td>0.0</td>\n",
       "      <td>1.0</td>\n",
       "      <td>0.0</td>\n",
       "      <td>0.0</td>\n",
       "    </tr>\n",
       "    <tr>\n",
       "      <th>3</th>\n",
       "      <td>63</td>\n",
       "      <td>41.470</td>\n",
       "      <td>0</td>\n",
       "      <td>1.0</td>\n",
       "      <td>0.0</td>\n",
       "      <td>0.0</td>\n",
       "      <td>1.0</td>\n",
       "      <td>0.0</td>\n",
       "    </tr>\n",
       "    <tr>\n",
       "      <th>4</th>\n",
       "      <td>47</td>\n",
       "      <td>26.600</td>\n",
       "      <td>2</td>\n",
       "      <td>0.0</td>\n",
       "      <td>0.0</td>\n",
       "      <td>0.0</td>\n",
       "      <td>0.0</td>\n",
       "      <td>0.0</td>\n",
       "    </tr>\n",
       "    <tr>\n",
       "      <th>...</th>\n",
       "      <td>...</td>\n",
       "      <td>...</td>\n",
       "      <td>...</td>\n",
       "      <td>...</td>\n",
       "      <td>...</td>\n",
       "      <td>...</td>\n",
       "      <td>...</td>\n",
       "      <td>...</td>\n",
       "    </tr>\n",
       "    <tr>\n",
       "      <th>1064</th>\n",
       "      <td>51</td>\n",
       "      <td>34.960</td>\n",
       "      <td>2</td>\n",
       "      <td>0.0</td>\n",
       "      <td>1.0</td>\n",
       "      <td>0.0</td>\n",
       "      <td>0.0</td>\n",
       "      <td>0.0</td>\n",
       "    </tr>\n",
       "    <tr>\n",
       "      <th>1065</th>\n",
       "      <td>27</td>\n",
       "      <td>45.900</td>\n",
       "      <td>2</td>\n",
       "      <td>1.0</td>\n",
       "      <td>0.0</td>\n",
       "      <td>0.0</td>\n",
       "      <td>0.0</td>\n",
       "      <td>1.0</td>\n",
       "    </tr>\n",
       "    <tr>\n",
       "      <th>1066</th>\n",
       "      <td>20</td>\n",
       "      <td>22.000</td>\n",
       "      <td>1</td>\n",
       "      <td>1.0</td>\n",
       "      <td>0.0</td>\n",
       "      <td>0.0</td>\n",
       "      <td>0.0</td>\n",
       "      <td>1.0</td>\n",
       "    </tr>\n",
       "    <tr>\n",
       "      <th>1067</th>\n",
       "      <td>38</td>\n",
       "      <td>28.000</td>\n",
       "      <td>3</td>\n",
       "      <td>0.0</td>\n",
       "      <td>0.0</td>\n",
       "      <td>0.0</td>\n",
       "      <td>0.0</td>\n",
       "      <td>1.0</td>\n",
       "    </tr>\n",
       "    <tr>\n",
       "      <th>1068</th>\n",
       "      <td>35</td>\n",
       "      <td>35.860</td>\n",
       "      <td>2</td>\n",
       "      <td>0.0</td>\n",
       "      <td>0.0</td>\n",
       "      <td>0.0</td>\n",
       "      <td>1.0</td>\n",
       "      <td>0.0</td>\n",
       "    </tr>\n",
       "  </tbody>\n",
       "</table>\n",
       "<p>1069 rows × 8 columns</p>\n",
       "</div>"
      ],
      "text/plain": [
       "      age     bmi  children  sex_male  smoker_yes  region_northwest  \\\n",
       "0      23  24.510         0       1.0         0.0               0.0   \n",
       "1      21  25.745         2       1.0         0.0               0.0   \n",
       "2      52  37.525         2       0.0         0.0               1.0   \n",
       "3      63  41.470         0       1.0         0.0               0.0   \n",
       "4      47  26.600         2       0.0         0.0               0.0   \n",
       "...   ...     ...       ...       ...         ...               ...   \n",
       "1064   51  34.960         2       0.0         1.0               0.0   \n",
       "1065   27  45.900         2       1.0         0.0               0.0   \n",
       "1066   20  22.000         1       1.0         0.0               0.0   \n",
       "1067   38  28.000         3       0.0         0.0               0.0   \n",
       "1068   35  35.860         2       0.0         0.0               0.0   \n",
       "\n",
       "      region_southeast  region_southwest  \n",
       "0                  0.0               0.0  \n",
       "1                  0.0               0.0  \n",
       "2                  0.0               0.0  \n",
       "3                  1.0               0.0  \n",
       "4                  0.0               0.0  \n",
       "...                ...               ...  \n",
       "1064               0.0               0.0  \n",
       "1065               0.0               1.0  \n",
       "1066               0.0               1.0  \n",
       "1067               0.0               1.0  \n",
       "1068               1.0               0.0  \n",
       "\n",
       "[1069 rows x 8 columns]"
      ]
     },
     "execution_count": 28,
     "metadata": {},
     "output_type": "execute_result"
    }
   ],
   "source": [
    "x_train"
   ]
  },
  {
   "cell_type": "code",
   "execution_count": 29,
   "id": "a106c02f",
   "metadata": {},
   "outputs": [
    {
     "data": {
      "text/plain": [
       "age                 0\n",
       "bmi                 0\n",
       "children            0\n",
       "sex_male            0\n",
       "smoker_yes          0\n",
       "region_northwest    0\n",
       "region_southeast    0\n",
       "region_southwest    0\n",
       "dtype: int64"
      ]
     },
     "execution_count": 29,
     "metadata": {},
     "output_type": "execute_result"
    }
   ],
   "source": [
    "x_train.isna().sum()"
   ]
  },
  {
   "cell_type": "code",
   "execution_count": 30,
   "id": "69d5ae0c",
   "metadata": {},
   "outputs": [
    {
     "data": {
      "text/html": [
       "<div>\n",
       "<style scoped>\n",
       "    .dataframe tbody tr th:only-of-type {\n",
       "        vertical-align: middle;\n",
       "    }\n",
       "\n",
       "    .dataframe tbody tr th {\n",
       "        vertical-align: top;\n",
       "    }\n",
       "\n",
       "    .dataframe thead th {\n",
       "        text-align: right;\n",
       "    }\n",
       "</style>\n",
       "<table border=\"1\" class=\"dataframe\">\n",
       "  <thead>\n",
       "    <tr style=\"text-align: right;\">\n",
       "      <th></th>\n",
       "      <th>age</th>\n",
       "      <th>bmi</th>\n",
       "      <th>children</th>\n",
       "      <th>sex_male</th>\n",
       "      <th>smoker_yes</th>\n",
       "      <th>region_northwest</th>\n",
       "      <th>region_southeast</th>\n",
       "      <th>region_southwest</th>\n",
       "    </tr>\n",
       "  </thead>\n",
       "  <tbody>\n",
       "    <tr>\n",
       "      <th>count</th>\n",
       "      <td>1069.000000</td>\n",
       "      <td>1069.000000</td>\n",
       "      <td>1069.000000</td>\n",
       "      <td>1069.000000</td>\n",
       "      <td>1069.000000</td>\n",
       "      <td>1069.000000</td>\n",
       "      <td>1069.000000</td>\n",
       "      <td>1069.000000</td>\n",
       "    </tr>\n",
       "    <tr>\n",
       "      <th>mean</th>\n",
       "      <td>39.198316</td>\n",
       "      <td>30.540426</td>\n",
       "      <td>1.084191</td>\n",
       "      <td>0.514500</td>\n",
       "      <td>0.200187</td>\n",
       "      <td>0.246960</td>\n",
       "      <td>0.268475</td>\n",
       "      <td>0.247895</td>\n",
       "    </tr>\n",
       "    <tr>\n",
       "      <th>std</th>\n",
       "      <td>13.998594</td>\n",
       "      <td>6.051841</td>\n",
       "      <td>1.194723</td>\n",
       "      <td>0.500024</td>\n",
       "      <td>0.400328</td>\n",
       "      <td>0.431445</td>\n",
       "      <td>0.443374</td>\n",
       "      <td>0.431993</td>\n",
       "    </tr>\n",
       "    <tr>\n",
       "      <th>min</th>\n",
       "      <td>18.000000</td>\n",
       "      <td>15.960000</td>\n",
       "      <td>0.000000</td>\n",
       "      <td>0.000000</td>\n",
       "      <td>0.000000</td>\n",
       "      <td>0.000000</td>\n",
       "      <td>0.000000</td>\n",
       "      <td>0.000000</td>\n",
       "    </tr>\n",
       "    <tr>\n",
       "      <th>25%</th>\n",
       "      <td>27.000000</td>\n",
       "      <td>26.180000</td>\n",
       "      <td>0.000000</td>\n",
       "      <td>0.000000</td>\n",
       "      <td>0.000000</td>\n",
       "      <td>0.000000</td>\n",
       "      <td>0.000000</td>\n",
       "      <td>0.000000</td>\n",
       "    </tr>\n",
       "    <tr>\n",
       "      <th>50%</th>\n",
       "      <td>39.000000</td>\n",
       "      <td>30.200000</td>\n",
       "      <td>1.000000</td>\n",
       "      <td>1.000000</td>\n",
       "      <td>0.000000</td>\n",
       "      <td>0.000000</td>\n",
       "      <td>0.000000</td>\n",
       "      <td>0.000000</td>\n",
       "    </tr>\n",
       "    <tr>\n",
       "      <th>75%</th>\n",
       "      <td>51.000000</td>\n",
       "      <td>34.430000</td>\n",
       "      <td>2.000000</td>\n",
       "      <td>1.000000</td>\n",
       "      <td>0.000000</td>\n",
       "      <td>0.000000</td>\n",
       "      <td>1.000000</td>\n",
       "      <td>0.000000</td>\n",
       "    </tr>\n",
       "    <tr>\n",
       "      <th>max</th>\n",
       "      <td>64.000000</td>\n",
       "      <td>53.130000</td>\n",
       "      <td>5.000000</td>\n",
       "      <td>1.000000</td>\n",
       "      <td>1.000000</td>\n",
       "      <td>1.000000</td>\n",
       "      <td>1.000000</td>\n",
       "      <td>1.000000</td>\n",
       "    </tr>\n",
       "  </tbody>\n",
       "</table>\n",
       "</div>"
      ],
      "text/plain": [
       "               age          bmi     children     sex_male   smoker_yes  \\\n",
       "count  1069.000000  1069.000000  1069.000000  1069.000000  1069.000000   \n",
       "mean     39.198316    30.540426     1.084191     0.514500     0.200187   \n",
       "std      13.998594     6.051841     1.194723     0.500024     0.400328   \n",
       "min      18.000000    15.960000     0.000000     0.000000     0.000000   \n",
       "25%      27.000000    26.180000     0.000000     0.000000     0.000000   \n",
       "50%      39.000000    30.200000     1.000000     1.000000     0.000000   \n",
       "75%      51.000000    34.430000     2.000000     1.000000     0.000000   \n",
       "max      64.000000    53.130000     5.000000     1.000000     1.000000   \n",
       "\n",
       "       region_northwest  region_southeast  region_southwest  \n",
       "count       1069.000000       1069.000000       1069.000000  \n",
       "mean           0.246960          0.268475          0.247895  \n",
       "std            0.431445          0.443374          0.431993  \n",
       "min            0.000000          0.000000          0.000000  \n",
       "25%            0.000000          0.000000          0.000000  \n",
       "50%            0.000000          0.000000          0.000000  \n",
       "75%            0.000000          1.000000          0.000000  \n",
       "max            1.000000          1.000000          1.000000  "
      ]
     },
     "execution_count": 30,
     "metadata": {},
     "output_type": "execute_result"
    }
   ],
   "source": [
    "x_train.describe()"
   ]
  },
  {
   "cell_type": "code",
   "execution_count": 31,
   "id": "87d04bd1",
   "metadata": {},
   "outputs": [],
   "source": [
    "# Apply standerdscaler\n",
    "\n",
    "from sklearn.preprocessing import StandardScaler\n",
    "scaler = StandardScaler()"
   ]
  },
  {
   "cell_type": "code",
   "execution_count": 32,
   "id": "dd0b8cb2",
   "metadata": {},
   "outputs": [],
   "source": [
    "x_train[numerical_columns] = scaler.fit_transform(x_train[numerical_columns])"
   ]
  },
  {
   "cell_type": "code",
   "execution_count": 33,
   "id": "147dbd44",
   "metadata": {},
   "outputs": [
    {
     "data": {
      "text/html": [
       "<div>\n",
       "<style scoped>\n",
       "    .dataframe tbody tr th:only-of-type {\n",
       "        vertical-align: middle;\n",
       "    }\n",
       "\n",
       "    .dataframe tbody tr th {\n",
       "        vertical-align: top;\n",
       "    }\n",
       "\n",
       "    .dataframe thead th {\n",
       "        text-align: right;\n",
       "    }\n",
       "</style>\n",
       "<table border=\"1\" class=\"dataframe\">\n",
       "  <thead>\n",
       "    <tr style=\"text-align: right;\">\n",
       "      <th></th>\n",
       "      <th>age</th>\n",
       "      <th>bmi</th>\n",
       "      <th>children</th>\n",
       "      <th>sex_male</th>\n",
       "      <th>smoker_yes</th>\n",
       "      <th>region_northwest</th>\n",
       "      <th>region_southeast</th>\n",
       "      <th>region_southwest</th>\n",
       "    </tr>\n",
       "  </thead>\n",
       "  <tbody>\n",
       "    <tr>\n",
       "      <th>0</th>\n",
       "      <td>-1.157680</td>\n",
       "      <td>-0.996928</td>\n",
       "      <td>-0.907908</td>\n",
       "      <td>1.0</td>\n",
       "      <td>0.0</td>\n",
       "      <td>0.0</td>\n",
       "      <td>0.0</td>\n",
       "      <td>0.0</td>\n",
       "    </tr>\n",
       "    <tr>\n",
       "      <th>1</th>\n",
       "      <td>-1.300619</td>\n",
       "      <td>-0.792762</td>\n",
       "      <td>0.766904</td>\n",
       "      <td>1.0</td>\n",
       "      <td>0.0</td>\n",
       "      <td>0.0</td>\n",
       "      <td>0.0</td>\n",
       "      <td>0.0</td>\n",
       "    </tr>\n",
       "    <tr>\n",
       "      <th>2</th>\n",
       "      <td>0.914926</td>\n",
       "      <td>1.154664</td>\n",
       "      <td>0.766904</td>\n",
       "      <td>0.0</td>\n",
       "      <td>0.0</td>\n",
       "      <td>1.0</td>\n",
       "      <td>0.0</td>\n",
       "      <td>0.0</td>\n",
       "    </tr>\n",
       "    <tr>\n",
       "      <th>3</th>\n",
       "      <td>1.701087</td>\n",
       "      <td>1.806837</td>\n",
       "      <td>-0.907908</td>\n",
       "      <td>1.0</td>\n",
       "      <td>0.0</td>\n",
       "      <td>0.0</td>\n",
       "      <td>1.0</td>\n",
       "      <td>0.0</td>\n",
       "    </tr>\n",
       "    <tr>\n",
       "      <th>4</th>\n",
       "      <td>0.557580</td>\n",
       "      <td>-0.651417</td>\n",
       "      <td>0.766904</td>\n",
       "      <td>0.0</td>\n",
       "      <td>0.0</td>\n",
       "      <td>0.0</td>\n",
       "      <td>0.0</td>\n",
       "      <td>0.0</td>\n",
       "    </tr>\n",
       "    <tr>\n",
       "      <th>...</th>\n",
       "      <td>...</td>\n",
       "      <td>...</td>\n",
       "      <td>...</td>\n",
       "      <td>...</td>\n",
       "      <td>...</td>\n",
       "      <td>...</td>\n",
       "      <td>...</td>\n",
       "      <td>...</td>\n",
       "    </tr>\n",
       "    <tr>\n",
       "      <th>1064</th>\n",
       "      <td>0.843457</td>\n",
       "      <td>0.730628</td>\n",
       "      <td>0.766904</td>\n",
       "      <td>0.0</td>\n",
       "      <td>1.0</td>\n",
       "      <td>0.0</td>\n",
       "      <td>0.0</td>\n",
       "      <td>0.0</td>\n",
       "    </tr>\n",
       "    <tr>\n",
       "      <th>1065</th>\n",
       "      <td>-0.871804</td>\n",
       "      <td>2.539188</td>\n",
       "      <td>0.766904</td>\n",
       "      <td>1.0</td>\n",
       "      <td>0.0</td>\n",
       "      <td>0.0</td>\n",
       "      <td>0.0</td>\n",
       "      <td>1.0</td>\n",
       "    </tr>\n",
       "    <tr>\n",
       "      <th>1066</th>\n",
       "      <td>-1.372088</td>\n",
       "      <td>-1.411872</td>\n",
       "      <td>-0.070502</td>\n",
       "      <td>1.0</td>\n",
       "      <td>0.0</td>\n",
       "      <td>0.0</td>\n",
       "      <td>0.0</td>\n",
       "      <td>1.0</td>\n",
       "    </tr>\n",
       "    <tr>\n",
       "      <th>1067</th>\n",
       "      <td>-0.085643</td>\n",
       "      <td>-0.419974</td>\n",
       "      <td>1.604310</td>\n",
       "      <td>0.0</td>\n",
       "      <td>0.0</td>\n",
       "      <td>0.0</td>\n",
       "      <td>0.0</td>\n",
       "      <td>1.0</td>\n",
       "    </tr>\n",
       "    <tr>\n",
       "      <th>1068</th>\n",
       "      <td>-0.300050</td>\n",
       "      <td>0.879412</td>\n",
       "      <td>0.766904</td>\n",
       "      <td>0.0</td>\n",
       "      <td>0.0</td>\n",
       "      <td>0.0</td>\n",
       "      <td>1.0</td>\n",
       "      <td>0.0</td>\n",
       "    </tr>\n",
       "  </tbody>\n",
       "</table>\n",
       "<p>1069 rows × 8 columns</p>\n",
       "</div>"
      ],
      "text/plain": [
       "           age       bmi  children  sex_male  smoker_yes  region_northwest  \\\n",
       "0    -1.157680 -0.996928 -0.907908       1.0         0.0               0.0   \n",
       "1    -1.300619 -0.792762  0.766904       1.0         0.0               0.0   \n",
       "2     0.914926  1.154664  0.766904       0.0         0.0               1.0   \n",
       "3     1.701087  1.806837 -0.907908       1.0         0.0               0.0   \n",
       "4     0.557580 -0.651417  0.766904       0.0         0.0               0.0   \n",
       "...        ...       ...       ...       ...         ...               ...   \n",
       "1064  0.843457  0.730628  0.766904       0.0         1.0               0.0   \n",
       "1065 -0.871804  2.539188  0.766904       1.0         0.0               0.0   \n",
       "1066 -1.372088 -1.411872 -0.070502       1.0         0.0               0.0   \n",
       "1067 -0.085643 -0.419974  1.604310       0.0         0.0               0.0   \n",
       "1068 -0.300050  0.879412  0.766904       0.0         0.0               0.0   \n",
       "\n",
       "      region_southeast  region_southwest  \n",
       "0                  0.0               0.0  \n",
       "1                  0.0               0.0  \n",
       "2                  0.0               0.0  \n",
       "3                  1.0               0.0  \n",
       "4                  0.0               0.0  \n",
       "...                ...               ...  \n",
       "1064               0.0               0.0  \n",
       "1065               0.0               1.0  \n",
       "1066               0.0               1.0  \n",
       "1067               0.0               1.0  \n",
       "1068               1.0               0.0  \n",
       "\n",
       "[1069 rows x 8 columns]"
      ]
     },
     "execution_count": 33,
     "metadata": {},
     "output_type": "execute_result"
    }
   ],
   "source": [
    "x_train"
   ]
  },
  {
   "cell_type": "markdown",
   "id": "8bbea24c",
   "metadata": {},
   "source": [
    "For test"
   ]
  },
  {
   "cell_type": "code",
   "execution_count": 34,
   "id": "16effaca",
   "metadata": {},
   "outputs": [
    {
     "data": {
      "text/html": [
       "<div>\n",
       "<style scoped>\n",
       "    .dataframe tbody tr th:only-of-type {\n",
       "        vertical-align: middle;\n",
       "    }\n",
       "\n",
       "    .dataframe tbody tr th {\n",
       "        vertical-align: top;\n",
       "    }\n",
       "\n",
       "    .dataframe thead th {\n",
       "        text-align: right;\n",
       "    }\n",
       "</style>\n",
       "<table border=\"1\" class=\"dataframe\">\n",
       "  <thead>\n",
       "    <tr style=\"text-align: right;\">\n",
       "      <th></th>\n",
       "      <th>age</th>\n",
       "      <th>sex</th>\n",
       "      <th>bmi</th>\n",
       "      <th>children</th>\n",
       "      <th>smoker</th>\n",
       "      <th>region</th>\n",
       "    </tr>\n",
       "  </thead>\n",
       "  <tbody>\n",
       "    <tr>\n",
       "      <th>0</th>\n",
       "      <td>49</td>\n",
       "      <td>male</td>\n",
       "      <td>22.515</td>\n",
       "      <td>0</td>\n",
       "      <td>no</td>\n",
       "      <td>northeast</td>\n",
       "    </tr>\n",
       "    <tr>\n",
       "      <th>1</th>\n",
       "      <td>29</td>\n",
       "      <td>female</td>\n",
       "      <td>25.600</td>\n",
       "      <td>4</td>\n",
       "      <td>no</td>\n",
       "      <td>southwest</td>\n",
       "    </tr>\n",
       "    <tr>\n",
       "      <th>2</th>\n",
       "      <td>51</td>\n",
       "      <td>female</td>\n",
       "      <td>36.385</td>\n",
       "      <td>3</td>\n",
       "      <td>no</td>\n",
       "      <td>northwest</td>\n",
       "    </tr>\n",
       "    <tr>\n",
       "      <th>3</th>\n",
       "      <td>31</td>\n",
       "      <td>male</td>\n",
       "      <td>34.390</td>\n",
       "      <td>3</td>\n",
       "      <td>yes</td>\n",
       "      <td>northwest</td>\n",
       "    </tr>\n",
       "    <tr>\n",
       "      <th>4</th>\n",
       "      <td>31</td>\n",
       "      <td>male</td>\n",
       "      <td>38.390</td>\n",
       "      <td>2</td>\n",
       "      <td>no</td>\n",
       "      <td>southeast</td>\n",
       "    </tr>\n",
       "    <tr>\n",
       "      <th>...</th>\n",
       "      <td>...</td>\n",
       "      <td>...</td>\n",
       "      <td>...</td>\n",
       "      <td>...</td>\n",
       "      <td>...</td>\n",
       "      <td>...</td>\n",
       "    </tr>\n",
       "    <tr>\n",
       "      <th>263</th>\n",
       "      <td>64</td>\n",
       "      <td>male</td>\n",
       "      <td>40.480</td>\n",
       "      <td>0</td>\n",
       "      <td>no</td>\n",
       "      <td>southeast</td>\n",
       "    </tr>\n",
       "    <tr>\n",
       "      <th>264</th>\n",
       "      <td>63</td>\n",
       "      <td>female</td>\n",
       "      <td>36.300</td>\n",
       "      <td>0</td>\n",
       "      <td>no</td>\n",
       "      <td>southeast</td>\n",
       "    </tr>\n",
       "    <tr>\n",
       "      <th>265</th>\n",
       "      <td>22</td>\n",
       "      <td>female</td>\n",
       "      <td>34.580</td>\n",
       "      <td>2</td>\n",
       "      <td>no</td>\n",
       "      <td>northeast</td>\n",
       "    </tr>\n",
       "    <tr>\n",
       "      <th>266</th>\n",
       "      <td>61</td>\n",
       "      <td>male</td>\n",
       "      <td>36.300</td>\n",
       "      <td>1</td>\n",
       "      <td>yes</td>\n",
       "      <td>southwest</td>\n",
       "    </tr>\n",
       "    <tr>\n",
       "      <th>267</th>\n",
       "      <td>47</td>\n",
       "      <td>female</td>\n",
       "      <td>24.320</td>\n",
       "      <td>0</td>\n",
       "      <td>no</td>\n",
       "      <td>northeast</td>\n",
       "    </tr>\n",
       "  </tbody>\n",
       "</table>\n",
       "<p>268 rows × 6 columns</p>\n",
       "</div>"
      ],
      "text/plain": [
       "     age     sex     bmi  children smoker     region\n",
       "0     49    male  22.515         0     no  northeast\n",
       "1     29  female  25.600         4     no  southwest\n",
       "2     51  female  36.385         3     no  northwest\n",
       "3     31    male  34.390         3    yes  northwest\n",
       "4     31    male  38.390         2     no  southeast\n",
       "..   ...     ...     ...       ...    ...        ...\n",
       "263   64    male  40.480         0     no  southeast\n",
       "264   63  female  36.300         0     no  southeast\n",
       "265   22  female  34.580         2     no  northeast\n",
       "266   61    male  36.300         1    yes  southwest\n",
       "267   47  female  24.320         0     no  northeast\n",
       "\n",
       "[268 rows x 6 columns]"
      ]
     },
     "execution_count": 34,
     "metadata": {},
     "output_type": "execute_result"
    }
   ],
   "source": [
    "x_test"
   ]
  },
  {
   "cell_type": "code",
   "execution_count": 35,
   "id": "41ba6b7f",
   "metadata": {},
   "outputs": [],
   "source": [
    "# Apply OneHot Encoding\n",
    "x_test_encoded = ohe.transform(x_test[categorical_columns])"
   ]
  },
  {
   "cell_type": "code",
   "execution_count": 36,
   "id": "262bb3a0",
   "metadata": {},
   "outputs": [],
   "source": [
    "x_test_encoded = pd.DataFrame(x_test_encoded, columns=feature_names)"
   ]
  },
  {
   "cell_type": "code",
   "execution_count": 37,
   "id": "00df74a8",
   "metadata": {},
   "outputs": [],
   "source": [
    "x_test[feature_names] = x_test_encoded"
   ]
  },
  {
   "cell_type": "code",
   "execution_count": 38,
   "id": "4d18a465",
   "metadata": {},
   "outputs": [],
   "source": [
    "x_test.drop(columns=categorical_columns, inplace=True)"
   ]
  },
  {
   "cell_type": "code",
   "execution_count": 39,
   "id": "7345db27",
   "metadata": {},
   "outputs": [
    {
     "data": {
      "text/html": [
       "<div>\n",
       "<style scoped>\n",
       "    .dataframe tbody tr th:only-of-type {\n",
       "        vertical-align: middle;\n",
       "    }\n",
       "\n",
       "    .dataframe tbody tr th {\n",
       "        vertical-align: top;\n",
       "    }\n",
       "\n",
       "    .dataframe thead th {\n",
       "        text-align: right;\n",
       "    }\n",
       "</style>\n",
       "<table border=\"1\" class=\"dataframe\">\n",
       "  <thead>\n",
       "    <tr style=\"text-align: right;\">\n",
       "      <th></th>\n",
       "      <th>age</th>\n",
       "      <th>bmi</th>\n",
       "      <th>children</th>\n",
       "      <th>sex_male</th>\n",
       "      <th>smoker_yes</th>\n",
       "      <th>region_northwest</th>\n",
       "      <th>region_southeast</th>\n",
       "      <th>region_southwest</th>\n",
       "    </tr>\n",
       "  </thead>\n",
       "  <tbody>\n",
       "    <tr>\n",
       "      <th>0</th>\n",
       "      <td>49</td>\n",
       "      <td>22.515</td>\n",
       "      <td>0</td>\n",
       "      <td>1.0</td>\n",
       "      <td>0.0</td>\n",
       "      <td>0.0</td>\n",
       "      <td>0.0</td>\n",
       "      <td>0.0</td>\n",
       "    </tr>\n",
       "    <tr>\n",
       "      <th>1</th>\n",
       "      <td>29</td>\n",
       "      <td>25.600</td>\n",
       "      <td>4</td>\n",
       "      <td>0.0</td>\n",
       "      <td>0.0</td>\n",
       "      <td>0.0</td>\n",
       "      <td>0.0</td>\n",
       "      <td>1.0</td>\n",
       "    </tr>\n",
       "    <tr>\n",
       "      <th>2</th>\n",
       "      <td>51</td>\n",
       "      <td>36.385</td>\n",
       "      <td>3</td>\n",
       "      <td>0.0</td>\n",
       "      <td>0.0</td>\n",
       "      <td>1.0</td>\n",
       "      <td>0.0</td>\n",
       "      <td>0.0</td>\n",
       "    </tr>\n",
       "    <tr>\n",
       "      <th>3</th>\n",
       "      <td>31</td>\n",
       "      <td>34.390</td>\n",
       "      <td>3</td>\n",
       "      <td>1.0</td>\n",
       "      <td>1.0</td>\n",
       "      <td>1.0</td>\n",
       "      <td>0.0</td>\n",
       "      <td>0.0</td>\n",
       "    </tr>\n",
       "    <tr>\n",
       "      <th>4</th>\n",
       "      <td>31</td>\n",
       "      <td>38.390</td>\n",
       "      <td>2</td>\n",
       "      <td>1.0</td>\n",
       "      <td>0.0</td>\n",
       "      <td>0.0</td>\n",
       "      <td>1.0</td>\n",
       "      <td>0.0</td>\n",
       "    </tr>\n",
       "    <tr>\n",
       "      <th>...</th>\n",
       "      <td>...</td>\n",
       "      <td>...</td>\n",
       "      <td>...</td>\n",
       "      <td>...</td>\n",
       "      <td>...</td>\n",
       "      <td>...</td>\n",
       "      <td>...</td>\n",
       "      <td>...</td>\n",
       "    </tr>\n",
       "    <tr>\n",
       "      <th>263</th>\n",
       "      <td>64</td>\n",
       "      <td>40.480</td>\n",
       "      <td>0</td>\n",
       "      <td>1.0</td>\n",
       "      <td>0.0</td>\n",
       "      <td>0.0</td>\n",
       "      <td>1.0</td>\n",
       "      <td>0.0</td>\n",
       "    </tr>\n",
       "    <tr>\n",
       "      <th>264</th>\n",
       "      <td>63</td>\n",
       "      <td>36.300</td>\n",
       "      <td>0</td>\n",
       "      <td>0.0</td>\n",
       "      <td>0.0</td>\n",
       "      <td>0.0</td>\n",
       "      <td>1.0</td>\n",
       "      <td>0.0</td>\n",
       "    </tr>\n",
       "    <tr>\n",
       "      <th>265</th>\n",
       "      <td>22</td>\n",
       "      <td>34.580</td>\n",
       "      <td>2</td>\n",
       "      <td>0.0</td>\n",
       "      <td>0.0</td>\n",
       "      <td>0.0</td>\n",
       "      <td>0.0</td>\n",
       "      <td>0.0</td>\n",
       "    </tr>\n",
       "    <tr>\n",
       "      <th>266</th>\n",
       "      <td>61</td>\n",
       "      <td>36.300</td>\n",
       "      <td>1</td>\n",
       "      <td>1.0</td>\n",
       "      <td>1.0</td>\n",
       "      <td>0.0</td>\n",
       "      <td>0.0</td>\n",
       "      <td>1.0</td>\n",
       "    </tr>\n",
       "    <tr>\n",
       "      <th>267</th>\n",
       "      <td>47</td>\n",
       "      <td>24.320</td>\n",
       "      <td>0</td>\n",
       "      <td>0.0</td>\n",
       "      <td>0.0</td>\n",
       "      <td>0.0</td>\n",
       "      <td>0.0</td>\n",
       "      <td>0.0</td>\n",
       "    </tr>\n",
       "  </tbody>\n",
       "</table>\n",
       "<p>268 rows × 8 columns</p>\n",
       "</div>"
      ],
      "text/plain": [
       "     age     bmi  children  sex_male  smoker_yes  region_northwest  \\\n",
       "0     49  22.515         0       1.0         0.0               0.0   \n",
       "1     29  25.600         4       0.0         0.0               0.0   \n",
       "2     51  36.385         3       0.0         0.0               1.0   \n",
       "3     31  34.390         3       1.0         1.0               1.0   \n",
       "4     31  38.390         2       1.0         0.0               0.0   \n",
       "..   ...     ...       ...       ...         ...               ...   \n",
       "263   64  40.480         0       1.0         0.0               0.0   \n",
       "264   63  36.300         0       0.0         0.0               0.0   \n",
       "265   22  34.580         2       0.0         0.0               0.0   \n",
       "266   61  36.300         1       1.0         1.0               0.0   \n",
       "267   47  24.320         0       0.0         0.0               0.0   \n",
       "\n",
       "     region_southeast  region_southwest  \n",
       "0                 0.0               0.0  \n",
       "1                 0.0               1.0  \n",
       "2                 0.0               0.0  \n",
       "3                 0.0               0.0  \n",
       "4                 1.0               0.0  \n",
       "..                ...               ...  \n",
       "263               1.0               0.0  \n",
       "264               1.0               0.0  \n",
       "265               0.0               0.0  \n",
       "266               0.0               1.0  \n",
       "267               0.0               0.0  \n",
       "\n",
       "[268 rows x 8 columns]"
      ]
     },
     "execution_count": 39,
     "metadata": {},
     "output_type": "execute_result"
    }
   ],
   "source": [
    "x_test"
   ]
  },
  {
   "cell_type": "code",
   "execution_count": 40,
   "id": "923dc39d",
   "metadata": {},
   "outputs": [],
   "source": [
    "# Apply standerdscaler\n",
    "x_test[numerical_columns] = scaler.transform(x_test[numerical_columns])"
   ]
  },
  {
   "cell_type": "code",
   "execution_count": 41,
   "id": "8f5cb0bc",
   "metadata": {},
   "outputs": [
    {
     "data": {
      "text/html": [
       "<div>\n",
       "<style scoped>\n",
       "    .dataframe tbody tr th:only-of-type {\n",
       "        vertical-align: middle;\n",
       "    }\n",
       "\n",
       "    .dataframe tbody tr th {\n",
       "        vertical-align: top;\n",
       "    }\n",
       "\n",
       "    .dataframe thead th {\n",
       "        text-align: right;\n",
       "    }\n",
       "</style>\n",
       "<table border=\"1\" class=\"dataframe\">\n",
       "  <thead>\n",
       "    <tr style=\"text-align: right;\">\n",
       "      <th></th>\n",
       "      <th>age</th>\n",
       "      <th>bmi</th>\n",
       "      <th>children</th>\n",
       "      <th>sex_male</th>\n",
       "      <th>smoker_yes</th>\n",
       "      <th>region_northwest</th>\n",
       "      <th>region_southeast</th>\n",
       "      <th>region_southwest</th>\n",
       "    </tr>\n",
       "  </thead>\n",
       "  <tbody>\n",
       "    <tr>\n",
       "      <th>0</th>\n",
       "      <td>0.700518</td>\n",
       "      <td>-1.326734</td>\n",
       "      <td>-0.907908</td>\n",
       "      <td>1.0</td>\n",
       "      <td>0.0</td>\n",
       "      <td>0.0</td>\n",
       "      <td>0.0</td>\n",
       "      <td>0.0</td>\n",
       "    </tr>\n",
       "    <tr>\n",
       "      <th>1</th>\n",
       "      <td>-0.728865</td>\n",
       "      <td>-0.816733</td>\n",
       "      <td>2.441716</td>\n",
       "      <td>0.0</td>\n",
       "      <td>0.0</td>\n",
       "      <td>0.0</td>\n",
       "      <td>0.0</td>\n",
       "      <td>1.0</td>\n",
       "    </tr>\n",
       "    <tr>\n",
       "      <th>2</th>\n",
       "      <td>0.843457</td>\n",
       "      <td>0.966203</td>\n",
       "      <td>1.604310</td>\n",
       "      <td>0.0</td>\n",
       "      <td>0.0</td>\n",
       "      <td>1.0</td>\n",
       "      <td>0.0</td>\n",
       "      <td>0.0</td>\n",
       "    </tr>\n",
       "    <tr>\n",
       "      <th>3</th>\n",
       "      <td>-0.585927</td>\n",
       "      <td>0.636397</td>\n",
       "      <td>1.604310</td>\n",
       "      <td>1.0</td>\n",
       "      <td>1.0</td>\n",
       "      <td>1.0</td>\n",
       "      <td>0.0</td>\n",
       "      <td>0.0</td>\n",
       "    </tr>\n",
       "    <tr>\n",
       "      <th>4</th>\n",
       "      <td>-0.585927</td>\n",
       "      <td>1.297663</td>\n",
       "      <td>0.766904</td>\n",
       "      <td>1.0</td>\n",
       "      <td>0.0</td>\n",
       "      <td>0.0</td>\n",
       "      <td>1.0</td>\n",
       "      <td>0.0</td>\n",
       "    </tr>\n",
       "    <tr>\n",
       "      <th>...</th>\n",
       "      <td>...</td>\n",
       "      <td>...</td>\n",
       "      <td>...</td>\n",
       "      <td>...</td>\n",
       "      <td>...</td>\n",
       "      <td>...</td>\n",
       "      <td>...</td>\n",
       "      <td>...</td>\n",
       "    </tr>\n",
       "    <tr>\n",
       "      <th>263</th>\n",
       "      <td>1.772556</td>\n",
       "      <td>1.643174</td>\n",
       "      <td>-0.907908</td>\n",
       "      <td>1.0</td>\n",
       "      <td>0.0</td>\n",
       "      <td>0.0</td>\n",
       "      <td>1.0</td>\n",
       "      <td>0.0</td>\n",
       "    </tr>\n",
       "    <tr>\n",
       "      <th>264</th>\n",
       "      <td>1.701087</td>\n",
       "      <td>0.952152</td>\n",
       "      <td>-0.907908</td>\n",
       "      <td>0.0</td>\n",
       "      <td>0.0</td>\n",
       "      <td>0.0</td>\n",
       "      <td>1.0</td>\n",
       "      <td>0.0</td>\n",
       "    </tr>\n",
       "    <tr>\n",
       "      <th>265</th>\n",
       "      <td>-1.229150</td>\n",
       "      <td>0.667808</td>\n",
       "      <td>0.766904</td>\n",
       "      <td>0.0</td>\n",
       "      <td>0.0</td>\n",
       "      <td>0.0</td>\n",
       "      <td>0.0</td>\n",
       "      <td>0.0</td>\n",
       "    </tr>\n",
       "    <tr>\n",
       "      <th>266</th>\n",
       "      <td>1.558148</td>\n",
       "      <td>0.952152</td>\n",
       "      <td>-0.070502</td>\n",
       "      <td>1.0</td>\n",
       "      <td>1.0</td>\n",
       "      <td>0.0</td>\n",
       "      <td>0.0</td>\n",
       "      <td>1.0</td>\n",
       "    </tr>\n",
       "    <tr>\n",
       "      <th>267</th>\n",
       "      <td>0.557580</td>\n",
       "      <td>-1.028338</td>\n",
       "      <td>-0.907908</td>\n",
       "      <td>0.0</td>\n",
       "      <td>0.0</td>\n",
       "      <td>0.0</td>\n",
       "      <td>0.0</td>\n",
       "      <td>0.0</td>\n",
       "    </tr>\n",
       "  </tbody>\n",
       "</table>\n",
       "<p>268 rows × 8 columns</p>\n",
       "</div>"
      ],
      "text/plain": [
       "          age       bmi  children  sex_male  smoker_yes  region_northwest  \\\n",
       "0    0.700518 -1.326734 -0.907908       1.0         0.0               0.0   \n",
       "1   -0.728865 -0.816733  2.441716       0.0         0.0               0.0   \n",
       "2    0.843457  0.966203  1.604310       0.0         0.0               1.0   \n",
       "3   -0.585927  0.636397  1.604310       1.0         1.0               1.0   \n",
       "4   -0.585927  1.297663  0.766904       1.0         0.0               0.0   \n",
       "..        ...       ...       ...       ...         ...               ...   \n",
       "263  1.772556  1.643174 -0.907908       1.0         0.0               0.0   \n",
       "264  1.701087  0.952152 -0.907908       0.0         0.0               0.0   \n",
       "265 -1.229150  0.667808  0.766904       0.0         0.0               0.0   \n",
       "266  1.558148  0.952152 -0.070502       1.0         1.0               0.0   \n",
       "267  0.557580 -1.028338 -0.907908       0.0         0.0               0.0   \n",
       "\n",
       "     region_southeast  region_southwest  \n",
       "0                 0.0               0.0  \n",
       "1                 0.0               1.0  \n",
       "2                 0.0               0.0  \n",
       "3                 0.0               0.0  \n",
       "4                 1.0               0.0  \n",
       "..                ...               ...  \n",
       "263               1.0               0.0  \n",
       "264               1.0               0.0  \n",
       "265               0.0               0.0  \n",
       "266               0.0               1.0  \n",
       "267               0.0               0.0  \n",
       "\n",
       "[268 rows x 8 columns]"
      ]
     },
     "execution_count": 41,
     "metadata": {},
     "output_type": "execute_result"
    }
   ],
   "source": [
    "x_test"
   ]
  },
  {
   "cell_type": "markdown",
   "id": "b95ca51b",
   "metadata": {},
   "source": [
    "### Model Building"
   ]
  },
  {
   "cell_type": "markdown",
   "id": "585c7b96",
   "metadata": {},
   "source": [
    "1. Random Forest Regressor"
   ]
  },
  {
   "cell_type": "code",
   "execution_count": 42,
   "id": "dacfc534",
   "metadata": {},
   "outputs": [],
   "source": [
    "# Import random forest Regression\n",
    "\n",
    "from sklearn.ensemble import RandomForestRegressor"
   ]
  },
  {
   "cell_type": "code",
   "execution_count": 43,
   "id": "c2475ec5",
   "metadata": {},
   "outputs": [],
   "source": [
    "rfr_model = RandomForestRegressor()"
   ]
  },
  {
   "cell_type": "code",
   "execution_count": 44,
   "id": "b531375e",
   "metadata": {},
   "outputs": [
    {
     "data": {
      "text/html": [
       "<style>#sk-container-id-1 {color: black;}#sk-container-id-1 pre{padding: 0;}#sk-container-id-1 div.sk-toggleable {background-color: white;}#sk-container-id-1 label.sk-toggleable__label {cursor: pointer;display: block;width: 100%;margin-bottom: 0;padding: 0.3em;box-sizing: border-box;text-align: center;}#sk-container-id-1 label.sk-toggleable__label-arrow:before {content: \"▸\";float: left;margin-right: 0.25em;color: #696969;}#sk-container-id-1 label.sk-toggleable__label-arrow:hover:before {color: black;}#sk-container-id-1 div.sk-estimator:hover label.sk-toggleable__label-arrow:before {color: black;}#sk-container-id-1 div.sk-toggleable__content {max-height: 0;max-width: 0;overflow: hidden;text-align: left;background-color: #f0f8ff;}#sk-container-id-1 div.sk-toggleable__content pre {margin: 0.2em;color: black;border-radius: 0.25em;background-color: #f0f8ff;}#sk-container-id-1 input.sk-toggleable__control:checked~div.sk-toggleable__content {max-height: 200px;max-width: 100%;overflow: auto;}#sk-container-id-1 input.sk-toggleable__control:checked~label.sk-toggleable__label-arrow:before {content: \"▾\";}#sk-container-id-1 div.sk-estimator input.sk-toggleable__control:checked~label.sk-toggleable__label {background-color: #d4ebff;}#sk-container-id-1 div.sk-label input.sk-toggleable__control:checked~label.sk-toggleable__label {background-color: #d4ebff;}#sk-container-id-1 input.sk-hidden--visually {border: 0;clip: rect(1px 1px 1px 1px);clip: rect(1px, 1px, 1px, 1px);height: 1px;margin: -1px;overflow: hidden;padding: 0;position: absolute;width: 1px;}#sk-container-id-1 div.sk-estimator {font-family: monospace;background-color: #f0f8ff;border: 1px dotted black;border-radius: 0.25em;box-sizing: border-box;margin-bottom: 0.5em;}#sk-container-id-1 div.sk-estimator:hover {background-color: #d4ebff;}#sk-container-id-1 div.sk-parallel-item::after {content: \"\";width: 100%;border-bottom: 1px solid gray;flex-grow: 1;}#sk-container-id-1 div.sk-label:hover label.sk-toggleable__label {background-color: #d4ebff;}#sk-container-id-1 div.sk-serial::before {content: \"\";position: absolute;border-left: 1px solid gray;box-sizing: border-box;top: 0;bottom: 0;left: 50%;z-index: 0;}#sk-container-id-1 div.sk-serial {display: flex;flex-direction: column;align-items: center;background-color: white;padding-right: 0.2em;padding-left: 0.2em;position: relative;}#sk-container-id-1 div.sk-item {position: relative;z-index: 1;}#sk-container-id-1 div.sk-parallel {display: flex;align-items: stretch;justify-content: center;background-color: white;position: relative;}#sk-container-id-1 div.sk-item::before, #sk-container-id-1 div.sk-parallel-item::before {content: \"\";position: absolute;border-left: 1px solid gray;box-sizing: border-box;top: 0;bottom: 0;left: 50%;z-index: -1;}#sk-container-id-1 div.sk-parallel-item {display: flex;flex-direction: column;z-index: 1;position: relative;background-color: white;}#sk-container-id-1 div.sk-parallel-item:first-child::after {align-self: flex-end;width: 50%;}#sk-container-id-1 div.sk-parallel-item:last-child::after {align-self: flex-start;width: 50%;}#sk-container-id-1 div.sk-parallel-item:only-child::after {width: 0;}#sk-container-id-1 div.sk-dashed-wrapped {border: 1px dashed gray;margin: 0 0.4em 0.5em 0.4em;box-sizing: border-box;padding-bottom: 0.4em;background-color: white;}#sk-container-id-1 div.sk-label label {font-family: monospace;font-weight: bold;display: inline-block;line-height: 1.2em;}#sk-container-id-1 div.sk-label-container {text-align: center;}#sk-container-id-1 div.sk-container {/* jupyter's `normalize.less` sets `[hidden] { display: none; }` but bootstrap.min.css set `[hidden] { display: none !important; }` so we also need the `!important` here to be able to override the default hidden behavior on the sphinx rendered scikit-learn.org. See: https://github.com/scikit-learn/scikit-learn/issues/21755 */display: inline-block !important;position: relative;}#sk-container-id-1 div.sk-text-repr-fallback {display: none;}</style><div id=\"sk-container-id-1\" class=\"sk-top-container\"><div class=\"sk-text-repr-fallback\"><pre>RandomForestRegressor()</pre><b>In a Jupyter environment, please rerun this cell to show the HTML representation or trust the notebook. <br />On GitHub, the HTML representation is unable to render, please try loading this page with nbviewer.org.</b></div><div class=\"sk-container\" hidden><div class=\"sk-item\"><div class=\"sk-estimator sk-toggleable\"><input class=\"sk-toggleable__control sk-hidden--visually\" id=\"sk-estimator-id-1\" type=\"checkbox\" checked><label for=\"sk-estimator-id-1\" class=\"sk-toggleable__label sk-toggleable__label-arrow\">RandomForestRegressor</label><div class=\"sk-toggleable__content\"><pre>RandomForestRegressor()</pre></div></div></div></div></div>"
      ],
      "text/plain": [
       "RandomForestRegressor()"
      ]
     },
     "execution_count": 44,
     "metadata": {},
     "output_type": "execute_result"
    }
   ],
   "source": [
    "# Fitt the model on train data\n",
    "rfr_model.fit(x_train, y_train)"
   ]
  },
  {
   "cell_type": "code",
   "execution_count": 45,
   "id": "97f7a942",
   "metadata": {},
   "outputs": [],
   "source": [
    "# Predict the train and test dataset\n",
    "y_pred_train_rfr = rfr_model.predict(x_train)\n",
    "y_pred_test_rfr = rfr_model.predict(x_test)"
   ]
  },
  {
   "cell_type": "code",
   "execution_count": 46,
   "id": "ea9296e5",
   "metadata": {},
   "outputs": [
    {
     "data": {
      "text/plain": [
       "array([ 3749.637643 ,  5828.219538 , 27588.860405 , ...,  2183.0613926,\n",
       "        7069.0968375,  5851.1288285])"
      ]
     },
     "execution_count": 46,
     "metadata": {},
     "output_type": "execute_result"
    }
   ],
   "source": [
    "y_pred_train_rfr"
   ]
  },
  {
   "cell_type": "code",
   "execution_count": 47,
   "id": "cf29c40f",
   "metadata": {},
   "outputs": [
    {
     "data": {
      "text/plain": [
       "array([ 8805.250973 , 10002.8703633, 12813.432682 , 44561.9970173,\n",
       "        5651.1384629, 10043.4928495, 38604.6046047,  2344.0897485,\n",
       "       10698.4284195, 11510.7304405, 14401.4140967, 24727.43844  ,\n",
       "       44480.1285221, 14989.2651111,  6027.9575857,  9529.262684 ,\n",
       "       10286.3513454, 39840.1447861,  5659.2627247,  4878.601527 ,\n",
       "        9687.4859177, 20479.039046 , 10233.302324 , 21438.7999186,\n",
       "       39533.3720282, 18862.4571838, 42808.6562175, 45760.349344 ,\n",
       "       10186.9247258, 13410.8939582,  4151.4406267,  9505.3041087,\n",
       "        3620.7436967, 14404.6308272, 47175.2981066, 10036.1334724,\n",
       "        8771.821235 ,  5561.1565946, 23222.4276924,  8460.3760084,\n",
       "        2258.3073695, 21166.3796338, 41578.9493542,  9568.6185286,\n",
       "        9252.3407999,  3460.106652 ,  2538.2568475,  7917.4644171,\n",
       "        7963.134905 , 11792.7679993,  4585.6383342,  8344.6106463,\n",
       "       22043.5971885,  5908.7690727,  8272.3183384, 12017.3023821,\n",
       "       10688.7343817,  4514.4899694, 41328.8266499,  7512.4869819,\n",
       "       11224.9054743,  5965.5706914, 18432.1855428,  1715.259252 ,\n",
       "       13519.751667 , 13754.5798312,  6776.4079058, 23109.035316 ,\n",
       "       17343.6880476, 16977.9319251, 11888.0271415, 14063.008811 ,\n",
       "        7203.7559034,  3083.7835056, 10976.4141661,  2597.9110316,\n",
       "       13923.6792093,  5544.9686022, 11365.1036635, 12817.802871 ,\n",
       "        6538.4190605, 17414.751549 , 13827.7531571, 13514.5042157,\n",
       "       28375.988802 , 14522.771158 ,  3419.7114949,  3095.6269339,\n",
       "        2939.728879 ,  4103.2188514, 16367.6017265, 17852.0087565,\n",
       "        9275.6198644,  7051.359461 ,  1787.7459235, 43851.967153 ,\n",
       "       12895.3246907,  8684.882675 ,  4749.3158087,  8983.6908809,\n",
       "       13748.7897875, 15417.2097646, 24382.3422438, 14556.6830423,\n",
       "       40498.2559614,  1621.1292265, 40126.3563439, 18566.1199338,\n",
       "       13285.3880837,  6365.963414 ,  7695.7303866, 12969.5821892,\n",
       "        6819.0679854,  6123.1956515,  3651.2517746,  2196.616318 ,\n",
       "        3530.7660967,  4241.5902076,  2329.4083466, 14079.3975113,\n",
       "       43963.944622 ,  4570.9235016,  8636.4547941,  6423.3182143,\n",
       "        8385.5390353,  7744.7277714,  8040.5896278, 13433.4768391,\n",
       "       38732.433948 , 48473.85535  , 28787.5191343,  9416.3668391,\n",
       "        3227.9068097, 12091.4189925,  6497.28727  , 10508.0648996,\n",
       "       47077.6674096, 21239.5992463, 18187.5267482,  5267.4471822,\n",
       "        5618.3264976,  6343.1898907, 43663.3594867, 11757.371852 ,\n",
       "        1838.873296 ,  6426.6863126,  4898.8513514,  8302.3400148,\n",
       "       43476.9836148, 13452.49423  ,  6957.2188571,  8839.6307724,\n",
       "        6026.3201867, 14510.658121 ,  9036.0930289, 35871.9109984,\n",
       "       43616.5511651, 10619.3598309, 11512.10322  ,  9631.3895354,\n",
       "       11422.1227219,  6885.7088151, 12069.8482933, 12236.956975 ,\n",
       "       43990.436502 , 40019.3232116, 11583.1741613, 20014.3652832,\n",
       "        4519.1100099,  4519.4046237,  5124.5502297,  5055.516009 ,\n",
       "        3680.6835115, 16242.0947478, 11453.6269189, 16899.282292 ,\n",
       "        2405.4691544, 12640.603179 , 10088.2205648,  9982.2392152,\n",
       "       17431.1774483,  5155.054218 , 12327.0697241, 11658.3124461,\n",
       "       39996.277841 , 12410.8466211,  4510.9885178,  6290.972074 ,\n",
       "        2124.9324305, 46682.2705689,  2796.0564395, 23447.3283315,\n",
       "       12756.7839436,  5427.4028984,  2056.523396 ,  9707.4209551,\n",
       "       39548.4791624,  4335.5073421, 14242.656103 , 16053.2240258,\n",
       "       34500.969939 , 18309.6977107,  4873.4773285, 11122.7020656,\n",
       "       21337.7024776,  7667.1525645,  7881.3216459,  9919.0236294,\n",
       "        6712.0589373, 42424.5233431, 22841.9665863,  9752.6452551,\n",
       "        5256.0884346,  7755.1687763, 17900.6413909,  1913.165029 ,\n",
       "        2113.2904645,  9937.2428575, 11102.2345747,  6966.514041 ,\n",
       "        3412.6081603, 44974.9857769, 45405.5841417, 20599.6570825,\n",
       "        9488.8743976, 46610.529612 , 41825.264528 ,  9959.1975995,\n",
       "       35419.4758701,  8295.5786758, 13114.6340905, 37780.676422 ,\n",
       "        7279.459266 ,  6859.6730354, 11323.7239954, 14978.2520425,\n",
       "       13198.9897533,  1843.4270095,  3308.2467826,  3592.9124474,\n",
       "        5086.9653803,  3758.2034994,  4883.6526925, 12910.0368718,\n",
       "        1647.10606  , 10181.0692228,  9459.94164  ,  8275.4332887,\n",
       "        5380.252668 , 12183.668791 ,  4668.2713336, 11605.757715 ,\n",
       "       12872.364207 , 14008.0040854, 44722.4945325, 14148.5747531,\n",
       "       11554.3513271,  6667.5125924,  8024.4644366, 11403.7887427,\n",
       "       37648.1630683, 46717.117338 , 16757.1965476, 14175.9920649,\n",
       "       14445.6325384,  7518.7161751, 47784.6231155, 15751.0985085])"
      ]
     },
     "execution_count": 47,
     "metadata": {},
     "output_type": "execute_result"
    }
   ],
   "source": [
    "y_pred_test_rfr"
   ]
  },
  {
   "cell_type": "code",
   "execution_count": 48,
   "id": "f6d4505e",
   "metadata": {},
   "outputs": [
    {
     "data": {
      "text/plain": [
       "0.9757170267701833"
      ]
     },
     "execution_count": 48,
     "metadata": {},
     "output_type": "execute_result"
    }
   ],
   "source": [
    "# Accuracy score for train\n",
    "rfr_model.score(x_train, y_train)"
   ]
  },
  {
   "cell_type": "code",
   "execution_count": 49,
   "id": "4471a59f",
   "metadata": {},
   "outputs": [
    {
     "data": {
      "text/plain": [
       "0.8767332086518267"
      ]
     },
     "execution_count": 49,
     "metadata": {},
     "output_type": "execute_result"
    }
   ],
   "source": [
    "# Accuracy score for test\n",
    "rfr_model.score(x_test, y_test)"
   ]
  },
  {
   "cell_type": "markdown",
   "id": "403077bf",
   "metadata": {},
   "source": [
    "Model Evaluation"
   ]
  },
  {
   "cell_type": "code",
   "execution_count": 50,
   "id": "c6713f92",
   "metadata": {},
   "outputs": [
    {
     "name": "stdout",
     "output_type": "stream",
     "text": [
      "Mean squared error: 3324695.2692909394\n",
      "RMSE VALUE: 1823.3746925113717\n"
     ]
    }
   ],
   "source": [
    "from sklearn.metrics import mean_squared_error, r2_score\n",
    "\n",
    "# calculate RMSE of train data\n",
    "mse_train = mean_squared_error(y_train, y_pred_train_rfr)\n",
    "print(\"Mean squared error:\", mse_train)\n",
    "rmse_train = np.sqrt(mse_train)\n",
    "print(\"RMSE VALUE:\", rmse_train)"
   ]
  },
  {
   "cell_type": "code",
   "execution_count": 51,
   "id": "9b32bf05",
   "metadata": {},
   "outputs": [
    {
     "name": "stdout",
     "output_type": "stream",
     "text": [
      "Mean squared error: 22651020.40511576\n",
      "RMSE VALUE: 4759.308815901292\n"
     ]
    }
   ],
   "source": [
    "# calculate RMSE of test data\n",
    "mse_test = mean_squared_error(y_test, y_pred_test_rfr)\n",
    "print(\"Mean squared error:\", mse_test)\n",
    "rmse_test = np.sqrt(mse_test)\n",
    "print(\"RMSE VALUE:\", rmse_test)"
   ]
  },
  {
   "cell_type": "code",
   "execution_count": 52,
   "id": "0fd7b6ca",
   "metadata": {},
   "outputs": [
    {
     "name": "stdout",
     "output_type": "stream",
     "text": [
      "R-squared for train data: 0.9757170267701833\n"
     ]
    }
   ],
   "source": [
    "# Assuming y_train and y_pred_train are your actual and predicted target values for the train set\n",
    "r_squared_train = r2_score(y_train, y_pred_train_rfr)\n",
    "print(\"R-squared for train data:\", r_squared_train)"
   ]
  },
  {
   "cell_type": "code",
   "execution_count": 53,
   "id": "3351d6b5",
   "metadata": {},
   "outputs": [
    {
     "name": "stdout",
     "output_type": "stream",
     "text": [
      "R-squared for test data: 0.8767332086518267\n"
     ]
    }
   ],
   "source": [
    "# Assuming y_test and y_pred_test are your actual and predicted target values for the test set\n",
    "r_squared_test = r2_score(y_test, y_pred_test_rfr)\n",
    "print(\"R-squared for test data:\", r_squared_test)"
   ]
  },
  {
   "cell_type": "code",
   "execution_count": 54,
   "id": "0f98f568",
   "metadata": {},
   "outputs": [],
   "source": [
    "# Check to the Adjusted R Squared\n",
    "\n",
    "def adjusted_r_squared(r_squared, n, k):\n",
    "    adjusted_r2 = 1 - (1 - r_squared) * (n - 1) / (n - k - 1)\n",
    "    return adjusted_r2"
   ]
  },
  {
   "cell_type": "code",
   "execution_count": 55,
   "id": "91ba084e",
   "metadata": {},
   "outputs": [],
   "source": [
    "# For train data\n",
    "n_train, p = x_train.shape[0], x_train.shape[1]\n",
    "model_train_adjusted_r2 = adjusted_r_squared(r_squared_train, n_train, p)\n",
    "\n",
    "# For test data\n",
    "n_test = x_test.shape[0]\n",
    "model_test_adjusted_r2 = adjusted_r_squared(r_squared_test, n_test, p)"
   ]
  },
  {
   "cell_type": "code",
   "execution_count": 56,
   "id": "c165bdcd",
   "metadata": {},
   "outputs": [
    {
     "name": "stdout",
     "output_type": "stream",
     "text": [
      "Adjusted R-squared for train data: 0.9755337590476941\n",
      "Adjusted R-squared for test data: 0.8729257401931958\n"
     ]
    }
   ],
   "source": [
    "print(\"Adjusted R-squared for train data:\", model_train_adjusted_r2)\n",
    "print(\"Adjusted R-squared for test data:\", model_test_adjusted_r2)"
   ]
  },
  {
   "cell_type": "code",
   "execution_count": 57,
   "id": "0a7a6160",
   "metadata": {},
   "outputs": [
    {
     "data": {
      "text/html": [
       "<div>\n",
       "<style scoped>\n",
       "    .dataframe tbody tr th:only-of-type {\n",
       "        vertical-align: middle;\n",
       "    }\n",
       "\n",
       "    .dataframe tbody tr th {\n",
       "        vertical-align: top;\n",
       "    }\n",
       "\n",
       "    .dataframe thead th {\n",
       "        text-align: right;\n",
       "    }\n",
       "</style>\n",
       "<table border=\"1\" class=\"dataframe\">\n",
       "  <thead>\n",
       "    <tr style=\"text-align: right;\">\n",
       "      <th></th>\n",
       "      <th>Title</th>\n",
       "      <th>Vales</th>\n",
       "    </tr>\n",
       "  </thead>\n",
       "  <tbody>\n",
       "    <tr>\n",
       "      <th>0</th>\n",
       "      <td>RMSE_train</td>\n",
       "      <td>1823.374693</td>\n",
       "    </tr>\n",
       "    <tr>\n",
       "      <th>1</th>\n",
       "      <td>RMSE_test</td>\n",
       "      <td>4759.308816</td>\n",
       "    </tr>\n",
       "    <tr>\n",
       "      <th>2</th>\n",
       "      <td>R squared_train</td>\n",
       "      <td>0.975717</td>\n",
       "    </tr>\n",
       "    <tr>\n",
       "      <th>3</th>\n",
       "      <td>R squared_test</td>\n",
       "      <td>0.876733</td>\n",
       "    </tr>\n",
       "    <tr>\n",
       "      <th>4</th>\n",
       "      <td>Adjusted R squraed_train</td>\n",
       "      <td>0.975534</td>\n",
       "    </tr>\n",
       "    <tr>\n",
       "      <th>5</th>\n",
       "      <td>Adjusted R squraed_test</td>\n",
       "      <td>0.872926</td>\n",
       "    </tr>\n",
       "  </tbody>\n",
       "</table>\n",
       "</div>"
      ],
      "text/plain": [
       "                      Title        Vales\n",
       "0                RMSE_train  1823.374693\n",
       "1                 RMSE_test  4759.308816\n",
       "2           R squared_train     0.975717\n",
       "3            R squared_test     0.876733\n",
       "4  Adjusted R squraed_train     0.975534\n",
       "5   Adjusted R squraed_test     0.872926"
      ]
     },
     "execution_count": 57,
     "metadata": {},
     "output_type": "execute_result"
    }
   ],
   "source": [
    "d1 = {'Title':['RMSE_train', 'RMSE_test', 'R squared_train', 'R squared_test', 'Adjusted R squraed_train', 'Adjusted R squraed_test'], 'Vales':[rmse_train, rmse_test, r_squared_train, r_squared_test, model_train_adjusted_r2, model_test_adjusted_r2]}\n",
    "pd.DataFrame(d1)"
   ]
  },
  {
   "cell_type": "markdown",
   "id": "e9fc5876",
   "metadata": {},
   "source": [
    "2. Decision Tree Regressor"
   ]
  },
  {
   "cell_type": "code",
   "execution_count": 58,
   "id": "7244f3d7",
   "metadata": {},
   "outputs": [],
   "source": [
    "# Import Decision Tree Regressor\n",
    "from sklearn.tree import DecisionTreeRegressor"
   ]
  },
  {
   "cell_type": "code",
   "execution_count": 60,
   "id": "348fcbd3",
   "metadata": {},
   "outputs": [],
   "source": [
    "dtree = DecisionTreeRegressor(max_depth=3)"
   ]
  },
  {
   "cell_type": "code",
   "execution_count": 61,
   "id": "36a3cb87",
   "metadata": {},
   "outputs": [
    {
     "data": {
      "text/html": [
       "<style>#sk-container-id-2 {color: black;}#sk-container-id-2 pre{padding: 0;}#sk-container-id-2 div.sk-toggleable {background-color: white;}#sk-container-id-2 label.sk-toggleable__label {cursor: pointer;display: block;width: 100%;margin-bottom: 0;padding: 0.3em;box-sizing: border-box;text-align: center;}#sk-container-id-2 label.sk-toggleable__label-arrow:before {content: \"▸\";float: left;margin-right: 0.25em;color: #696969;}#sk-container-id-2 label.sk-toggleable__label-arrow:hover:before {color: black;}#sk-container-id-2 div.sk-estimator:hover label.sk-toggleable__label-arrow:before {color: black;}#sk-container-id-2 div.sk-toggleable__content {max-height: 0;max-width: 0;overflow: hidden;text-align: left;background-color: #f0f8ff;}#sk-container-id-2 div.sk-toggleable__content pre {margin: 0.2em;color: black;border-radius: 0.25em;background-color: #f0f8ff;}#sk-container-id-2 input.sk-toggleable__control:checked~div.sk-toggleable__content {max-height: 200px;max-width: 100%;overflow: auto;}#sk-container-id-2 input.sk-toggleable__control:checked~label.sk-toggleable__label-arrow:before {content: \"▾\";}#sk-container-id-2 div.sk-estimator input.sk-toggleable__control:checked~label.sk-toggleable__label {background-color: #d4ebff;}#sk-container-id-2 div.sk-label input.sk-toggleable__control:checked~label.sk-toggleable__label {background-color: #d4ebff;}#sk-container-id-2 input.sk-hidden--visually {border: 0;clip: rect(1px 1px 1px 1px);clip: rect(1px, 1px, 1px, 1px);height: 1px;margin: -1px;overflow: hidden;padding: 0;position: absolute;width: 1px;}#sk-container-id-2 div.sk-estimator {font-family: monospace;background-color: #f0f8ff;border: 1px dotted black;border-radius: 0.25em;box-sizing: border-box;margin-bottom: 0.5em;}#sk-container-id-2 div.sk-estimator:hover {background-color: #d4ebff;}#sk-container-id-2 div.sk-parallel-item::after {content: \"\";width: 100%;border-bottom: 1px solid gray;flex-grow: 1;}#sk-container-id-2 div.sk-label:hover label.sk-toggleable__label {background-color: #d4ebff;}#sk-container-id-2 div.sk-serial::before {content: \"\";position: absolute;border-left: 1px solid gray;box-sizing: border-box;top: 0;bottom: 0;left: 50%;z-index: 0;}#sk-container-id-2 div.sk-serial {display: flex;flex-direction: column;align-items: center;background-color: white;padding-right: 0.2em;padding-left: 0.2em;position: relative;}#sk-container-id-2 div.sk-item {position: relative;z-index: 1;}#sk-container-id-2 div.sk-parallel {display: flex;align-items: stretch;justify-content: center;background-color: white;position: relative;}#sk-container-id-2 div.sk-item::before, #sk-container-id-2 div.sk-parallel-item::before {content: \"\";position: absolute;border-left: 1px solid gray;box-sizing: border-box;top: 0;bottom: 0;left: 50%;z-index: -1;}#sk-container-id-2 div.sk-parallel-item {display: flex;flex-direction: column;z-index: 1;position: relative;background-color: white;}#sk-container-id-2 div.sk-parallel-item:first-child::after {align-self: flex-end;width: 50%;}#sk-container-id-2 div.sk-parallel-item:last-child::after {align-self: flex-start;width: 50%;}#sk-container-id-2 div.sk-parallel-item:only-child::after {width: 0;}#sk-container-id-2 div.sk-dashed-wrapped {border: 1px dashed gray;margin: 0 0.4em 0.5em 0.4em;box-sizing: border-box;padding-bottom: 0.4em;background-color: white;}#sk-container-id-2 div.sk-label label {font-family: monospace;font-weight: bold;display: inline-block;line-height: 1.2em;}#sk-container-id-2 div.sk-label-container {text-align: center;}#sk-container-id-2 div.sk-container {/* jupyter's `normalize.less` sets `[hidden] { display: none; }` but bootstrap.min.css set `[hidden] { display: none !important; }` so we also need the `!important` here to be able to override the default hidden behavior on the sphinx rendered scikit-learn.org. See: https://github.com/scikit-learn/scikit-learn/issues/21755 */display: inline-block !important;position: relative;}#sk-container-id-2 div.sk-text-repr-fallback {display: none;}</style><div id=\"sk-container-id-2\" class=\"sk-top-container\"><div class=\"sk-text-repr-fallback\"><pre>DecisionTreeRegressor(max_depth=3)</pre><b>In a Jupyter environment, please rerun this cell to show the HTML representation or trust the notebook. <br />On GitHub, the HTML representation is unable to render, please try loading this page with nbviewer.org.</b></div><div class=\"sk-container\" hidden><div class=\"sk-item\"><div class=\"sk-estimator sk-toggleable\"><input class=\"sk-toggleable__control sk-hidden--visually\" id=\"sk-estimator-id-2\" type=\"checkbox\" checked><label for=\"sk-estimator-id-2\" class=\"sk-toggleable__label sk-toggleable__label-arrow\">DecisionTreeRegressor</label><div class=\"sk-toggleable__content\"><pre>DecisionTreeRegressor(max_depth=3)</pre></div></div></div></div></div>"
      ],
      "text/plain": [
       "DecisionTreeRegressor(max_depth=3)"
      ]
     },
     "execution_count": 61,
     "metadata": {},
     "output_type": "execute_result"
    }
   ],
   "source": [
    "# Fitt the model\n",
    "dtree.fit(x_train, y_train)"
   ]
  },
  {
   "cell_type": "code",
   "execution_count": 62,
   "id": "a97f46e4",
   "metadata": {},
   "outputs": [],
   "source": [
    "# Predict the model\n",
    "y_pred_train_dt = dtree.predict(x_train)\n",
    "y_pred_test_dt = dtree.predict(x_test)"
   ]
  },
  {
   "cell_type": "code",
   "execution_count": 63,
   "id": "eaa9947b",
   "metadata": {},
   "outputs": [
    {
     "data": {
      "text/plain": [
       "array([ 3952.95847765,  6660.674459  , 13836.47139609, ...,\n",
       "        6660.674459  ,  6660.674459  ,  6660.674459  ])"
      ]
     },
     "execution_count": 63,
     "metadata": {},
     "output_type": "execute_result"
    }
   ],
   "source": [
    "y_pred_train_dt"
   ]
  },
  {
   "cell_type": "code",
   "execution_count": 64,
   "id": "8892078f",
   "metadata": {},
   "outputs": [
    {
     "data": {
      "text/plain": [
       "array([10270.08823305,  6660.674459  , 10270.08823305, 38253.2089479 ,\n",
       "        6660.674459  , 10270.08823305, 38253.2089479 ,  3952.95847765,\n",
       "       10270.08823305, 10270.08823305, 13836.47139609, 25142.09734739,\n",
       "       38253.2089479 , 13836.47139609,  6660.674459  , 10270.08823305,\n",
       "        6660.674459  , 38253.2089479 ,  6660.674459  ,  6660.674459  ,\n",
       "        3952.95847765, 18321.20829081, 10270.08823305, 18321.20829081,\n",
       "       38253.2089479 ,  6660.674459  , 38253.2089479 , 45430.40106136,\n",
       "       10270.08823305, 10270.08823305,  3952.95847765, 10270.08823305,\n",
       "        6660.674459  , 13836.47139609, 45430.40106136, 10270.08823305,\n",
       "        6660.674459  ,  6660.674459  , 25142.09734739, 10270.08823305,\n",
       "        3952.95847765, 25142.09734739, 38253.2089479 , 10270.08823305,\n",
       "       10270.08823305,  3952.95847765,  3952.95847765, 10270.08823305,\n",
       "        6660.674459  ,  6660.674459  ,  6660.674459  ,  3952.95847765,\n",
       "       25142.09734739,  3952.95847765,  6660.674459  , 10270.08823305,\n",
       "       10270.08823305,  6660.674459  , 38253.2089479 ,  6660.674459  ,\n",
       "       10270.08823305,  6660.674459  , 13836.47139609,  3952.95847765,\n",
       "       13836.47139609, 13836.47139609,  6660.674459  , 25142.09734739,\n",
       "       18321.20829081, 13836.47139609, 13836.47139609,  3952.95847765,\n",
       "        6660.674459  ,  6660.674459  , 13836.47139609,  3952.95847765,\n",
       "       13836.47139609,  6660.674459  , 10270.08823305, 13836.47139609,\n",
       "        6660.674459  , 13836.47139609, 13836.47139609, 10270.08823305,\n",
       "       25142.09734739, 13836.47139609,  3952.95847765,  6660.674459  ,\n",
       "        3952.95847765,  3952.95847765, 13836.47139609, 18321.20829081,\n",
       "        6660.674459  ,  3952.95847765,  3952.95847765, 45430.40106136,\n",
       "       13836.47139609, 10270.08823305,  3952.95847765, 10270.08823305,\n",
       "       13836.47139609, 13836.47139609, 25142.09734739, 13836.47139609,\n",
       "       38253.2089479 ,  3952.95847765, 38253.2089479 , 18321.20829081,\n",
       "       13836.47139609,  6660.674459  ,  6660.674459  , 13836.47139609,\n",
       "        6660.674459  ,  6660.674459  ,  3952.95847765,  3952.95847765,\n",
       "        6660.674459  ,  3952.95847765,  3952.95847765, 10270.08823305,\n",
       "       45430.40106136,  3952.95847765, 10270.08823305,  6660.674459  ,\n",
       "       10270.08823305,  6660.674459  ,  6660.674459  , 13836.47139609,\n",
       "       38253.2089479 , 45430.40106136, 25142.09734739, 10270.08823305,\n",
       "        3952.95847765, 10270.08823305,  6660.674459  ,  6660.674459  ,\n",
       "       45430.40106136, 25142.09734739, 18321.20829081,  3952.95847765,\n",
       "        6660.674459  ,  6660.674459  , 38253.2089479 , 13836.47139609,\n",
       "        3952.95847765,  3952.95847765,  6660.674459  , 10270.08823305,\n",
       "       45430.40106136, 13836.47139609,  6660.674459  ,  6660.674459  ,\n",
       "        6660.674459  , 13836.47139609,  6660.674459  , 38253.2089479 ,\n",
       "       38253.2089479 , 10270.08823305, 10270.08823305, 10270.08823305,\n",
       "       13836.47139609,  3952.95847765, 13836.47139609, 13836.47139609,\n",
       "       45430.40106136, 45430.40106136, 10270.08823305, 18321.20829081,\n",
       "        3952.95847765,  6660.674459  ,  6660.674459  ,  3952.95847765,\n",
       "        3952.95847765, 13836.47139609, 10270.08823305, 18321.20829081,\n",
       "        6660.674459  , 10270.08823305, 10270.08823305, 10270.08823305,\n",
       "       13836.47139609,  3952.95847765, 13836.47139609, 13836.47139609,\n",
       "       38253.2089479 , 13836.47139609,  6660.674459  ,  6660.674459  ,\n",
       "        3952.95847765, 38253.2089479 ,  3952.95847765, 25142.09734739,\n",
       "       13836.47139609,  6660.674459  ,  3952.95847765,  3952.95847765,\n",
       "       38253.2089479 ,  6660.674459  , 13836.47139609, 13836.47139609,\n",
       "       38253.2089479 , 18321.20829081,  3952.95847765, 13836.47139609,\n",
       "       18321.20829081,  6660.674459  ,  6660.674459  , 10270.08823305,\n",
       "        3952.95847765, 38253.2089479 , 25142.09734739, 10270.08823305,\n",
       "        6660.674459  ,  6660.674459  , 13836.47139609,  3952.95847765,\n",
       "        3952.95847765, 10270.08823305, 10270.08823305,  3952.95847765,\n",
       "        3952.95847765, 45430.40106136, 45430.40106136, 13836.47139609,\n",
       "       10270.08823305, 45430.40106136, 45430.40106136, 10270.08823305,\n",
       "       38253.2089479 ,  6660.674459  , 13836.47139609, 38253.2089479 ,\n",
       "        6660.674459  ,  3952.95847765, 13836.47139609, 10270.08823305,\n",
       "       13836.47139609,  3952.95847765,  3952.95847765,  6660.674459  ,\n",
       "        6660.674459  ,  3952.95847765,  6660.674459  , 10270.08823305,\n",
       "        3952.95847765, 10270.08823305,  6660.674459  ,  6660.674459  ,\n",
       "        3952.95847765, 10270.08823305,  6660.674459  , 13836.47139609,\n",
       "       13836.47139609, 13836.47139609, 45430.40106136, 18321.20829081,\n",
       "       13836.47139609,  6660.674459  ,  6660.674459  , 10270.08823305,\n",
       "       38253.2089479 , 45430.40106136, 13836.47139609, 13836.47139609,\n",
       "       13836.47139609,  6660.674459  , 45430.40106136, 10270.08823305])"
      ]
     },
     "execution_count": 64,
     "metadata": {},
     "output_type": "execute_result"
    }
   ],
   "source": [
    "y_pred_test_dt"
   ]
  },
  {
   "cell_type": "code",
   "execution_count": 65,
   "id": "27d68d35",
   "metadata": {},
   "outputs": [
    {
     "data": {
      "image/png": "[encoded data removed]",
      "text/plain": [
       "<Figure size 2500x2000 with 1 Axes>"
      ]
     },
     "metadata": {},
     "output_type": "display_data"
    }
   ],
   "source": [
    "# plot the tree\n",
    "from sklearn import tree\n",
    "fig = plt.figure(figsize=(25,20))\n",
    "_ = tree.plot_tree(dtree, feature_names=x_train.columns.to_list(),filled=True)"
   ]
  },
  {
   "cell_type": "markdown",
   "id": "6145428e",
   "metadata": {},
   "source": [
    "Model Evaluation"
   ]
  },
  {
   "cell_type": "code",
   "execution_count": 68,
   "id": "259946b7",
   "metadata": {},
   "outputs": [
    {
     "name": "stdout",
     "output_type": "stream",
     "text": [
      "train accuracy: 0.8443479114902656\n",
      "test accuracy: 0.8929506204742996\n"
     ]
    }
   ],
   "source": [
    "# accuracy score for tarin and test datas\n",
    "\n",
    "train_accuracy = dtree.score(x_train, y_train)\n",
    "test_accuracy = dtree.score(x_test, y_test)\n",
    "print(\"train accuracy:\" ,train_accuracy)\n",
    "print(\"test accuracy:\" ,test_accuracy)"
   ]
  },
  {
   "cell_type": "code",
   "execution_count": 69,
   "id": "b05e91f7",
   "metadata": {},
   "outputs": [
    {
     "name": "stdout",
     "output_type": "stream",
     "text": [
      "           variable       VIF\n",
      "1               age  1.023864\n",
      "2               bmi  1.110796\n",
      "3          children  1.004939\n",
      "4          sex_male  1.011112\n",
      "5        smoker_yes  1.018267\n",
      "6  region_northwest  1.542936\n",
      "7  region_southeast  1.678878\n",
      "8  region_southwest  1.555261\n"
     ]
    }
   ],
   "source": [
    "# Multicollinearity\n",
    "from statsmodels.stats.outliers_influence import variance_inflation_factor\n",
    "from statsmodels.tools.tools import add_constant\n",
    "\n",
    "# Select the independent variables for the model\n",
    "x = add_constant(x_train)\n",
    "\n",
    "# Calculate VIF\n",
    "vif = pd.DataFrame()\n",
    "vif['variable'] = x.columns\n",
    "vif['VIF'] = [variance_inflation_factor(x.values, i) for i in range(x.shape[1])]\n",
    "\n",
    "# Filter out of the constant term\n",
    "vif = vif[vif['variable'] != 'const']\n",
    "print(vif)"
   ]
  },
  {
   "cell_type": "code",
   "execution_count": 70,
   "id": "93a52d6a",
   "metadata": {},
   "outputs": [
    {
     "name": "stdout",
     "output_type": "stream",
     "text": [
      "Train_RMSE: 4616.389753019697\n",
      "Test_RMSE: 4435.197023772962\n"
     ]
    }
   ],
   "source": [
    "from sklearn.metrics import mean_squared_error, r2_score\n",
    "\n",
    "# RMSE\n",
    "mse = mean_squared_error(y_train, y_pred_train_dt)\n",
    "train_rmse = np.sqrt(mse)\n",
    "print(\"Train_RMSE:\" ,train_rmse)\n",
    "\n",
    "mse = mean_squared_error(y_test, y_pred_test_dt)\n",
    "test_rmse = np.sqrt(mse)\n",
    "print(\"Test_RMSE:\" ,test_rmse)"
   ]
  },
  {
   "cell_type": "code",
   "execution_count": 71,
   "id": "351e39d6",
   "metadata": {},
   "outputs": [
    {
     "name": "stdout",
     "output_type": "stream",
     "text": [
      "R-squared train data: 0.8443479114902656\n",
      "R-squared test data: 0.8929506204742996\n"
     ]
    }
   ],
   "source": [
    "# R-Squared\n",
    "# For train\n",
    "train_rsquared = r2_score(y_train, y_pred_train_dt)\n",
    "print(\"R-squared train data:\" ,train_rsquared)\n",
    "\n",
    "# For test\n",
    "test_rsquared = r2_score(y_test, y_pred_test_dt)\n",
    "print(\"R-squared test data:\" ,test_rsquared)"
   ]
  },
  {
   "cell_type": "code",
   "execution_count": 72,
   "id": "26bc6756",
   "metadata": {},
   "outputs": [],
   "source": [
    "# Check to the Adjusted R Squared\n",
    "def adjusted_r_squared(r_squared, n, k):\n",
    "    adjusted_r2 = 1 - (1 - r_squared)*(n - 1)/(n - k - 1)\n",
    "    return adjusted_r2"
   ]
  },
  {
   "cell_type": "code",
   "execution_count": 73,
   "id": "7c2a5364",
   "metadata": {},
   "outputs": [],
   "source": [
    "# For train data\n",
    "n_train, k = x_train.shape[0], x_train.shape[1]\n",
    "train_adjusted_r = adjusted_r_squared(train_rsquared, n_train, k)\n",
    "\n",
    "# For test data\n",
    "n_test = x_test.shape[0]\n",
    "test_adjusted_r = adjusted_r_squared(test_rsquared, n_test, k)"
   ]
  },
  {
   "cell_type": "code",
   "execution_count": 74,
   "id": "1886f423",
   "metadata": {},
   "outputs": [
    {
     "name": "stdout",
     "output_type": "stream",
     "text": [
      "Adjusted R_Squared for train: 0.8431731787467959\n",
      "Adjusted R_Squared for test: 0.8896440759329652\n"
     ]
    }
   ],
   "source": [
    "print(\"Adjusted R_Squared for train:\" ,train_adjusted_r)\n",
    "print(\"Adjusted R_Squared for test:\" ,test_adjusted_r)"
   ]
  },
  {
   "cell_type": "code",
   "execution_count": 75,
   "id": "5fbb56be",
   "metadata": {},
   "outputs": [
    {
     "data": {
      "text/html": [
       "<div>\n",
       "<style scoped>\n",
       "    .dataframe tbody tr th:only-of-type {\n",
       "        vertical-align: middle;\n",
       "    }\n",
       "\n",
       "    .dataframe tbody tr th {\n",
       "        vertical-align: top;\n",
       "    }\n",
       "\n",
       "    .dataframe thead th {\n",
       "        text-align: right;\n",
       "    }\n",
       "</style>\n",
       "<table border=\"1\" class=\"dataframe\">\n",
       "  <thead>\n",
       "    <tr style=\"text-align: right;\">\n",
       "      <th></th>\n",
       "      <th>Title</th>\n",
       "      <th>Vales</th>\n",
       "    </tr>\n",
       "  </thead>\n",
       "  <tbody>\n",
       "    <tr>\n",
       "      <th>0</th>\n",
       "      <td>RMSE_train</td>\n",
       "      <td>1823.374693</td>\n",
       "    </tr>\n",
       "    <tr>\n",
       "      <th>1</th>\n",
       "      <td>RMSE_test</td>\n",
       "      <td>4759.308816</td>\n",
       "    </tr>\n",
       "    <tr>\n",
       "      <th>2</th>\n",
       "      <td>R squared_train</td>\n",
       "      <td>0.975717</td>\n",
       "    </tr>\n",
       "    <tr>\n",
       "      <th>3</th>\n",
       "      <td>R squared_test</td>\n",
       "      <td>0.876733</td>\n",
       "    </tr>\n",
       "    <tr>\n",
       "      <th>4</th>\n",
       "      <td>Adjusted R squraed_train</td>\n",
       "      <td>0.975534</td>\n",
       "    </tr>\n",
       "    <tr>\n",
       "      <th>5</th>\n",
       "      <td>Adjusted R squraed_test</td>\n",
       "      <td>0.872926</td>\n",
       "    </tr>\n",
       "  </tbody>\n",
       "</table>\n",
       "</div>"
      ],
      "text/plain": [
       "                      Title        Vales\n",
       "0                RMSE_train  1823.374693\n",
       "1                 RMSE_test  4759.308816\n",
       "2           R squared_train     0.975717\n",
       "3            R squared_test     0.876733\n",
       "4  Adjusted R squraed_train     0.975534\n",
       "5   Adjusted R squraed_test     0.872926"
      ]
     },
     "execution_count": 75,
     "metadata": {},
     "output_type": "execute_result"
    }
   ],
   "source": [
    "df = {\"TITLE\":[\"train accuracy\",\"test accuracy\",\"train rmse\",\"test rmse\",\"train r squared\",\"test r squared\",\"train adju r squared\",\"test adju r squared\"], \"VALUES\":[train_accuracy,test_accuracy,train_rmse,test_rmse,train_rsquared,test_rsquared,train_adjusted_r,test_adjusted_r]}\n",
    "pd.DataFrame(d1)"
   ]
  },
  {
   "cell_type": "markdown",
   "id": "4eb41e3c",
   "metadata": {},
   "source": [
    "# BOOSTING METHODS"
   ]
  },
  {
   "cell_type": "markdown",
   "id": "711ce3c6",
   "metadata": {},
   "source": [
    "1. Ada Boosting\n",
    "\n",
    "2. GradientBoosting Regressor\n",
    "\n",
    "3. XGB Regressor\n",
    "\n",
    "4. LightGBM\n",
    "\n",
    "5. CatBoost"
   ]
  },
  {
   "cell_type": "markdown",
   "id": "9cad46a5",
   "metadata": {},
   "source": [
    "### 1. Ada Boosting"
   ]
  },
  {
   "cell_type": "code",
   "execution_count": 64,
   "id": "060713c0",
   "metadata": {},
   "outputs": [],
   "source": [
    "# Import Ada Boosting Regressor\n",
    "from sklearn.ensemble import AdaBoostRegressor"
   ]
  },
  {
   "cell_type": "code",
   "execution_count": 65,
   "id": "df098745",
   "metadata": {},
   "outputs": [],
   "source": [
    "ada_model = AdaBoostRegressor()"
   ]
  },
  {
   "cell_type": "code",
   "execution_count": 66,
   "id": "7329c8b1",
   "metadata": {},
   "outputs": [
    {
     "data": {
      "text/html": [
       "<style>#sk-container-id-2 {color: black;}#sk-container-id-2 pre{padding: 0;}#sk-container-id-2 div.sk-toggleable {background-color: white;}#sk-container-id-2 label.sk-toggleable__label {cursor: pointer;display: block;width: 100%;margin-bottom: 0;padding: 0.3em;box-sizing: border-box;text-align: center;}#sk-container-id-2 label.sk-toggleable__label-arrow:before {content: \"▸\";float: left;margin-right: 0.25em;color: #696969;}#sk-container-id-2 label.sk-toggleable__label-arrow:hover:before {color: black;}#sk-container-id-2 div.sk-estimator:hover label.sk-toggleable__label-arrow:before {color: black;}#sk-container-id-2 div.sk-toggleable__content {max-height: 0;max-width: 0;overflow: hidden;text-align: left;background-color: #f0f8ff;}#sk-container-id-2 div.sk-toggleable__content pre {margin: 0.2em;color: black;border-radius: 0.25em;background-color: #f0f8ff;}#sk-container-id-2 input.sk-toggleable__control:checked~div.sk-toggleable__content {max-height: 200px;max-width: 100%;overflow: auto;}#sk-container-id-2 input.sk-toggleable__control:checked~label.sk-toggleable__label-arrow:before {content: \"▾\";}#sk-container-id-2 div.sk-estimator input.sk-toggleable__control:checked~label.sk-toggleable__label {background-color: #d4ebff;}#sk-container-id-2 div.sk-label input.sk-toggleable__control:checked~label.sk-toggleable__label {background-color: #d4ebff;}#sk-container-id-2 input.sk-hidden--visually {border: 0;clip: rect(1px 1px 1px 1px);clip: rect(1px, 1px, 1px, 1px);height: 1px;margin: -1px;overflow: hidden;padding: 0;position: absolute;width: 1px;}#sk-container-id-2 div.sk-estimator {font-family: monospace;background-color: #f0f8ff;border: 1px dotted black;border-radius: 0.25em;box-sizing: border-box;margin-bottom: 0.5em;}#sk-container-id-2 div.sk-estimator:hover {background-color: #d4ebff;}#sk-container-id-2 div.sk-parallel-item::after {content: \"\";width: 100%;border-bottom: 1px solid gray;flex-grow: 1;}#sk-container-id-2 div.sk-label:hover label.sk-toggleable__label {background-color: #d4ebff;}#sk-container-id-2 div.sk-serial::before {content: \"\";position: absolute;border-left: 1px solid gray;box-sizing: border-box;top: 0;bottom: 0;left: 50%;z-index: 0;}#sk-container-id-2 div.sk-serial {display: flex;flex-direction: column;align-items: center;background-color: white;padding-right: 0.2em;padding-left: 0.2em;position: relative;}#sk-container-id-2 div.sk-item {position: relative;z-index: 1;}#sk-container-id-2 div.sk-parallel {display: flex;align-items: stretch;justify-content: center;background-color: white;position: relative;}#sk-container-id-2 div.sk-item::before, #sk-container-id-2 div.sk-parallel-item::before {content: \"\";position: absolute;border-left: 1px solid gray;box-sizing: border-box;top: 0;bottom: 0;left: 50%;z-index: -1;}#sk-container-id-2 div.sk-parallel-item {display: flex;flex-direction: column;z-index: 1;position: relative;background-color: white;}#sk-container-id-2 div.sk-parallel-item:first-child::after {align-self: flex-end;width: 50%;}#sk-container-id-2 div.sk-parallel-item:last-child::after {align-self: flex-start;width: 50%;}#sk-container-id-2 div.sk-parallel-item:only-child::after {width: 0;}#sk-container-id-2 div.sk-dashed-wrapped {border: 1px dashed gray;margin: 0 0.4em 0.5em 0.4em;box-sizing: border-box;padding-bottom: 0.4em;background-color: white;}#sk-container-id-2 div.sk-label label {font-family: monospace;font-weight: bold;display: inline-block;line-height: 1.2em;}#sk-container-id-2 div.sk-label-container {text-align: center;}#sk-container-id-2 div.sk-container {/* jupyter's `normalize.less` sets `[hidden] { display: none; }` but bootstrap.min.css set `[hidden] { display: none !important; }` so we also need the `!important` here to be able to override the default hidden behavior on the sphinx rendered scikit-learn.org. See: https://github.com/scikit-learn/scikit-learn/issues/21755 */display: inline-block !important;position: relative;}#sk-container-id-2 div.sk-text-repr-fallback {display: none;}</style><div id=\"sk-container-id-2\" class=\"sk-top-container\"><div class=\"sk-text-repr-fallback\"><pre>AdaBoostRegressor()</pre><b>In a Jupyter environment, please rerun this cell to show the HTML representation or trust the notebook. <br />On GitHub, the HTML representation is unable to render, please try loading this page with nbviewer.org.</b></div><div class=\"sk-container\" hidden><div class=\"sk-item\"><div class=\"sk-estimator sk-toggleable\"><input class=\"sk-toggleable__control sk-hidden--visually\" id=\"sk-estimator-id-2\" type=\"checkbox\" checked><label for=\"sk-estimator-id-2\" class=\"sk-toggleable__label sk-toggleable__label-arrow\">AdaBoostRegressor</label><div class=\"sk-toggleable__content\"><pre>AdaBoostRegressor()</pre></div></div></div></div></div>"
      ],
      "text/plain": [
       "AdaBoostRegressor()"
      ]
     },
     "execution_count": 66,
     "metadata": {},
     "output_type": "execute_result"
    }
   ],
   "source": [
    "# Fitt the model\n",
    "ada_model.fit(x_train, y_train)"
   ]
  },
  {
   "cell_type": "code",
   "execution_count": 67,
   "id": "a555a8ef",
   "metadata": {},
   "outputs": [],
   "source": [
    "# Predict the train data\n",
    "y_pred_train_ada = ada_model.predict(x_train)\n",
    "# Predict the test data\n",
    "y_pred_test_ada = ada_model.predict(x_test)"
   ]
  },
  {
   "cell_type": "code",
   "execution_count": 68,
   "id": "a8e7c7e7",
   "metadata": {},
   "outputs": [
    {
     "data": {
      "text/plain": [
       "array([ 6194.03417687, 10471.50901223, 14410.03181375, ...,\n",
       "        6944.57427705, 10471.50901223, 10471.50901223])"
      ]
     },
     "execution_count": 68,
     "metadata": {},
     "output_type": "execute_result"
    }
   ],
   "source": [
    "y_pred_train_ada"
   ]
  },
  {
   "cell_type": "code",
   "execution_count": 69,
   "id": "084251f1",
   "metadata": {},
   "outputs": [
    {
     "data": {
      "text/plain": [
       "array([10818.10276571, 10471.50901223, 14410.03181375, 43824.00267143,\n",
       "       10471.50901223, 14410.03181375, 38475.98023597,  6194.03417687,\n",
       "       10471.50901223, 14410.03181375, 13694.35234742, 24897.91521743,\n",
       "       43824.00267143, 14732.39644373, 10471.50901223, 14214.16940014,\n",
       "        6944.57427705, 43824.00267143, 10471.50901223, 10471.50901223,\n",
       "        6194.03417687, 18934.4207136 , 14410.03181375, 18934.4207136 ,\n",
       "       43824.00267143, 10471.50901223, 44690.33146333, 45928.79437918,\n",
       "       14410.03181375, 14214.16940014,  6194.03417687, 14410.03181375,\n",
       "        6585.92042434, 17833.50332373, 45928.79437918, 14410.03181375,\n",
       "       10471.50901223, 10471.50901223, 24897.91521743, 14214.16940014,\n",
       "        6194.03417687, 24897.91521743, 43824.00267143, 14410.03181375,\n",
       "       12451.40045171,  6194.03417687,  6194.03417687, 10471.50901223,\n",
       "       10471.50901223, 10471.50901223, 10471.50901223,  7375.8223078 ,\n",
       "       24897.91521743,  6194.03417687, 10471.50901223, 14214.16940014,\n",
       "       14410.03181375, 10471.50901223, 43824.00267143, 10471.50901223,\n",
       "       14410.03181375, 10471.50901223, 14410.03181375,  6194.03417687,\n",
       "       14410.03181375, 14410.03181375, 10471.50901223, 24897.91521743,\n",
       "       18934.4207136 , 17833.50332373, 13694.35234742,  6194.03417687,\n",
       "       10471.50901223, 10471.50901223, 14410.03181375,  6194.03417687,\n",
       "       14732.39644373, 10471.50901223, 12451.40045171, 14732.39644373,\n",
       "       10471.50901223, 14410.03181375, 14732.39644373, 10471.50901223,\n",
       "       24897.91521743, 18433.01567356,  6194.03417687,  6585.92042434,\n",
       "        6194.03417687,  6194.03417687, 18433.01567356, 18934.4207136 ,\n",
       "       10471.50901223,  6194.03417687,  6194.03417687, 45928.79437918,\n",
       "       14410.03181375, 14214.16940014,  6194.03417687, 12451.40045171,\n",
       "       14732.39644373, 14410.03181375, 24897.91521743, 14410.03181375,\n",
       "       43824.00267143,  6194.03417687, 43824.00267143, 18934.4207136 ,\n",
       "       14410.03181375,  7375.8223078 , 10471.50901223, 14410.03181375,\n",
       "       10471.50901223, 10471.50901223,  6194.03417687,  6194.03417687,\n",
       "       10471.50901223,  6194.03417687,  6194.03417687, 12451.40045171,\n",
       "       45928.79437918,  7375.8223078 , 14214.16940014, 10471.50901223,\n",
       "       14214.16940014, 10471.50901223, 10471.50901223, 14732.39644373,\n",
       "       38475.98023597, 45928.79437918, 24897.91521743, 12327.30996547,\n",
       "        6194.03417687, 14410.03181375, 10471.50901223, 10471.50901223,\n",
       "       44690.33146333, 24897.91521743, 18934.4207136 ,  6194.03417687,\n",
       "       10471.50901223, 10471.50901223, 44690.33146333, 14410.03181375,\n",
       "        6194.03417687,  7375.8223078 , 10471.50901223, 14214.16940014,\n",
       "       45928.79437918, 14732.39644373, 10471.50901223, 10471.50901223,\n",
       "        7375.8223078 , 14732.39644373, 10471.50901223, 38475.98023597,\n",
       "       44690.33146333, 14214.16940014, 12327.30996547, 12327.30996547,\n",
       "       14410.03181375,  7375.8223078 , 14410.03181375, 14410.03181375,\n",
       "       45928.79437918, 43824.00267143, 14410.03181375, 18934.4207136 ,\n",
       "        6194.03417687, 10471.50901223, 10471.50901223,  6194.03417687,\n",
       "        6194.03417687, 13694.35234742, 10471.50901223, 18611.88009782,\n",
       "        6944.57427705, 12327.30996547, 12451.40045171, 14214.16940014,\n",
       "       18433.01567356,  6194.03417687, 14410.03181375, 13694.35234742,\n",
       "       43824.00267143, 14410.03181375, 10471.50901223, 10471.50901223,\n",
       "        6194.03417687, 43824.00267143,  6194.03417687, 24897.91521743,\n",
       "       14410.03181375, 10471.50901223,  6194.03417687,  6194.03417687,\n",
       "       43824.00267143, 10471.50901223, 18433.01567356, 18433.01567356,\n",
       "       38475.98023597, 18934.4207136 ,  7375.8223078 , 14410.03181375,\n",
       "       18934.4207136 ,  7375.8223078 , 10471.50901223, 10471.50901223,\n",
       "        6194.03417687, 44690.33146333, 24897.91521743, 14214.16940014,\n",
       "       10471.50901223, 10471.50901223, 14732.39644373,  6194.03417687,\n",
       "        6194.03417687, 12327.30996547, 12327.30996547,  6194.03417687,\n",
       "        6194.03417687, 45928.79437918, 44690.33146333, 18433.01567356,\n",
       "       14410.03181375, 45928.79437918, 45928.79437918, 10818.10276571,\n",
       "       38475.98023597, 10471.50901223, 14732.39644373, 43824.00267143,\n",
       "       10471.50901223,  7375.8223078 , 13694.35234742, 12327.30996547,\n",
       "       13694.35234742,  6194.03417687,  6194.03417687, 10471.50901223,\n",
       "       10471.50901223,  6194.03417687, 10471.50901223, 12327.30996547,\n",
       "        6194.03417687, 12451.40045171, 10471.50901223, 10471.50901223,\n",
       "        6194.03417687, 10471.50901223, 10471.50901223, 14410.03181375,\n",
       "       14732.39644373, 14410.03181375, 45928.79437918, 18611.88009782,\n",
       "       13694.35234742, 10471.50901223, 10471.50901223, 14410.03181375,\n",
       "       38475.98023597, 45928.79437918, 14410.03181375, 14732.39644373,\n",
       "       14732.39644373, 10471.50901223, 45928.79437918, 12327.30996547])"
      ]
     },
     "execution_count": 69,
     "metadata": {},
     "output_type": "execute_result"
    }
   ],
   "source": [
    "y_pred_test_ada"
   ]
  },
  {
   "cell_type": "code",
   "execution_count": 70,
   "id": "e1fadd6a",
   "metadata": {},
   "outputs": [
    {
     "data": {
      "text/plain": [
       "0.8088316304797275"
      ]
     },
     "execution_count": 70,
     "metadata": {},
     "output_type": "execute_result"
    }
   ],
   "source": [
    "# Accuracy for train\n",
    "ada_model.score(x_train, y_train)"
   ]
  },
  {
   "cell_type": "code",
   "execution_count": 71,
   "id": "d5896722",
   "metadata": {},
   "outputs": [
    {
     "data": {
      "text/plain": [
       "0.8584962886882276"
      ]
     },
     "execution_count": 71,
     "metadata": {},
     "output_type": "execute_result"
    }
   ],
   "source": [
    "# Accuracy for test\n",
    "ada_model.score(x_test, y_test)"
   ]
  },
  {
   "cell_type": "markdown",
   "id": "4bcf9437",
   "metadata": {},
   "source": [
    "Model Evaluation"
   ]
  },
  {
   "cell_type": "code",
   "execution_count": 72,
   "id": "661d3fe8",
   "metadata": {},
   "outputs": [
    {
     "name": "stdout",
     "output_type": "stream",
     "text": [
      "Mean squared error: 26173754.250229098\n",
      "RMSE VALUE: 5116.029148688375\n"
     ]
    }
   ],
   "source": [
    "from sklearn.metrics import mean_squared_error, r2_score\n",
    "\n",
    "# calculate RMSE of train data\n",
    "mse_train = mean_squared_error(y_train, y_pred_train_ada)\n",
    "print(\"Mean squared error:\", mse_train)\n",
    "rmse_train = np.sqrt(mse_train)\n",
    "print(\"RMSE VALUE:\", rmse_train)"
   ]
  },
  {
   "cell_type": "code",
   "execution_count": 73,
   "id": "1ed980a2",
   "metadata": {},
   "outputs": [
    {
     "name": "stdout",
     "output_type": "stream",
     "text": [
      "Mean squared error: 26002165.03785929\n",
      "RMSE VALUE: 5099.231808602085\n"
     ]
    }
   ],
   "source": [
    "# calculate RMSE of test data\n",
    "mse_test = mean_squared_error(y_test, y_pred_test_ada)\n",
    "print(\"Mean squared error:\", mse_test)\n",
    "rmse_test = np.sqrt(mse_test)\n",
    "print(\"RMSE VALUE:\", rmse_test)"
   ]
  },
  {
   "cell_type": "code",
   "execution_count": 74,
   "id": "c038ecbc",
   "metadata": {},
   "outputs": [
    {
     "name": "stdout",
     "output_type": "stream",
     "text": [
      "R-squared for train data: 0.8088316304797275\n"
     ]
    }
   ],
   "source": [
    "# Assuming y_train and y_pred_train are your actual and predicted target values for the train set\n",
    "r_squared_train = r2_score(y_train, y_pred_train_ada)\n",
    "print(\"R-squared for train data:\", r_squared_train)"
   ]
  },
  {
   "cell_type": "code",
   "execution_count": 75,
   "id": "a5ee7c4a",
   "metadata": {},
   "outputs": [
    {
     "name": "stdout",
     "output_type": "stream",
     "text": [
      "R-squared for test data: 0.8584962886882276\n"
     ]
    }
   ],
   "source": [
    "# Assuming y_test and y_pred_test are your actual and predicted target values for the test set\n",
    "r_squared_test = r2_score(y_test, y_pred_test_ada)\n",
    "print(\"R-squared for test data:\", r_squared_test)"
   ]
  },
  {
   "cell_type": "code",
   "execution_count": 76,
   "id": "badb0f78",
   "metadata": {},
   "outputs": [],
   "source": [
    "# Check to the Adjusted R Squared\n",
    "\n",
    "def adjusted_r_squared(r_squared, n, k):\n",
    "    adjusted_r2 = 1 - (1 - r_squared) * (n - 1) / (n - k - 1)\n",
    "    return adjusted_r2"
   ]
  },
  {
   "cell_type": "code",
   "execution_count": 77,
   "id": "340866ac",
   "metadata": {},
   "outputs": [],
   "source": [
    "# For train data\n",
    "n_train, p = x_train.shape[0], x_train.shape[1]\n",
    "model_train_adjusted_r2 = adjusted_r_squared(r_squared_train, n_train, p)\n",
    "\n",
    "# For test data\n",
    "n_test = x_test.shape[0]\n",
    "model_test_adjusted_r2 = adjusted_r_squared(r_squared_test, n_test, p)"
   ]
  },
  {
   "cell_type": "code",
   "execution_count": 78,
   "id": "f41fd08e",
   "metadata": {},
   "outputs": [
    {
     "name": "stdout",
     "output_type": "stream",
     "text": [
      "Adjusted R-squared for train data: 0.8073888503324047\n",
      "Adjusted R-squared for test data: 0.8541255176824585\n"
     ]
    }
   ],
   "source": [
    "print(\"Adjusted R-squared for train data:\", model_train_adjusted_r2)\n",
    "print(\"Adjusted R-squared for test data:\", model_test_adjusted_r2)"
   ]
  },
  {
   "cell_type": "code",
   "execution_count": 79,
   "id": "8b47c81b",
   "metadata": {},
   "outputs": [
    {
     "data": {
      "text/html": [
       "<div>\n",
       "<style scoped>\n",
       "    .dataframe tbody tr th:only-of-type {\n",
       "        vertical-align: middle;\n",
       "    }\n",
       "\n",
       "    .dataframe tbody tr th {\n",
       "        vertical-align: top;\n",
       "    }\n",
       "\n",
       "    .dataframe thead th {\n",
       "        text-align: right;\n",
       "    }\n",
       "</style>\n",
       "<table border=\"1\" class=\"dataframe\">\n",
       "  <thead>\n",
       "    <tr style=\"text-align: right;\">\n",
       "      <th></th>\n",
       "      <th>Title</th>\n",
       "      <th>Vales</th>\n",
       "    </tr>\n",
       "  </thead>\n",
       "  <tbody>\n",
       "    <tr>\n",
       "      <th>0</th>\n",
       "      <td>RMSE_train</td>\n",
       "      <td>5116.029149</td>\n",
       "    </tr>\n",
       "    <tr>\n",
       "      <th>1</th>\n",
       "      <td>RMSE_test</td>\n",
       "      <td>5099.231809</td>\n",
       "    </tr>\n",
       "    <tr>\n",
       "      <th>2</th>\n",
       "      <td>R squared_train</td>\n",
       "      <td>0.808832</td>\n",
       "    </tr>\n",
       "    <tr>\n",
       "      <th>3</th>\n",
       "      <td>R squared_test</td>\n",
       "      <td>0.858496</td>\n",
       "    </tr>\n",
       "    <tr>\n",
       "      <th>4</th>\n",
       "      <td>Adjusted R squraed_train</td>\n",
       "      <td>0.807389</td>\n",
       "    </tr>\n",
       "    <tr>\n",
       "      <th>5</th>\n",
       "      <td>Adjusted R squraed_test</td>\n",
       "      <td>0.854126</td>\n",
       "    </tr>\n",
       "  </tbody>\n",
       "</table>\n",
       "</div>"
      ],
      "text/plain": [
       "                      Title        Vales\n",
       "0                RMSE_train  5116.029149\n",
       "1                 RMSE_test  5099.231809\n",
       "2           R squared_train     0.808832\n",
       "3            R squared_test     0.858496\n",
       "4  Adjusted R squraed_train     0.807389\n",
       "5   Adjusted R squraed_test     0.854126"
      ]
     },
     "execution_count": 79,
     "metadata": {},
     "output_type": "execute_result"
    }
   ],
   "source": [
    "d1 = {'Title':['RMSE_train', 'RMSE_test', 'R squared_train', 'R squared_test', 'Adjusted R squraed_train', 'Adjusted R squraed_test'], 'Vales':[rmse_train, rmse_test, r_squared_train, r_squared_test, model_train_adjusted_r2, model_test_adjusted_r2]}\n",
    "pd.DataFrame(d1)"
   ]
  },
  {
   "cell_type": "markdown",
   "id": "f9fcac18",
   "metadata": {},
   "source": [
    "### 2. GradientBoosting Regressor"
   ]
  },
  {
   "cell_type": "code",
   "execution_count": 80,
   "id": "74e0b605",
   "metadata": {},
   "outputs": [],
   "source": [
    "# Import Gradientboosting regressior\n",
    "from sklearn.ensemble import GradientBoostingRegressor"
   ]
  },
  {
   "cell_type": "code",
   "execution_count": 81,
   "id": "1907b3b6",
   "metadata": {},
   "outputs": [],
   "source": [
    "gbr_model = GradientBoostingRegressor()"
   ]
  },
  {
   "cell_type": "code",
   "execution_count": 82,
   "id": "66ce9e94",
   "metadata": {},
   "outputs": [
    {
     "data": {
      "text/html": [
       "<style>#sk-container-id-3 {color: black;}#sk-container-id-3 pre{padding: 0;}#sk-container-id-3 div.sk-toggleable {background-color: white;}#sk-container-id-3 label.sk-toggleable__label {cursor: pointer;display: block;width: 100%;margin-bottom: 0;padding: 0.3em;box-sizing: border-box;text-align: center;}#sk-container-id-3 label.sk-toggleable__label-arrow:before {content: \"▸\";float: left;margin-right: 0.25em;color: #696969;}#sk-container-id-3 label.sk-toggleable__label-arrow:hover:before {color: black;}#sk-container-id-3 div.sk-estimator:hover label.sk-toggleable__label-arrow:before {color: black;}#sk-container-id-3 div.sk-toggleable__content {max-height: 0;max-width: 0;overflow: hidden;text-align: left;background-color: #f0f8ff;}#sk-container-id-3 div.sk-toggleable__content pre {margin: 0.2em;color: black;border-radius: 0.25em;background-color: #f0f8ff;}#sk-container-id-3 input.sk-toggleable__control:checked~div.sk-toggleable__content {max-height: 200px;max-width: 100%;overflow: auto;}#sk-container-id-3 input.sk-toggleable__control:checked~label.sk-toggleable__label-arrow:before {content: \"▾\";}#sk-container-id-3 div.sk-estimator input.sk-toggleable__control:checked~label.sk-toggleable__label {background-color: #d4ebff;}#sk-container-id-3 div.sk-label input.sk-toggleable__control:checked~label.sk-toggleable__label {background-color: #d4ebff;}#sk-container-id-3 input.sk-hidden--visually {border: 0;clip: rect(1px 1px 1px 1px);clip: rect(1px, 1px, 1px, 1px);height: 1px;margin: -1px;overflow: hidden;padding: 0;position: absolute;width: 1px;}#sk-container-id-3 div.sk-estimator {font-family: monospace;background-color: #f0f8ff;border: 1px dotted black;border-radius: 0.25em;box-sizing: border-box;margin-bottom: 0.5em;}#sk-container-id-3 div.sk-estimator:hover {background-color: #d4ebff;}#sk-container-id-3 div.sk-parallel-item::after {content: \"\";width: 100%;border-bottom: 1px solid gray;flex-grow: 1;}#sk-container-id-3 div.sk-label:hover label.sk-toggleable__label {background-color: #d4ebff;}#sk-container-id-3 div.sk-serial::before {content: \"\";position: absolute;border-left: 1px solid gray;box-sizing: border-box;top: 0;bottom: 0;left: 50%;z-index: 0;}#sk-container-id-3 div.sk-serial {display: flex;flex-direction: column;align-items: center;background-color: white;padding-right: 0.2em;padding-left: 0.2em;position: relative;}#sk-container-id-3 div.sk-item {position: relative;z-index: 1;}#sk-container-id-3 div.sk-parallel {display: flex;align-items: stretch;justify-content: center;background-color: white;position: relative;}#sk-container-id-3 div.sk-item::before, #sk-container-id-3 div.sk-parallel-item::before {content: \"\";position: absolute;border-left: 1px solid gray;box-sizing: border-box;top: 0;bottom: 0;left: 50%;z-index: -1;}#sk-container-id-3 div.sk-parallel-item {display: flex;flex-direction: column;z-index: 1;position: relative;background-color: white;}#sk-container-id-3 div.sk-parallel-item:first-child::after {align-self: flex-end;width: 50%;}#sk-container-id-3 div.sk-parallel-item:last-child::after {align-self: flex-start;width: 50%;}#sk-container-id-3 div.sk-parallel-item:only-child::after {width: 0;}#sk-container-id-3 div.sk-dashed-wrapped {border: 1px dashed gray;margin: 0 0.4em 0.5em 0.4em;box-sizing: border-box;padding-bottom: 0.4em;background-color: white;}#sk-container-id-3 div.sk-label label {font-family: monospace;font-weight: bold;display: inline-block;line-height: 1.2em;}#sk-container-id-3 div.sk-label-container {text-align: center;}#sk-container-id-3 div.sk-container {/* jupyter's `normalize.less` sets `[hidden] { display: none; }` but bootstrap.min.css set `[hidden] { display: none !important; }` so we also need the `!important` here to be able to override the default hidden behavior on the sphinx rendered scikit-learn.org. See: https://github.com/scikit-learn/scikit-learn/issues/21755 */display: inline-block !important;position: relative;}#sk-container-id-3 div.sk-text-repr-fallback {display: none;}</style><div id=\"sk-container-id-3\" class=\"sk-top-container\"><div class=\"sk-text-repr-fallback\"><pre>GradientBoostingRegressor()</pre><b>In a Jupyter environment, please rerun this cell to show the HTML representation or trust the notebook. <br />On GitHub, the HTML representation is unable to render, please try loading this page with nbviewer.org.</b></div><div class=\"sk-container\" hidden><div class=\"sk-item\"><div class=\"sk-estimator sk-toggleable\"><input class=\"sk-toggleable__control sk-hidden--visually\" id=\"sk-estimator-id-3\" type=\"checkbox\" checked><label for=\"sk-estimator-id-3\" class=\"sk-toggleable__label sk-toggleable__label-arrow\">GradientBoostingRegressor</label><div class=\"sk-toggleable__content\"><pre>GradientBoostingRegressor()</pre></div></div></div></div></div>"
      ],
      "text/plain": [
       "GradientBoostingRegressor()"
      ]
     },
     "execution_count": 82,
     "metadata": {},
     "output_type": "execute_result"
    }
   ],
   "source": [
    "# Fitt the model on train data\n",
    "gbr_model.fit(x_train, y_train)"
   ]
  },
  {
   "cell_type": "code",
   "execution_count": 83,
   "id": "787aea97",
   "metadata": {},
   "outputs": [],
   "source": [
    "# Predict the train and test\n",
    "y_pred_train_gbr = gbr_model.predict(x_train)\n",
    "y_pred_test_gbr = gbr_model.predict(x_test)"
   ]
  },
  {
   "cell_type": "code",
   "execution_count": 84,
   "id": "eb08bf5c",
   "metadata": {},
   "outputs": [
    {
     "data": {
      "text/plain": [
       "array([ 4408.08011797,  6474.59283615, 15977.73142595, ...,\n",
       "        2307.86051104,  8025.33267223,  8089.42519648])"
      ]
     },
     "execution_count": 84,
     "metadata": {},
     "output_type": "execute_result"
    }
   ],
   "source": [
    "y_pred_train_gbr"
   ]
  },
  {
   "cell_type": "code",
   "execution_count": 85,
   "id": "264cafbd",
   "metadata": {},
   "outputs": [
    {
     "data": {
      "text/plain": [
       "array([10586.03915815,  7706.70706855, 13590.09499031, 39078.64011843,\n",
       "        6832.31001365, 11942.11590953, 39345.50719667,  3695.03669972,\n",
       "        9622.26356242, 11393.11632941, 13539.0761736 , 25026.19124049,\n",
       "       38874.26882077, 13596.38629072, 11513.72431162,  8762.94411436,\n",
       "        4253.03003875, 39670.31240155,  5668.88764985,  5046.74280536,\n",
       "        3875.42178372, 19770.3664785 , 10375.44050147, 20805.79124161,\n",
       "       38954.17716193,  7438.08882285, 43061.94200428, 45188.04583342,\n",
       "       11397.00093788, 13048.80293326,  4578.75361597, 11010.72946451,\n",
       "        3708.348972  , 16481.64892296, 46389.96889567, 10427.83737171,\n",
       "        7456.3502337 ,  5874.41103443, 21951.2939407 ,  9357.08609302,\n",
       "        2678.28906078, 20825.39644278, 41155.65860975, 10858.8652606 ,\n",
       "        8596.57455626,  4056.80225012,  3320.72010731,  8445.64581567,\n",
       "        5635.6615016 ,  8076.17197662,  7377.00548304,  5827.65919384,\n",
       "       23416.61592929,  3305.16481765,  8051.29825135,  9266.47349016,\n",
       "       10687.9359707 ,  5491.04514586, 40455.08848183,  8230.01009824,\n",
       "       16513.4356998 ,  6362.06125276, 14405.36900555,  2190.66005861,\n",
       "       11884.82190085, 14446.11914296,  6727.66831449, 24213.28674859,\n",
       "       18278.82166701, 16165.51188633, 14573.81419366,  4546.22686259,\n",
       "        7376.78326066,  3274.83222037, 11656.27586213,  4607.1153989 ,\n",
       "       13364.73759778,  8149.4197959 ,  9547.49963547, 13654.15973734,\n",
       "        6072.03026014, 16812.69816089, 14125.85358785, 16014.9205687 ,\n",
       "       27490.63602038, 17532.26736319,  3951.1115964 ,  2992.7495457 ,\n",
       "        3295.21661828,  4203.1094504 , 16951.58266496, 18075.24163918,\n",
       "        7268.88285717,  2322.57140149,  3256.68469154, 42984.91331465,\n",
       "       14211.06311925,  9357.08609302,  3305.16481765,  9317.66714476,\n",
       "       14297.81585575, 15747.51781029, 25187.72537399, 14710.20501595,\n",
       "       39398.76899708,  3982.40819421, 39166.14570636, 18404.06625623,\n",
       "       14304.07042074,  6277.68753689,  7777.66170137, 12524.45821257,\n",
       "        6403.16676814,  8390.54696906,  2614.83158797,  4570.67279917,\n",
       "        4627.33424498,  2525.64614119,  6109.51475229, 13106.46926684,\n",
       "       43181.57134808,  5010.67439057,  9384.95709592,  7568.05604739,\n",
       "        9042.79122524,  7315.3833318 ,  6668.90067518, 14470.78779935,\n",
       "       39211.50850519, 46932.07196734, 28438.90809459,  8757.0133167 ,\n",
       "        3923.03145845, 12614.26726371,  6208.14048804, 10093.03792296,\n",
       "       45678.67290476, 20894.26789284, 19489.03182814,  4253.16501609,\n",
       "        7193.63668642,  7371.0992118 , 43066.77585495, 12351.38732952,\n",
       "        2482.24749744,  6515.95752511,  5139.7381242 ,  9576.94979025,\n",
       "       45229.08922667, 13973.95823532,  7534.98347601,  8277.00532139,\n",
       "        5307.51013522, 13758.00341058,  8203.62409155, 35244.28684502,\n",
       "       42511.06290389,  8661.5258201 , 10849.20525599, 10567.03080187,\n",
       "       12710.03692334,  4389.07654397, 12579.60817795, 12579.60817795,\n",
       "       43732.58442679, 42120.73398782, 12287.404023  , 18827.47478309,\n",
       "        5208.10129559,  5164.65882283,  5099.78620827,  3565.21202975,\n",
       "        4407.82432608, 13208.21620162,  9614.16334634, 15577.47848683,\n",
       "        4087.62557632, 10849.20525599,  9121.72850964, 11681.15360402,\n",
       "       16860.79028267,  4920.93267826, 13272.09246084, 12874.17831129,\n",
       "       39545.58999919, 11914.97537911,  6576.8648982 ,  6714.07027864,\n",
       "        3104.60868953, 42493.81480977,  4050.70087382, 25154.86579554,\n",
       "       12811.33550815,  5046.74280536,  2997.80651648,  2273.7037407 ,\n",
       "       39125.02778876,  7406.43779375, 16485.57600743, 21166.28276664,\n",
       "       34386.23284206, 18734.94886297,  4967.12077068, 12757.50053827,\n",
       "       20393.81041115,  5855.80482888,  8584.98840572,  8703.14785594,\n",
       "        4665.71606294, 42560.63507243, 23829.88830451,  9456.24256228,\n",
       "        5807.87202724,  7949.76142913, 15397.57400763,  1710.91281752,\n",
       "        3029.00766154,  9540.77242539, 10329.91922797,  4267.04134563,\n",
       "        4592.14531723, 45905.42674869, 45908.80451868, 18881.20388128,\n",
       "       10690.22728141, 47196.97933392, 42301.52115323, 10782.34024253,\n",
       "       35144.93799021,  5694.12708976, 14610.43588047, 38389.97844345,\n",
       "        7117.59550955,  6225.24265659, 15610.6732926 , 10561.77691881,\n",
       "       16551.22588032,  1925.7690016 ,  4108.71150306,  5820.97364452,\n",
       "        6250.11898444,  4089.65528664,  6757.13330203, 10248.82387364,\n",
       "        3066.67194149, 11306.2323118 ,  7333.31492703,  7910.92322639,\n",
       "        4103.32110384,  9343.47236428,  4863.76279205, 12390.23842536,\n",
       "       13905.93760831, 14389.46099089, 43326.62790523, 13996.89924493,\n",
       "       12390.25479997,  7237.26876697,  8180.90258232, 12338.70759481,\n",
       "       37560.62651641, 44616.06008114, 17498.51328184, 13888.51699254,\n",
       "       14642.46269902,  6898.82262293, 49897.23072186, 11384.26048489])"
      ]
     },
     "execution_count": 85,
     "metadata": {},
     "output_type": "execute_result"
    }
   ],
   "source": [
    "y_pred_test_gbr"
   ]
  },
  {
   "cell_type": "code",
   "execution_count": 86,
   "id": "3fb7a4e4",
   "metadata": {},
   "outputs": [
    {
     "data": {
      "text/plain": [
       "0.8916033853020491"
      ]
     },
     "execution_count": 86,
     "metadata": {},
     "output_type": "execute_result"
    }
   ],
   "source": [
    "# Accuracy scorev for train\n",
    "gbr_model.score(x_train, y_train)"
   ]
  },
  {
   "cell_type": "code",
   "execution_count": 87,
   "id": "e2a6d6f6",
   "metadata": {},
   "outputs": [
    {
     "data": {
      "text/plain": [
       "0.9014090099883397"
      ]
     },
     "execution_count": 87,
     "metadata": {},
     "output_type": "execute_result"
    }
   ],
   "source": [
    "# Accuracy score for test\n",
    "gbr_model.score(x_test, y_test)"
   ]
  },
  {
   "cell_type": "markdown",
   "id": "9c17e5f0",
   "metadata": {},
   "source": [
    "Model Evaluation"
   ]
  },
  {
   "cell_type": "code",
   "execution_count": 88,
   "id": "4814a01b",
   "metadata": {},
   "outputs": [
    {
     "name": "stdout",
     "output_type": "stream",
     "text": [
      "Mean squared error: 14841086.743484898\n",
      "RMSE VALUE: 3852.413106545675\n"
     ]
    }
   ],
   "source": [
    "from sklearn.metrics import mean_squared_error, r2_score\n",
    "\n",
    "# calculate RMSE of train data\n",
    "mse_train = mean_squared_error(y_train, y_pred_train_gbr)\n",
    "print(\"Mean squared error:\", mse_train)\n",
    "rmse_train = np.sqrt(mse_train)\n",
    "print(\"RMSE VALUE:\", rmse_train)"
   ]
  },
  {
   "cell_type": "code",
   "execution_count": 89,
   "id": "c4a50e4f",
   "metadata": {},
   "outputs": [
    {
     "name": "stdout",
     "output_type": "stream",
     "text": [
      "Mean squared error: 18116692.27445804\n",
      "RMSE VALUE: 4256.370786768704\n"
     ]
    }
   ],
   "source": [
    "# calculate RMSE of test data\n",
    "mse_test = mean_squared_error(y_test, y_pred_test_gbr)\n",
    "print(\"Mean squared error:\", mse_test)\n",
    "rmse_test = np.sqrt(mse_test)\n",
    "print(\"RMSE VALUE:\", rmse_test)"
   ]
  },
  {
   "cell_type": "code",
   "execution_count": 90,
   "id": "d056a18e",
   "metadata": {},
   "outputs": [
    {
     "name": "stdout",
     "output_type": "stream",
     "text": [
      "R-squared for train data: 0.8916033853020491\n"
     ]
    }
   ],
   "source": [
    "# Assuming y_train and y_pred_train are your actual and predicted target values for the train set\n",
    "r_squared_train = r2_score(y_train, y_pred_train_gbr)\n",
    "print(\"R-squared for train data:\", r_squared_train)"
   ]
  },
  {
   "cell_type": "code",
   "execution_count": 91,
   "id": "00324b38",
   "metadata": {},
   "outputs": [
    {
     "name": "stdout",
     "output_type": "stream",
     "text": [
      "R-squared for test data: 0.9014090099883397\n"
     ]
    }
   ],
   "source": [
    "# Assuming y_test and y_pred_test are your actual and predicted target values for the test set\n",
    "r_squared_test = r2_score(y_test, y_pred_test_gbr)\n",
    "print(\"R-squared for test data:\", r_squared_test)"
   ]
  },
  {
   "cell_type": "code",
   "execution_count": 92,
   "id": "d75e019c",
   "metadata": {},
   "outputs": [],
   "source": [
    "# Check to the Adjusted R Squared\n",
    "\n",
    "def adjusted_r_squared(r_squared, n, k):\n",
    "    adjusted_r2 = 1 - (1 - r_squared) * (n - 1) / (n - k - 1)\n",
    "    return adjusted_r2"
   ]
  },
  {
   "cell_type": "code",
   "execution_count": 93,
   "id": "2dfa91bf",
   "metadata": {},
   "outputs": [],
   "source": [
    "# For train data\n",
    "n_train, p = x_train.shape[0], x_train.shape[1]\n",
    "model_train_adjusted_r2 = adjusted_r_squared(r_squared_train, n_train, p)\n",
    "\n",
    "# For test data\n",
    "n_test = x_test.shape[0]\n",
    "model_test_adjusted_r2 = adjusted_r_squared(r_squared_test, n_test, p)"
   ]
  },
  {
   "cell_type": "code",
   "execution_count": 94,
   "id": "d8861a0a",
   "metadata": {},
   "outputs": [
    {
     "name": "stdout",
     "output_type": "stream",
     "text": [
      "Adjusted R-squared for train data: 0.8907852976439513\n",
      "Adjusted R-squared for test data: 0.898363728443578\n"
     ]
    }
   ],
   "source": [
    "print(\"Adjusted R-squared for train data:\", model_train_adjusted_r2)\n",
    "print(\"Adjusted R-squared for test data:\", model_test_adjusted_r2)"
   ]
  },
  {
   "cell_type": "code",
   "execution_count": 95,
   "id": "5d661ee4",
   "metadata": {},
   "outputs": [
    {
     "data": {
      "text/html": [
       "<div>\n",
       "<style scoped>\n",
       "    .dataframe tbody tr th:only-of-type {\n",
       "        vertical-align: middle;\n",
       "    }\n",
       "\n",
       "    .dataframe tbody tr th {\n",
       "        vertical-align: top;\n",
       "    }\n",
       "\n",
       "    .dataframe thead th {\n",
       "        text-align: right;\n",
       "    }\n",
       "</style>\n",
       "<table border=\"1\" class=\"dataframe\">\n",
       "  <thead>\n",
       "    <tr style=\"text-align: right;\">\n",
       "      <th></th>\n",
       "      <th>Title</th>\n",
       "      <th>Vales</th>\n",
       "    </tr>\n",
       "  </thead>\n",
       "  <tbody>\n",
       "    <tr>\n",
       "      <th>0</th>\n",
       "      <td>RMSE_train</td>\n",
       "      <td>3852.413107</td>\n",
       "    </tr>\n",
       "    <tr>\n",
       "      <th>1</th>\n",
       "      <td>RMSE_test</td>\n",
       "      <td>4256.370787</td>\n",
       "    </tr>\n",
       "    <tr>\n",
       "      <th>2</th>\n",
       "      <td>R squared_train</td>\n",
       "      <td>0.891603</td>\n",
       "    </tr>\n",
       "    <tr>\n",
       "      <th>3</th>\n",
       "      <td>R squared_test</td>\n",
       "      <td>0.901409</td>\n",
       "    </tr>\n",
       "    <tr>\n",
       "      <th>4</th>\n",
       "      <td>Adjusted R squraed_train</td>\n",
       "      <td>0.890785</td>\n",
       "    </tr>\n",
       "    <tr>\n",
       "      <th>5</th>\n",
       "      <td>Adjusted R squraed_test</td>\n",
       "      <td>0.898364</td>\n",
       "    </tr>\n",
       "  </tbody>\n",
       "</table>\n",
       "</div>"
      ],
      "text/plain": [
       "                      Title        Vales\n",
       "0                RMSE_train  3852.413107\n",
       "1                 RMSE_test  4256.370787\n",
       "2           R squared_train     0.891603\n",
       "3            R squared_test     0.901409\n",
       "4  Adjusted R squraed_train     0.890785\n",
       "5   Adjusted R squraed_test     0.898364"
      ]
     },
     "execution_count": 95,
     "metadata": {},
     "output_type": "execute_result"
    }
   ],
   "source": [
    "d1 = {'Title':['RMSE_train', 'RMSE_test', 'R squared_train', 'R squared_test', 'Adjusted R squraed_train', 'Adjusted R squraed_test'], 'Vales':[rmse_train, rmse_test, r_squared_train, r_squared_test, model_train_adjusted_r2, model_test_adjusted_r2]}\n",
    "pd.DataFrame(d1)"
   ]
  },
  {
   "cell_type": "markdown",
   "id": "e9c6ed71",
   "metadata": {},
   "source": [
    "### 3. XGB Regressor"
   ]
  },
  {
   "cell_type": "code",
   "execution_count": 96,
   "id": "78e45985",
   "metadata": {},
   "outputs": [
    {
     "name": "stdout",
     "output_type": "stream",
     "text": [
      "Requirement already satisfied: xgboost in c:\\users\\h p\\anaconda3\\lib\\site-packages (2.0.3)\n",
      "Requirement already satisfied: numpy in c:\\users\\h p\\anaconda3\\lib\\site-packages (from xgboost) (1.24.3)\n",
      "Requirement already satisfied: scipy in c:\\users\\h p\\anaconda3\\lib\\site-packages (from xgboost) (1.11.1)\n",
      "Note: you may need to restart the kernel to use updated packages.\n"
     ]
    }
   ],
   "source": [
    "pip install xgboost"
   ]
  },
  {
   "cell_type": "code",
   "execution_count": 97,
   "id": "2ce6fb07",
   "metadata": {},
   "outputs": [],
   "source": [
    "# Import XGB Regressor\n",
    "from xgboost import XGBRegressor"
   ]
  },
  {
   "cell_type": "code",
   "execution_count": 98,
   "id": "23db71d9",
   "metadata": {},
   "outputs": [],
   "source": [
    "xgb_model = XGBRegressor()"
   ]
  },
  {
   "cell_type": "code",
   "execution_count": 99,
   "id": "11cbddbf",
   "metadata": {},
   "outputs": [
    {
     "data": {
      "text/html": [
       "<style>#sk-container-id-4 {color: black;}#sk-container-id-4 pre{padding: 0;}#sk-container-id-4 div.sk-toggleable {background-color: white;}#sk-container-id-4 label.sk-toggleable__label {cursor: pointer;display: block;width: 100%;margin-bottom: 0;padding: 0.3em;box-sizing: border-box;text-align: center;}#sk-container-id-4 label.sk-toggleable__label-arrow:before {content: \"▸\";float: left;margin-right: 0.25em;color: #696969;}#sk-container-id-4 label.sk-toggleable__label-arrow:hover:before {color: black;}#sk-container-id-4 div.sk-estimator:hover label.sk-toggleable__label-arrow:before {color: black;}#sk-container-id-4 div.sk-toggleable__content {max-height: 0;max-width: 0;overflow: hidden;text-align: left;background-color: #f0f8ff;}#sk-container-id-4 div.sk-toggleable__content pre {margin: 0.2em;color: black;border-radius: 0.25em;background-color: #f0f8ff;}#sk-container-id-4 input.sk-toggleable__control:checked~div.sk-toggleable__content {max-height: 200px;max-width: 100%;overflow: auto;}#sk-container-id-4 input.sk-toggleable__control:checked~label.sk-toggleable__label-arrow:before {content: \"▾\";}#sk-container-id-4 div.sk-estimator input.sk-toggleable__control:checked~label.sk-toggleable__label {background-color: #d4ebff;}#sk-container-id-4 div.sk-label input.sk-toggleable__control:checked~label.sk-toggleable__label {background-color: #d4ebff;}#sk-container-id-4 input.sk-hidden--visually {border: 0;clip: rect(1px 1px 1px 1px);clip: rect(1px, 1px, 1px, 1px);height: 1px;margin: -1px;overflow: hidden;padding: 0;position: absolute;width: 1px;}#sk-container-id-4 div.sk-estimator {font-family: monospace;background-color: #f0f8ff;border: 1px dotted black;border-radius: 0.25em;box-sizing: border-box;margin-bottom: 0.5em;}#sk-container-id-4 div.sk-estimator:hover {background-color: #d4ebff;}#sk-container-id-4 div.sk-parallel-item::after {content: \"\";width: 100%;border-bottom: 1px solid gray;flex-grow: 1;}#sk-container-id-4 div.sk-label:hover label.sk-toggleable__label {background-color: #d4ebff;}#sk-container-id-4 div.sk-serial::before {content: \"\";position: absolute;border-left: 1px solid gray;box-sizing: border-box;top: 0;bottom: 0;left: 50%;z-index: 0;}#sk-container-id-4 div.sk-serial {display: flex;flex-direction: column;align-items: center;background-color: white;padding-right: 0.2em;padding-left: 0.2em;position: relative;}#sk-container-id-4 div.sk-item {position: relative;z-index: 1;}#sk-container-id-4 div.sk-parallel {display: flex;align-items: stretch;justify-content: center;background-color: white;position: relative;}#sk-container-id-4 div.sk-item::before, #sk-container-id-4 div.sk-parallel-item::before {content: \"\";position: absolute;border-left: 1px solid gray;box-sizing: border-box;top: 0;bottom: 0;left: 50%;z-index: -1;}#sk-container-id-4 div.sk-parallel-item {display: flex;flex-direction: column;z-index: 1;position: relative;background-color: white;}#sk-container-id-4 div.sk-parallel-item:first-child::after {align-self: flex-end;width: 50%;}#sk-container-id-4 div.sk-parallel-item:last-child::after {align-self: flex-start;width: 50%;}#sk-container-id-4 div.sk-parallel-item:only-child::after {width: 0;}#sk-container-id-4 div.sk-dashed-wrapped {border: 1px dashed gray;margin: 0 0.4em 0.5em 0.4em;box-sizing: border-box;padding-bottom: 0.4em;background-color: white;}#sk-container-id-4 div.sk-label label {font-family: monospace;font-weight: bold;display: inline-block;line-height: 1.2em;}#sk-container-id-4 div.sk-label-container {text-align: center;}#sk-container-id-4 div.sk-container {/* jupyter's `normalize.less` sets `[hidden] { display: none; }` but bootstrap.min.css set `[hidden] { display: none !important; }` so we also need the `!important` here to be able to override the default hidden behavior on the sphinx rendered scikit-learn.org. See: https://github.com/scikit-learn/scikit-learn/issues/21755 */display: inline-block !important;position: relative;}#sk-container-id-4 div.sk-text-repr-fallback {display: none;}</style><div id=\"sk-container-id-4\" class=\"sk-top-container\"><div class=\"sk-text-repr-fallback\"><pre>XGBRegressor(base_score=None, booster=None, callbacks=None,\n",
       "             colsample_bylevel=None, colsample_bynode=None,\n",
       "             colsample_bytree=None, device=None, early_stopping_rounds=None,\n",
       "             enable_categorical=False, eval_metric=None, feature_types=None,\n",
       "             gamma=None, grow_policy=None, importance_type=None,\n",
       "             interaction_constraints=None, learning_rate=None, max_bin=None,\n",
       "             max_cat_threshold=None, max_cat_to_onehot=None,\n",
       "             max_delta_step=None, max_depth=None, max_leaves=None,\n",
       "             min_child_weight=None, missing=nan, monotone_constraints=None,\n",
       "             multi_strategy=None, n_estimators=None, n_jobs=None,\n",
       "             num_parallel_tree=None, random_state=None, ...)</pre><b>In a Jupyter environment, please rerun this cell to show the HTML representation or trust the notebook. <br />On GitHub, the HTML representation is unable to render, please try loading this page with nbviewer.org.</b></div><div class=\"sk-container\" hidden><div class=\"sk-item\"><div class=\"sk-estimator sk-toggleable\"><input class=\"sk-toggleable__control sk-hidden--visually\" id=\"sk-estimator-id-4\" type=\"checkbox\" checked><label for=\"sk-estimator-id-4\" class=\"sk-toggleable__label sk-toggleable__label-arrow\">XGBRegressor</label><div class=\"sk-toggleable__content\"><pre>XGBRegressor(base_score=None, booster=None, callbacks=None,\n",
       "             colsample_bylevel=None, colsample_bynode=None,\n",
       "             colsample_bytree=None, device=None, early_stopping_rounds=None,\n",
       "             enable_categorical=False, eval_metric=None, feature_types=None,\n",
       "             gamma=None, grow_policy=None, importance_type=None,\n",
       "             interaction_constraints=None, learning_rate=None, max_bin=None,\n",
       "             max_cat_threshold=None, max_cat_to_onehot=None,\n",
       "             max_delta_step=None, max_depth=None, max_leaves=None,\n",
       "             min_child_weight=None, missing=nan, monotone_constraints=None,\n",
       "             multi_strategy=None, n_estimators=None, n_jobs=None,\n",
       "             num_parallel_tree=None, random_state=None, ...)</pre></div></div></div></div></div>"
      ],
      "text/plain": [
       "XGBRegressor(base_score=None, booster=None, callbacks=None,\n",
       "             colsample_bylevel=None, colsample_bynode=None,\n",
       "             colsample_bytree=None, device=None, early_stopping_rounds=None,\n",
       "             enable_categorical=False, eval_metric=None, feature_types=None,\n",
       "             gamma=None, grow_policy=None, importance_type=None,\n",
       "             interaction_constraints=None, learning_rate=None, max_bin=None,\n",
       "             max_cat_threshold=None, max_cat_to_onehot=None,\n",
       "             max_delta_step=None, max_depth=None, max_leaves=None,\n",
       "             min_child_weight=None, missing=nan, monotone_constraints=None,\n",
       "             multi_strategy=None, n_estimators=None, n_jobs=None,\n",
       "             num_parallel_tree=None, random_state=None, ...)"
      ]
     },
     "execution_count": 99,
     "metadata": {},
     "output_type": "execute_result"
    }
   ],
   "source": [
    "# Fitt the model on train \n",
    "xgb_model.fit(x_train, y_train)"
   ]
  },
  {
   "cell_type": "code",
   "execution_count": 100,
   "id": "e2215e19",
   "metadata": {},
   "outputs": [],
   "source": [
    "# Predict the train and test\n",
    "y_pred_train_xgb = xgb_model.predict(x_train)\n",
    "y_pred_test_xgb = xgb_model.predict(x_test)"
   ]
  },
  {
   "cell_type": "code",
   "execution_count": 101,
   "id": "fd1c5eee",
   "metadata": {},
   "outputs": [
    {
     "data": {
      "text/plain": [
       "array([ 2819.251 ,  4013.0713, 29751.709 , ...,  1730.9246,  7024.6533,\n",
       "        5934.482 ], dtype=float32)"
      ]
     },
     "execution_count": 101,
     "metadata": {},
     "output_type": "execute_result"
    }
   ],
   "source": [
    "y_pred_train_xgb"
   ]
  },
  {
   "cell_type": "code",
   "execution_count": 102,
   "id": "0873af90",
   "metadata": {},
   "outputs": [
    {
     "data": {
      "text/plain": [
       "array([ 8686.059  ,  8074.0444 , 11259.594  , 39622.664  ,  6074.0474 ,\n",
       "       10089.281  , 38825.9    ,  1851.2646 , 12567.912  , 10727.435  ,\n",
       "       13258.642  , 27971.102  , 39444.04   , 17677.9    ,  9011.665  ,\n",
       "        9418.917  , 10300.524  , 38335.805  ,  2872.6714 ,  3542.1106 ,\n",
       "        3963.8386 , 20692.928  ,  8883.641  , 21624.254  , 36894.176  ,\n",
       "       20499.9    , 40949.664  , 46670.38   ,  8724.545  , 19029.355  ,\n",
       "        4150.664  ,  6663.1367 ,  1995.4052 , 13875.174  , 46491.78   ,\n",
       "        8689.902  ,  5784.2637 ,  5267.5366 , 24575.059  ,  8061.5044 ,\n",
       "        2294.115  , 19364.844  , 41480.883  ,  8625.847  ,  6745.086  ,\n",
       "        3517.9583 ,  3300.5454 ,  7859.3965 ,  5769.1006 , 10274.5205 ,\n",
       "        5909.7837 ,  5876.906  , 20542.404  ,  4972.647  ,  7886.595  ,\n",
       "       10849.244  , 10671.079  ,  5770.8564 , 40765.586  ,  7211.493  ,\n",
       "       10239.833  ,  4344.838  , 18306.229  ,  1977.3782 , 10610.957  ,\n",
       "       15434.595  ,  6520.723  , 25824.205  , 14908.673  , 15565.71   ,\n",
       "       11475.596  , 19278.85   ,  5999.8467 ,  4025.9346 , 11489.975  ,\n",
       "        8140.6245 , 14731.209  ,  9819.548  ,  8762.238  , 12862.186  ,\n",
       "        7991.471  , 15520.927  , 14028.689  , 12737.755  , 29161.46   ,\n",
       "       17470.102  ,  2774.467  ,  2460.7422 ,  6683.743  ,  3314.3533 ,\n",
       "       16729.543  , 16036.505  , 10475.88   , 10639.619  ,  1639.7094 ,\n",
       "       43044.207  ,  9726.042  ,  7466.2334 ,  8853.359  , 11210.528  ,\n",
       "       15145.194  , 17095.447  , 24576.559  , 13484.56   , 39111.715  ,\n",
       "        2905.0242 , 39351.465  , 17131.875  , 12332.598  ,  6191.3516 ,\n",
       "        8278.966  , 11759.063  ,  6828.309  , 12113.152  ,  2260.181  ,\n",
       "        3672.0862 ,  3231.898  ,  5203.387  ,  1965.8193 , 14767.125  ,\n",
       "       41343.26   ,  4401.2354 ,  7610.077  ,  5013.528  ,  7470.361  ,\n",
       "        6448.104  ,  6849.3984 , 12553.219  , 39440.65   , 46280.7    ,\n",
       "       28500.24   ,  7525.749  ,  4846.993  , 11683.913  ,  6645.7637 ,\n",
       "       12639.478  , 45448.047  , 23527.916  , 19377.727  ,  3338.918  ,\n",
       "        9478.189  ,  7346.8213 , 42904.426  ,  9126.145  ,  1758.9883 ,\n",
       "        5657.9517 ,  5145.5605 ,  6764.6567 , 43081.6    , 12469.971  ,\n",
       "        9489.75   ,  7686.2485 ,  4388.4683 , 13660.175  , 10320.897  ,\n",
       "       38934.273  , 42167.11   ,  8562.278  , 10187.945  ,  9986.11   ,\n",
       "       12728.006  ,  6526.948  , 13676.865  , 11697.026  , 44442.78   ,\n",
       "       43607.95   , 12013.23   , 19268.111  ,  6139.4536 ,  3856.8672 ,\n",
       "        5417.893  ,  2124.855  ,  3427.393  , 15506.986  ,  9875.498  ,\n",
       "       16253.006  ,  1790.7546 , 11834.698  ,  9545.556  ,  9386.643  ,\n",
       "       14990.172  , 12963.736  , 13678.675  , 10888.887  , 39521.055  ,\n",
       "       12822.247  ,  4235.681  ,  7326.0293 ,  -278.74408, 49154.973  ,\n",
       "        2888.1836 , 24615.463  , 12329.768  ,  4373.9854 ,  1565.2772 ,\n",
       "        3098.1804 , 39415.832  ,  3593.375  , 14790.165  , 19109.268  ,\n",
       "       33366.96   , 19530.27   ,  3620.51   , 11520.089  , 18776.08   ,\n",
       "        4824.866  ,  7897.9365 , 11097.149  ,  3283.6973 , 40803.54   ,\n",
       "       24292.879  ,  8509.255  ,  4504.812  ,  6044.4507 , 20937.045  ,\n",
       "        1519.9949 ,   791.6162 ,  9093.805  , 13694.688  ,  6865.8027 ,\n",
       "        3743.107  , 45761.375  , 44184.773  , 15607.708  , 11102.768  ,\n",
       "       47666.387  , 44172.793  ,  7958.246  , 34529.098  ,  4294.439  ,\n",
       "       14125.652  , 36793.594  ,  6757.8467 ,  5131.051  ,  9489.307  ,\n",
       "       12434.461  , 12973.55   ,  2225.8093 ,  2025.3118 ,  4365.808  ,\n",
       "        3353.0986 ,  3785.2083 , 12037.657  , 10946.813  ,  1095.6001 ,\n",
       "        8350.1045 , 13142.62   ,  8434.8    ,  2989.7478 , 10701.592  ,\n",
       "        5897.4663 , 11609.3125 , 11921.188  , 13307.286  , 44317.816  ,\n",
       "       12986.597  , 12335.443  ,  8073.3784 ,  7900.019  , 10574.029  ,\n",
       "       41644.996  , 45502.81   , 14930.87   , 13371.701  , 15657.857  ,\n",
       "        6773.2197 , 48287.54   , 17063.125  ], dtype=float32)"
      ]
     },
     "execution_count": 102,
     "metadata": {},
     "output_type": "execute_result"
    }
   ],
   "source": [
    "y_pred_test_xgb"
   ]
  },
  {
   "cell_type": "code",
   "execution_count": 103,
   "id": "c5724a19",
   "metadata": {},
   "outputs": [
    {
     "data": {
      "text/plain": [
       "0.9958089670375463"
      ]
     },
     "execution_count": 103,
     "metadata": {},
     "output_type": "execute_result"
    }
   ],
   "source": [
    "# Accuracy scorev for train\n",
    "xgb_model.score(x_train, y_train)"
   ]
  },
  {
   "cell_type": "code",
   "execution_count": 104,
   "id": "397deb9f",
   "metadata": {},
   "outputs": [
    {
     "data": {
      "text/plain": [
       "0.8651123701384134"
      ]
     },
     "execution_count": 104,
     "metadata": {},
     "output_type": "execute_result"
    }
   ],
   "source": [
    "# Accuracy scorev for test\n",
    "xgb_model.score(x_test, y_test)"
   ]
  },
  {
   "cell_type": "markdown",
   "id": "2bf696c4",
   "metadata": {},
   "source": [
    "Model Evaluation"
   ]
  },
  {
   "cell_type": "code",
   "execution_count": 105,
   "id": "cee7c5e1",
   "metadata": {},
   "outputs": [
    {
     "name": "stdout",
     "output_type": "stream",
     "text": [
      "Mean squared error: 573813.89551601\n",
      "RMSE VALUE: 757.505046528411\n"
     ]
    }
   ],
   "source": [
    "from sklearn.metrics import mean_squared_error, r2_score\n",
    "\n",
    "# calculate RMSE of train data\n",
    "mse_train = mean_squared_error(y_train, y_pred_train_xgb)\n",
    "print(\"Mean squared error:\", mse_train)\n",
    "rmse_train = np.sqrt(mse_train)\n",
    "print(\"RMSE VALUE:\", rmse_train)"
   ]
  },
  {
   "cell_type": "code",
   "execution_count": 106,
   "id": "2c4c4374",
   "metadata": {},
   "outputs": [
    {
     "name": "stdout",
     "output_type": "stream",
     "text": [
      "Mean squared error: 24786419.95119783\n",
      "RMSE VALUE: 4978.596182780627\n"
     ]
    }
   ],
   "source": [
    "# calculate RMSE of test data\n",
    "mse_test = mean_squared_error(y_test, y_pred_test_xgb)\n",
    "print(\"Mean squared error:\", mse_test)\n",
    "rmse_test = np.sqrt(mse_test)\n",
    "print(\"RMSE VALUE:\", rmse_test)"
   ]
  },
  {
   "cell_type": "code",
   "execution_count": 107,
   "id": "b921a8f4",
   "metadata": {},
   "outputs": [
    {
     "name": "stdout",
     "output_type": "stream",
     "text": [
      "R-squared for train data: 0.9958089670375463\n"
     ]
    }
   ],
   "source": [
    "# Assuming y_train and y_pred_train are your actual and predicted target values for the train set\n",
    "r_squared_train = r2_score(y_train, y_pred_train_xgb)\n",
    "print(\"R-squared for train data:\", r_squared_train)"
   ]
  },
  {
   "cell_type": "code",
   "execution_count": 108,
   "id": "0b9aec41",
   "metadata": {},
   "outputs": [
    {
     "name": "stdout",
     "output_type": "stream",
     "text": [
      "R-squared for test data: 0.8651123701384134\n"
     ]
    }
   ],
   "source": [
    "# Assuming y_test and y_pred_test are your actual and predicted target values for the test set\n",
    "r_squared_test = r2_score(y_test, y_pred_test_xgb)\n",
    "print(\"R-squared for test data:\", r_squared_test)"
   ]
  },
  {
   "cell_type": "code",
   "execution_count": 109,
   "id": "d29ffca1",
   "metadata": {},
   "outputs": [],
   "source": [
    "# Check to the Adjusted R Squared\n",
    "\n",
    "def adjusted_r_squared(r_squared, n, k):\n",
    "    adjusted_r2 = 1 - (1 - r_squared) * (n - 1) / (n - k - 1)\n",
    "    return adjusted_r2"
   ]
  },
  {
   "cell_type": "code",
   "execution_count": 110,
   "id": "6cb87f8b",
   "metadata": {},
   "outputs": [],
   "source": [
    "# For train data\n",
    "n_train, p = x_train.shape[0], x_train.shape[1]\n",
    "model_train_adjusted_r2 = adjusted_r_squared(r_squared_train, n_train, p)\n",
    "\n",
    "# For test data\n",
    "n_test = x_test.shape[0]\n",
    "model_test_adjusted_r2 = adjusted_r_squared(r_squared_test, n_test, p)"
   ]
  },
  {
   "cell_type": "code",
   "execution_count": 111,
   "id": "d13184b0",
   "metadata": {},
   "outputs": [
    {
     "name": "stdout",
     "output_type": "stream",
     "text": [
      "Adjusted R-squared for train data: 0.9957773366000938\n",
      "Adjusted R-squared for test data: 0.8609459568608354\n"
     ]
    }
   ],
   "source": [
    "print(\"Adjusted R-squared for train data:\", model_train_adjusted_r2)\n",
    "print(\"Adjusted R-squared for test data:\", model_test_adjusted_r2)"
   ]
  },
  {
   "cell_type": "code",
   "execution_count": 112,
   "id": "1b465d4e",
   "metadata": {},
   "outputs": [
    {
     "data": {
      "text/html": [
       "<div>\n",
       "<style scoped>\n",
       "    .dataframe tbody tr th:only-of-type {\n",
       "        vertical-align: middle;\n",
       "    }\n",
       "\n",
       "    .dataframe tbody tr th {\n",
       "        vertical-align: top;\n",
       "    }\n",
       "\n",
       "    .dataframe thead th {\n",
       "        text-align: right;\n",
       "    }\n",
       "</style>\n",
       "<table border=\"1\" class=\"dataframe\">\n",
       "  <thead>\n",
       "    <tr style=\"text-align: right;\">\n",
       "      <th></th>\n",
       "      <th>Title</th>\n",
       "      <th>Vales</th>\n",
       "    </tr>\n",
       "  </thead>\n",
       "  <tbody>\n",
       "    <tr>\n",
       "      <th>0</th>\n",
       "      <td>RMSE_train</td>\n",
       "      <td>757.505047</td>\n",
       "    </tr>\n",
       "    <tr>\n",
       "      <th>1</th>\n",
       "      <td>RMSE_test</td>\n",
       "      <td>4978.596183</td>\n",
       "    </tr>\n",
       "    <tr>\n",
       "      <th>2</th>\n",
       "      <td>R squared_train</td>\n",
       "      <td>0.995809</td>\n",
       "    </tr>\n",
       "    <tr>\n",
       "      <th>3</th>\n",
       "      <td>R squared_test</td>\n",
       "      <td>0.865112</td>\n",
       "    </tr>\n",
       "    <tr>\n",
       "      <th>4</th>\n",
       "      <td>Adjusted R squraed_train</td>\n",
       "      <td>0.995777</td>\n",
       "    </tr>\n",
       "    <tr>\n",
       "      <th>5</th>\n",
       "      <td>Adjusted R squraed_test</td>\n",
       "      <td>0.860946</td>\n",
       "    </tr>\n",
       "  </tbody>\n",
       "</table>\n",
       "</div>"
      ],
      "text/plain": [
       "                      Title        Vales\n",
       "0                RMSE_train   757.505047\n",
       "1                 RMSE_test  4978.596183\n",
       "2           R squared_train     0.995809\n",
       "3            R squared_test     0.865112\n",
       "4  Adjusted R squraed_train     0.995777\n",
       "5   Adjusted R squraed_test     0.860946"
      ]
     },
     "execution_count": 112,
     "metadata": {},
     "output_type": "execute_result"
    }
   ],
   "source": [
    "d1 = {'Title':['RMSE_train', 'RMSE_test', 'R squared_train', 'R squared_test', 'Adjusted R squraed_train', 'Adjusted R squraed_test'], 'Vales':[rmse_train, rmse_test, r_squared_train, r_squared_test, model_train_adjusted_r2, model_test_adjusted_r2]}\n",
    "pd.DataFrame(d1)"
   ]
  },
  {
   "cell_type": "markdown",
   "id": "d2cbed3e",
   "metadata": {},
   "source": [
    "### 4. LightGBM"
   ]
  },
  {
   "cell_type": "code",
   "execution_count": 115,
   "id": "d4044914",
   "metadata": {},
   "outputs": [
    {
     "name": "stdout",
     "output_type": "stream",
     "text": [
      "Requirement already satisfied: lightgbm in c:\\users\\h p\\anaconda3\\lib\\site-packages (4.3.0)\n",
      "Requirement already satisfied: numpy in c:\\users\\h p\\anaconda3\\lib\\site-packages (from lightgbm) (1.24.3)\n",
      "Requirement already satisfied: scipy in c:\\users\\h p\\anaconda3\\lib\\site-packages (from lightgbm) (1.11.1)\n",
      "Note: you may need to restart the kernel to use updated packages.\n"
     ]
    }
   ],
   "source": [
    "pip install lightgbm"
   ]
  },
  {
   "cell_type": "code",
   "execution_count": 117,
   "id": "a931a452",
   "metadata": {},
   "outputs": [],
   "source": [
    "import lightgbm as ltb"
   ]
  },
  {
   "cell_type": "code",
   "execution_count": 118,
   "id": "bb8a6c9b",
   "metadata": {},
   "outputs": [],
   "source": [
    "lgb_model = ltb.LGBMRegressor()"
   ]
  },
  {
   "cell_type": "code",
   "execution_count": 119,
   "id": "e791d969",
   "metadata": {},
   "outputs": [
    {
     "name": "stdout",
     "output_type": "stream",
     "text": [
      "[LightGBM] [Info] Auto-choosing row-wise multi-threading, the overhead of testing was 0.001130 seconds.\n",
      "You can set `force_row_wise=true` to remove the overhead.\n",
      "And if memory is not enough, you can set `force_col_wise=true`.\n",
      "[LightGBM] [Info] Total Bins 320\n",
      "[LightGBM] [Info] Number of data points in the train set: 1069, number of used features: 8\n",
      "[LightGBM] [Info] Start training from score 13030.203373\n"
     ]
    },
    {
     "data": {
      "text/html": [
       "<style>#sk-container-id-5 {color: black;}#sk-container-id-5 pre{padding: 0;}#sk-container-id-5 div.sk-toggleable {background-color: white;}#sk-container-id-5 label.sk-toggleable__label {cursor: pointer;display: block;width: 100%;margin-bottom: 0;padding: 0.3em;box-sizing: border-box;text-align: center;}#sk-container-id-5 label.sk-toggleable__label-arrow:before {content: \"▸\";float: left;margin-right: 0.25em;color: #696969;}#sk-container-id-5 label.sk-toggleable__label-arrow:hover:before {color: black;}#sk-container-id-5 div.sk-estimator:hover label.sk-toggleable__label-arrow:before {color: black;}#sk-container-id-5 div.sk-toggleable__content {max-height: 0;max-width: 0;overflow: hidden;text-align: left;background-color: #f0f8ff;}#sk-container-id-5 div.sk-toggleable__content pre {margin: 0.2em;color: black;border-radius: 0.25em;background-color: #f0f8ff;}#sk-container-id-5 input.sk-toggleable__control:checked~div.sk-toggleable__content {max-height: 200px;max-width: 100%;overflow: auto;}#sk-container-id-5 input.sk-toggleable__control:checked~label.sk-toggleable__label-arrow:before {content: \"▾\";}#sk-container-id-5 div.sk-estimator input.sk-toggleable__control:checked~label.sk-toggleable__label {background-color: #d4ebff;}#sk-container-id-5 div.sk-label input.sk-toggleable__control:checked~label.sk-toggleable__label {background-color: #d4ebff;}#sk-container-id-5 input.sk-hidden--visually {border: 0;clip: rect(1px 1px 1px 1px);clip: rect(1px, 1px, 1px, 1px);height: 1px;margin: -1px;overflow: hidden;padding: 0;position: absolute;width: 1px;}#sk-container-id-5 div.sk-estimator {font-family: monospace;background-color: #f0f8ff;border: 1px dotted black;border-radius: 0.25em;box-sizing: border-box;margin-bottom: 0.5em;}#sk-container-id-5 div.sk-estimator:hover {background-color: #d4ebff;}#sk-container-id-5 div.sk-parallel-item::after {content: \"\";width: 100%;border-bottom: 1px solid gray;flex-grow: 1;}#sk-container-id-5 div.sk-label:hover label.sk-toggleable__label {background-color: #d4ebff;}#sk-container-id-5 div.sk-serial::before {content: \"\";position: absolute;border-left: 1px solid gray;box-sizing: border-box;top: 0;bottom: 0;left: 50%;z-index: 0;}#sk-container-id-5 div.sk-serial {display: flex;flex-direction: column;align-items: center;background-color: white;padding-right: 0.2em;padding-left: 0.2em;position: relative;}#sk-container-id-5 div.sk-item {position: relative;z-index: 1;}#sk-container-id-5 div.sk-parallel {display: flex;align-items: stretch;justify-content: center;background-color: white;position: relative;}#sk-container-id-5 div.sk-item::before, #sk-container-id-5 div.sk-parallel-item::before {content: \"\";position: absolute;border-left: 1px solid gray;box-sizing: border-box;top: 0;bottom: 0;left: 50%;z-index: -1;}#sk-container-id-5 div.sk-parallel-item {display: flex;flex-direction: column;z-index: 1;position: relative;background-color: white;}#sk-container-id-5 div.sk-parallel-item:first-child::after {align-self: flex-end;width: 50%;}#sk-container-id-5 div.sk-parallel-item:last-child::after {align-self: flex-start;width: 50%;}#sk-container-id-5 div.sk-parallel-item:only-child::after {width: 0;}#sk-container-id-5 div.sk-dashed-wrapped {border: 1px dashed gray;margin: 0 0.4em 0.5em 0.4em;box-sizing: border-box;padding-bottom: 0.4em;background-color: white;}#sk-container-id-5 div.sk-label label {font-family: monospace;font-weight: bold;display: inline-block;line-height: 1.2em;}#sk-container-id-5 div.sk-label-container {text-align: center;}#sk-container-id-5 div.sk-container {/* jupyter's `normalize.less` sets `[hidden] { display: none; }` but bootstrap.min.css set `[hidden] { display: none !important; }` so we also need the `!important` here to be able to override the default hidden behavior on the sphinx rendered scikit-learn.org. See: https://github.com/scikit-learn/scikit-learn/issues/21755 */display: inline-block !important;position: relative;}#sk-container-id-5 div.sk-text-repr-fallback {display: none;}</style><div id=\"sk-container-id-5\" class=\"sk-top-container\"><div class=\"sk-text-repr-fallback\"><pre>LGBMRegressor()</pre><b>In a Jupyter environment, please rerun this cell to show the HTML representation or trust the notebook. <br />On GitHub, the HTML representation is unable to render, please try loading this page with nbviewer.org.</b></div><div class=\"sk-container\" hidden><div class=\"sk-item\"><div class=\"sk-estimator sk-toggleable\"><input class=\"sk-toggleable__control sk-hidden--visually\" id=\"sk-estimator-id-5\" type=\"checkbox\" checked><label for=\"sk-estimator-id-5\" class=\"sk-toggleable__label sk-toggleable__label-arrow\">LGBMRegressor</label><div class=\"sk-toggleable__content\"><pre>LGBMRegressor()</pre></div></div></div></div></div>"
      ],
      "text/plain": [
       "LGBMRegressor()"
      ]
     },
     "execution_count": 119,
     "metadata": {},
     "output_type": "execute_result"
    }
   ],
   "source": [
    "# Fitt the model on train data\n",
    "lgb_model.fit(x_train, y_train)"
   ]
  },
  {
   "cell_type": "code",
   "execution_count": 121,
   "id": "2c19cad6",
   "metadata": {},
   "outputs": [],
   "source": [
    "# Predict the train and test\n",
    "y_pred_train_lgbm = lgb_model.predict(x_train)\n",
    "y_pred_test_lgbm = lgb_model.predict(x_test)"
   ]
  },
  {
   "cell_type": "code",
   "execution_count": 122,
   "id": "7f899e8b",
   "metadata": {},
   "outputs": [
    {
     "data": {
      "text/plain": [
       "array([ 5830.1114661 ,  7368.10088911, 22506.76156631, ...,\n",
       "        1552.0342888 ,  7597.00199145,  7337.32956819])"
      ]
     },
     "execution_count": 122,
     "metadata": {},
     "output_type": "execute_result"
    }
   ],
   "source": [
    "y_pred_train_lgbm"
   ]
  },
  {
   "cell_type": "code",
   "execution_count": 123,
   "id": "7e8e93c8",
   "metadata": {},
   "outputs": [
    {
     "data": {
      "text/plain": [
       "array([10231.26923431,  6849.31456159, 13101.42960129, 39435.58192397,\n",
       "        4799.4864312 , 12002.70187926, 38504.98241726,  1635.96944483,\n",
       "       10822.59352451, 11192.97329963, 13275.53385528, 26041.55622581,\n",
       "       38990.07306845, 14645.25943475,  8499.9681879 ,  9770.82278332,\n",
       "        7843.5231746 , 40035.40018933,  4242.12801604,  5031.1057933 ,\n",
       "        6771.29470476, 20841.35724922,  9109.42822686, 22457.3578116 ,\n",
       "       37849.68866229, 14220.77384236, 42888.92146383, 44847.63021691,\n",
       "       10346.51720923, 12953.639619  ,  3148.30029433,  9594.47431516,\n",
       "        3019.75410822, 14951.82540312, 47977.75867442,  7710.01287229,\n",
       "        8114.27410549,  4848.18250404, 22961.98721788,  8083.01035705,\n",
       "        3183.15867478, 20925.7785402 , 41409.29072125,  8017.37858778,\n",
       "        6586.89106918,  2472.17002746,  3670.94215894,  7039.24037998,\n",
       "        6317.31772951, 10337.63658178,  8064.41693878,  8835.96113241,\n",
       "       23024.16521954,  5660.21938458,  9028.15296891, 12831.26958959,\n",
       "       10639.32172464,  7488.07135091, 41301.46333445,  8031.68722753,\n",
       "       10594.11779924,  4282.10100483, 15384.09478093,  1571.44939668,\n",
       "       12829.8353666 , 14933.18186758,  7155.9854461 , 25641.80711811,\n",
       "       17294.85240284, 18328.50725619, 10374.55847543,  8750.65069655,\n",
       "        8015.75891061,  4276.98132047, 11444.22196931,  1457.99369692,\n",
       "       14589.03152122,  8405.03198982, 11052.94772537, 11550.19014228,\n",
       "        9253.04216974, 17190.38558639, 15120.49596758, 12175.80152921,\n",
       "       28245.24051563, 15502.21600702,  1937.62949987,  3428.86228891,\n",
       "        5447.16108749,  6996.68115911, 15726.09410464, 17391.68199811,\n",
       "        8688.88875038,  3341.20897081,  2076.0166985 , 43225.75985529,\n",
       "       13666.03092387,  8702.07283721,  5818.22084455, 11495.36409602,\n",
       "       13883.75179846, 16417.51732988, 25292.94401029, 15986.70798848,\n",
       "       38844.83430056,  2185.90971695, 40216.97016227, 18047.62551932,\n",
       "       13710.22030077,  7458.82462104,  7201.87907936, 12284.95740716,\n",
       "        5546.15806336,  8494.01791411,  4140.48440808,  4653.67183637,\n",
       "        5422.79157546,  4230.21023792,  4923.49320199, 11793.14906209,\n",
       "       42281.02746075,  4209.3562347 ,  9509.40797826,  5041.35113289,\n",
       "        7358.17519291,  7831.88340279,  8052.91068045, 14709.11317146,\n",
       "       39170.50273004, 48117.60112737, 28478.19377009, 10636.09672291,\n",
       "        2939.23647234, 12370.04239493,  6026.57240974, 12871.41205317,\n",
       "       46850.48619568, 22722.63873191, 18734.78250805,  5140.92630411,\n",
       "        6722.70640536,  9141.73157053, 44011.02262158, 10096.6752646 ,\n",
       "        2817.69720234,  6935.66292195,  5505.08935478,  9685.58454604,\n",
       "       43608.26768988, 13304.03388946,  7723.74048532,  9250.19733133,\n",
       "        4807.11067338, 12299.45219974, 10486.69630292, 34227.3105977 ,\n",
       "       44433.78455758, 10886.75450439, 12916.67914013, 10262.016257  ,\n",
       "       13568.48244088,  6315.52326531, 10547.38118935, 12711.3688383 ,\n",
       "       42877.1453646 , 44123.84210676,  7824.94685787, 18060.77821788,\n",
       "        5430.87632969,  4632.90599568,  5434.14113292,  1914.649013  ,\n",
       "        4551.41301141, 16090.65928385,  9596.60845902, 16155.72325692,\n",
       "        2436.74509074, 11402.6769946 ,  9578.56294288,  8713.46853607,\n",
       "       17776.00006699,  6020.23130041, 12775.72175292, 11589.34472125,\n",
       "       37581.56594221, 12964.79307671,  2274.65128689,  5079.61517689,\n",
       "        2031.51590591, 41428.03389159,  4157.27250084, 22846.13904226,\n",
       "       13344.27533633,  5470.87299935,  1815.56830372,  3745.03265395,\n",
       "       39204.5023301 ,  3905.96835258, 16564.45295958, 18184.92355981,\n",
       "       32893.33898606, 19010.44599413,  4135.08514701, 12288.13901976,\n",
       "       22041.07736895,  5846.54320807,  7625.60885306,  9578.39089777,\n",
       "        5816.2228411 , 44088.75612201, 24767.83219632,  8045.72317296,\n",
       "        4249.61418216,  5574.05861773, 18139.84706171,   749.11710507,\n",
       "        2470.40706585, 10759.2883298 , 12391.446603  ,  6144.71985447,\n",
       "        4187.67098401, 45801.30730562, 47178.18376775, 18657.85022461,\n",
       "        8919.44210309, 44730.35987529, 42769.31071075,  9666.76700484,\n",
       "       33664.00990178,  6973.98332423, 13161.70523123, 37845.45698923,\n",
       "        8353.06796602,  6756.57730217, 10224.83068611, 13300.48303415,\n",
       "       13444.26170103,  -320.03954063,   872.67297737,  5022.32082437,\n",
       "        3297.4233199 ,   162.03060359,  6405.73216024, 11829.65829714,\n",
       "        1341.05147853, 10255.92737511,  8623.09466174,  6284.70910155,\n",
       "        3733.11336268, 10592.41062338,  6391.63083789, 11280.39004659,\n",
       "       12064.77700631, 14942.79975966, 45944.58555151, 14885.98383592,\n",
       "       12661.4225697 ,  8948.98224358,  7593.70383472, 10289.57392137,\n",
       "       38363.12537491, 44289.29826202, 14207.91309186, 12884.68095858,\n",
       "       13696.20916088, 10270.82548883, 48544.33071535, 13347.72286953])"
      ]
     },
     "execution_count": 123,
     "metadata": {},
     "output_type": "execute_result"
    }
   ],
   "source": [
    "y_pred_test_lgbm"
   ]
  },
  {
   "cell_type": "code",
   "execution_count": 124,
   "id": "d7ffb81b",
   "metadata": {},
   "outputs": [
    {
     "data": {
      "text/plain": [
       "0.936527476097836"
      ]
     },
     "execution_count": 124,
     "metadata": {},
     "output_type": "execute_result"
    }
   ],
   "source": [
    "# Accuracy score for train\n",
    "lgb_model.score(x_train, y_train)"
   ]
  },
  {
   "cell_type": "code",
   "execution_count": 125,
   "id": "3a2acb09",
   "metadata": {},
   "outputs": [
    {
     "data": {
      "text/plain": [
       "0.884548397010699"
      ]
     },
     "execution_count": 125,
     "metadata": {},
     "output_type": "execute_result"
    }
   ],
   "source": [
    "lgb_model.score(x_test, y_test)"
   ]
  },
  {
   "cell_type": "markdown",
   "id": "a6fa868b",
   "metadata": {},
   "source": [
    "Model Evaluation"
   ]
  },
  {
   "cell_type": "code",
   "execution_count": 126,
   "id": "e446a189",
   "metadata": {},
   "outputs": [
    {
     "name": "stdout",
     "output_type": "stream",
     "text": [
      "Mean squared error: 8690319.671742864\n",
      "RMSE VALUE: 2947.934814703823\n"
     ]
    }
   ],
   "source": [
    "from sklearn.metrics import mean_squared_error, r2_score\n",
    "\n",
    "# calculate RMSE of train data\n",
    "mse_train = mean_squared_error(y_train, y_pred_train_lgbm)\n",
    "print(\"Mean squared error:\", mse_train)\n",
    "rmse_train = np.sqrt(mse_train)\n",
    "print(\"RMSE VALUE:\", rmse_train)"
   ]
  },
  {
   "cell_type": "code",
   "execution_count": 127,
   "id": "21779c35",
   "metadata": {},
   "outputs": [
    {
     "name": "stdout",
     "output_type": "stream",
     "text": [
      "Mean squared error: 21214932.152549576\n",
      "RMSE VALUE: 4605.967016007558\n"
     ]
    }
   ],
   "source": [
    "# calculate RMSE of test data\n",
    "mse_test = mean_squared_error(y_test, y_pred_test_lgbm)\n",
    "print(\"Mean squared error:\", mse_test)\n",
    "rmse_test = np.sqrt(mse_test)\n",
    "print(\"RMSE VALUE:\", rmse_test)"
   ]
  },
  {
   "cell_type": "code",
   "execution_count": 128,
   "id": "3a5c3b03",
   "metadata": {},
   "outputs": [
    {
     "name": "stdout",
     "output_type": "stream",
     "text": [
      "R-squared for train data: 0.936527476097836\n"
     ]
    }
   ],
   "source": [
    "# Assuming y_train and y_pred_train are your actual and predicted target values for the train set\n",
    "r_squared_train = r2_score(y_train, y_pred_train_lgbm)\n",
    "print(\"R-squared for train data:\", r_squared_train)"
   ]
  },
  {
   "cell_type": "code",
   "execution_count": 129,
   "id": "9d8787ec",
   "metadata": {},
   "outputs": [
    {
     "name": "stdout",
     "output_type": "stream",
     "text": [
      "R-squared for test data: 0.884548397010699\n"
     ]
    }
   ],
   "source": [
    "# Assuming y_test and y_pred_test are your actual and predicted target values for the test set\n",
    "r_squared_test = r2_score(y_test, y_pred_test_lgbm)\n",
    "print(\"R-squared for test data:\", r_squared_test)"
   ]
  },
  {
   "cell_type": "code",
   "execution_count": 130,
   "id": "d0525251",
   "metadata": {},
   "outputs": [],
   "source": [
    "# Check to the Adjusted R Squared\n",
    "\n",
    "def adjusted_r_squared(r_squared, n, k):\n",
    "    adjusted_r2 = 1 - (1 - r_squared) * (n - 1) / (n - k - 1)\n",
    "    return adjusted_r2"
   ]
  },
  {
   "cell_type": "code",
   "execution_count": 131,
   "id": "4bcf49d6",
   "metadata": {},
   "outputs": [],
   "source": [
    "# For train data\n",
    "n_train, p = x_train.shape[0], x_train.shape[1]\n",
    "model_train_adjusted_r2 = adjusted_r_squared(r_squared_train, n_train, p)\n",
    "\n",
    "# For test data\n",
    "n_test = x_test.shape[0]\n",
    "model_test_adjusted_r2 = adjusted_r_squared(r_squared_test, n_test, p)"
   ]
  },
  {
   "cell_type": "code",
   "execution_count": 132,
   "id": "ef59185b",
   "metadata": {},
   "outputs": [
    {
     "data": {
      "text/html": [
       "<div>\n",
       "<style scoped>\n",
       "    .dataframe tbody tr th:only-of-type {\n",
       "        vertical-align: middle;\n",
       "    }\n",
       "\n",
       "    .dataframe tbody tr th {\n",
       "        vertical-align: top;\n",
       "    }\n",
       "\n",
       "    .dataframe thead th {\n",
       "        text-align: right;\n",
       "    }\n",
       "</style>\n",
       "<table border=\"1\" class=\"dataframe\">\n",
       "  <thead>\n",
       "    <tr style=\"text-align: right;\">\n",
       "      <th></th>\n",
       "      <th>Title</th>\n",
       "      <th>Vales</th>\n",
       "    </tr>\n",
       "  </thead>\n",
       "  <tbody>\n",
       "    <tr>\n",
       "      <th>0</th>\n",
       "      <td>RMSE_train</td>\n",
       "      <td>2947.934815</td>\n",
       "    </tr>\n",
       "    <tr>\n",
       "      <th>1</th>\n",
       "      <td>RMSE_test</td>\n",
       "      <td>4605.967016</td>\n",
       "    </tr>\n",
       "    <tr>\n",
       "      <th>2</th>\n",
       "      <td>R squared_train</td>\n",
       "      <td>0.936527</td>\n",
       "    </tr>\n",
       "    <tr>\n",
       "      <th>3</th>\n",
       "      <td>R squared_test</td>\n",
       "      <td>0.884548</td>\n",
       "    </tr>\n",
       "    <tr>\n",
       "      <th>4</th>\n",
       "      <td>Adjusted R squraed_train</td>\n",
       "      <td>0.936048</td>\n",
       "    </tr>\n",
       "    <tr>\n",
       "      <th>5</th>\n",
       "      <td>Adjusted R squraed_test</td>\n",
       "      <td>0.880982</td>\n",
       "    </tr>\n",
       "  </tbody>\n",
       "</table>\n",
       "</div>"
      ],
      "text/plain": [
       "                      Title        Vales\n",
       "0                RMSE_train  2947.934815\n",
       "1                 RMSE_test  4605.967016\n",
       "2           R squared_train     0.936527\n",
       "3            R squared_test     0.884548\n",
       "4  Adjusted R squraed_train     0.936048\n",
       "5   Adjusted R squraed_test     0.880982"
      ]
     },
     "execution_count": 132,
     "metadata": {},
     "output_type": "execute_result"
    }
   ],
   "source": [
    "d1 = {'Title':['RMSE_train', 'RMSE_test', 'R squared_train', 'R squared_test', 'Adjusted R squraed_train', 'Adjusted R squraed_test'], 'Vales':[rmse_train, rmse_test, r_squared_train, r_squared_test, model_train_adjusted_r2, model_test_adjusted_r2]}\n",
    "pd.DataFrame(d1)"
   ]
  },
  {
   "cell_type": "markdown",
   "id": "f01ddcb8",
   "metadata": {},
   "source": [
    "### 5. CatBoost"
   ]
  },
  {
   "cell_type": "code",
   "execution_count": 133,
   "id": "1f28d806",
   "metadata": {},
   "outputs": [
    {
     "name": "stdout",
     "output_type": "stream",
     "text": [
      "Requirement already satisfied: catboost in c:\\users\\h p\\anaconda3\\lib\\site-packages (1.2.5)\n",
      "Requirement already satisfied: graphviz in c:\\users\\h p\\anaconda3\\lib\\site-packages (from catboost) (0.20.3)\n",
      "Requirement already satisfied: matplotlib in c:\\users\\h p\\anaconda3\\lib\\site-packages (from catboost) (3.7.2)\n",
      "Requirement already satisfied: numpy>=1.16.0 in c:\\users\\h p\\anaconda3\\lib\\site-packages (from catboost) (1.24.3)\n",
      "Requirement already satisfied: pandas>=0.24 in c:\\users\\h p\\anaconda3\\lib\\site-packages (from catboost) (2.0.3)\n",
      "Requirement already satisfied: scipy in c:\\users\\h p\\anaconda3\\lib\\site-packages (from catboost) (1.11.1)\n",
      "Requirement already satisfied: plotly in c:\\users\\h p\\anaconda3\\lib\\site-packages (from catboost) (5.9.0)\n",
      "Requirement already satisfied: six in c:\\users\\h p\\anaconda3\\lib\\site-packages (from catboost) (1.16.0)\n",
      "Requirement already satisfied: python-dateutil>=2.8.2 in c:\\users\\h p\\anaconda3\\lib\\site-packages (from pandas>=0.24->catboost) (2.8.2)\n",
      "Requirement already satisfied: pytz>=2020.1 in c:\\users\\h p\\anaconda3\\lib\\site-packages (from pandas>=0.24->catboost) (2023.3.post1)\n",
      "Requirement already satisfied: tzdata>=2022.1 in c:\\users\\h p\\anaconda3\\lib\\site-packages (from pandas>=0.24->catboost) (2023.3)\n",
      "Requirement already satisfied: contourpy>=1.0.1 in c:\\users\\h p\\anaconda3\\lib\\site-packages (from matplotlib->catboost) (1.0.5)\n",
      "Requirement already satisfied: cycler>=0.10 in c:\\users\\h p\\anaconda3\\lib\\site-packages (from matplotlib->catboost) (0.11.0)\n",
      "Requirement already satisfied: fonttools>=4.22.0 in c:\\users\\h p\\anaconda3\\lib\\site-packages (from matplotlib->catboost) (4.25.0)\n",
      "Requirement already satisfied: kiwisolver>=1.0.1 in c:\\users\\h p\\anaconda3\\lib\\site-packages (from matplotlib->catboost) (1.4.4)\n",
      "Requirement already satisfied: packaging>=20.0 in c:\\users\\h p\\anaconda3\\lib\\site-packages (from matplotlib->catboost) (23.1)\n",
      "Requirement already satisfied: pillow>=6.2.0 in c:\\users\\h p\\anaconda3\\lib\\site-packages (from matplotlib->catboost) (9.4.0)\n",
      "Requirement already satisfied: pyparsing<3.1,>=2.3.1 in c:\\users\\h p\\anaconda3\\lib\\site-packages (from matplotlib->catboost) (3.0.9)\n",
      "Requirement already satisfied: tenacity>=6.2.0 in c:\\users\\h p\\anaconda3\\lib\\site-packages (from plotly->catboost) (8.2.2)\n",
      "Note: you may need to restart the kernel to use updated packages.\n"
     ]
    }
   ],
   "source": [
    "pip install catboost"
   ]
  },
  {
   "cell_type": "code",
   "execution_count": 135,
   "id": "ec708e4a",
   "metadata": {},
   "outputs": [],
   "source": [
    "# Import CatBoost Rgressor\n",
    "from catboost import CatBoostRegressor"
   ]
  },
  {
   "cell_type": "code",
   "execution_count": 136,
   "id": "e8182f74",
   "metadata": {},
   "outputs": [],
   "source": [
    "catb_model = CatBoostRegressor()"
   ]
  },
  {
   "cell_type": "code",
   "execution_count": 137,
   "id": "540af764",
   "metadata": {},
   "outputs": [
    {
     "name": "stdout",
     "output_type": "stream",
     "text": [
      "Learning rate set to 0.041377\n",
      "0:\tlearn: 11324.9253692\ttotal: 146ms\tremaining: 2m 25s\n",
      "1:\tlearn: 10998.9170280\ttotal: 148ms\tremaining: 1m 14s\n",
      "2:\tlearn: 10689.6416800\ttotal: 152ms\tremaining: 50.4s\n",
      "3:\tlearn: 10361.8536782\ttotal: 154ms\tremaining: 38.4s\n",
      "4:\tlearn: 10056.8934527\ttotal: 157ms\tremaining: 31.2s\n",
      "5:\tlearn: 9782.6951652\ttotal: 159ms\tremaining: 26.4s\n",
      "6:\tlearn: 9509.0343693\ttotal: 162ms\tremaining: 22.9s\n",
      "7:\tlearn: 9256.0602835\ttotal: 163ms\tremaining: 20.2s\n",
      "8:\tlearn: 9006.4126500\ttotal: 166ms\tremaining: 18.3s\n",
      "9:\tlearn: 8776.9577950\ttotal: 169ms\tremaining: 16.7s\n",
      "10:\tlearn: 8552.5391161\ttotal: 171ms\tremaining: 15.4s\n",
      "11:\tlearn: 8356.4719850\ttotal: 174ms\tremaining: 14.3s\n",
      "12:\tlearn: 8162.9922645\ttotal: 177ms\tremaining: 13.4s\n",
      "13:\tlearn: 7963.7789273\ttotal: 180ms\tremaining: 12.7s\n",
      "14:\tlearn: 7783.8258241\ttotal: 183ms\tremaining: 12s\n",
      "15:\tlearn: 7616.9890030\ttotal: 186ms\tremaining: 11.5s\n",
      "16:\tlearn: 7446.7655254\ttotal: 189ms\tremaining: 11s\n",
      "17:\tlearn: 7281.5499051\ttotal: 193ms\tremaining: 10.5s\n",
      "18:\tlearn: 7127.5980202\ttotal: 196ms\tremaining: 10.1s\n",
      "19:\tlearn: 6973.8270975\ttotal: 199ms\tremaining: 9.74s\n",
      "20:\tlearn: 6838.6227184\ttotal: 202ms\tremaining: 9.43s\n",
      "21:\tlearn: 6700.2615260\ttotal: 206ms\tremaining: 9.14s\n",
      "22:\tlearn: 6576.5256632\ttotal: 209ms\tremaining: 8.87s\n",
      "23:\tlearn: 6457.8393187\ttotal: 212ms\tremaining: 8.61s\n",
      "24:\tlearn: 6340.3001209\ttotal: 215ms\tremaining: 8.39s\n",
      "25:\tlearn: 6234.2298499\ttotal: 217ms\tremaining: 8.14s\n",
      "26:\tlearn: 6151.5269277\ttotal: 220ms\tremaining: 7.94s\n",
      "27:\tlearn: 6060.7158683\ttotal: 223ms\tremaining: 7.75s\n",
      "28:\tlearn: 5962.9941729\ttotal: 226ms\tremaining: 7.58s\n",
      "29:\tlearn: 5876.9531402\ttotal: 229ms\tremaining: 7.42s\n",
      "30:\tlearn: 5789.1020446\ttotal: 232ms\tremaining: 7.26s\n",
      "31:\tlearn: 5711.1576234\ttotal: 234ms\tremaining: 7.08s\n",
      "32:\tlearn: 5636.3656273\ttotal: 237ms\tremaining: 6.95s\n",
      "33:\tlearn: 5560.7030642\ttotal: 240ms\tremaining: 6.82s\n",
      "34:\tlearn: 5493.0465134\ttotal: 243ms\tremaining: 6.71s\n",
      "35:\tlearn: 5422.8976043\ttotal: 246ms\tremaining: 6.59s\n",
      "36:\tlearn: 5380.6741126\ttotal: 247ms\tremaining: 6.43s\n",
      "37:\tlearn: 5322.8129153\ttotal: 250ms\tremaining: 6.33s\n",
      "38:\tlearn: 5266.1703656\ttotal: 253ms\tremaining: 6.24s\n",
      "39:\tlearn: 5214.6770322\ttotal: 256ms\tremaining: 6.15s\n",
      "40:\tlearn: 5167.6723684\ttotal: 259ms\tremaining: 6.07s\n",
      "41:\tlearn: 5124.5627509\ttotal: 262ms\tremaining: 5.99s\n",
      "42:\tlearn: 5079.0504776\ttotal: 265ms\tremaining: 5.9s\n",
      "43:\tlearn: 5037.6051436\ttotal: 268ms\tremaining: 5.82s\n",
      "44:\tlearn: 5004.1797404\ttotal: 269ms\tremaining: 5.72s\n",
      "45:\tlearn: 4966.2319629\ttotal: 272ms\tremaining: 5.65s\n",
      "46:\tlearn: 4931.3696476\ttotal: 275ms\tremaining: 5.58s\n",
      "47:\tlearn: 4897.5519443\ttotal: 278ms\tremaining: 5.51s\n",
      "48:\tlearn: 4865.6764572\ttotal: 280ms\tremaining: 5.44s\n",
      "49:\tlearn: 4835.7715573\ttotal: 283ms\tremaining: 5.38s\n",
      "50:\tlearn: 4809.2495725\ttotal: 286ms\tremaining: 5.31s\n",
      "51:\tlearn: 4783.0841800\ttotal: 288ms\tremaining: 5.25s\n",
      "52:\tlearn: 4758.4047289\ttotal: 291ms\tremaining: 5.2s\n",
      "53:\tlearn: 4727.9006970\ttotal: 293ms\tremaining: 5.14s\n",
      "54:\tlearn: 4703.4456521\ttotal: 296ms\tremaining: 5.09s\n",
      "55:\tlearn: 4678.7155032\ttotal: 299ms\tremaining: 5.04s\n",
      "56:\tlearn: 4656.2548659\ttotal: 301ms\tremaining: 4.99s\n",
      "57:\tlearn: 4633.5493426\ttotal: 304ms\tremaining: 4.94s\n",
      "58:\tlearn: 4614.9067139\ttotal: 307ms\tremaining: 4.89s\n",
      "59:\tlearn: 4593.6544280\ttotal: 310ms\tremaining: 4.85s\n",
      "60:\tlearn: 4577.5197704\ttotal: 312ms\tremaining: 4.8s\n",
      "61:\tlearn: 4557.8420328\ttotal: 315ms\tremaining: 4.76s\n",
      "62:\tlearn: 4538.3348860\ttotal: 318ms\tremaining: 4.72s\n",
      "63:\tlearn: 4521.9441830\ttotal: 320ms\tremaining: 4.68s\n",
      "64:\tlearn: 4506.6129597\ttotal: 323ms\tremaining: 4.64s\n",
      "65:\tlearn: 4494.7526207\ttotal: 325ms\tremaining: 4.61s\n",
      "66:\tlearn: 4482.7802017\ttotal: 328ms\tremaining: 4.57s\n",
      "67:\tlearn: 4470.0976207\ttotal: 331ms\tremaining: 4.53s\n",
      "68:\tlearn: 4457.5396307\ttotal: 333ms\tremaining: 4.5s\n",
      "69:\tlearn: 4447.1049018\ttotal: 336ms\tremaining: 4.46s\n",
      "70:\tlearn: 4437.4729772\ttotal: 338ms\tremaining: 4.43s\n",
      "71:\tlearn: 4427.0230755\ttotal: 341ms\tremaining: 4.4s\n",
      "72:\tlearn: 4416.3924116\ttotal: 344ms\tremaining: 4.36s\n",
      "73:\tlearn: 4406.0190296\ttotal: 346ms\tremaining: 4.33s\n",
      "74:\tlearn: 4397.0486110\ttotal: 349ms\tremaining: 4.3s\n",
      "75:\tlearn: 4388.2360767\ttotal: 352ms\tremaining: 4.28s\n",
      "76:\tlearn: 4378.7496606\ttotal: 355ms\tremaining: 4.25s\n",
      "77:\tlearn: 4370.2399869\ttotal: 357ms\tremaining: 4.22s\n",
      "78:\tlearn: 4361.3924965\ttotal: 360ms\tremaining: 4.2s\n",
      "79:\tlearn: 4353.8820416\ttotal: 362ms\tremaining: 4.16s\n",
      "80:\tlearn: 4345.2260962\ttotal: 365ms\tremaining: 4.14s\n",
      "81:\tlearn: 4341.4068200\ttotal: 366ms\tremaining: 4.09s\n",
      "82:\tlearn: 4335.1338931\ttotal: 368ms\tremaining: 4.07s\n",
      "83:\tlearn: 4329.2772575\ttotal: 370ms\tremaining: 4.04s\n",
      "84:\tlearn: 4319.0290477\ttotal: 373ms\tremaining: 4.01s\n",
      "85:\tlearn: 4314.5020203\ttotal: 375ms\tremaining: 3.99s\n",
      "86:\tlearn: 4308.1683859\ttotal: 378ms\tremaining: 3.96s\n",
      "87:\tlearn: 4301.3934363\ttotal: 381ms\tremaining: 3.94s\n",
      "88:\tlearn: 4294.4275128\ttotal: 383ms\tremaining: 3.92s\n",
      "89:\tlearn: 4288.9018450\ttotal: 386ms\tremaining: 3.9s\n",
      "90:\tlearn: 4284.9894333\ttotal: 389ms\tremaining: 3.88s\n",
      "91:\tlearn: 4279.2709138\ttotal: 391ms\tremaining: 3.86s\n",
      "92:\tlearn: 4271.9333563\ttotal: 394ms\tremaining: 3.84s\n",
      "93:\tlearn: 4264.5230683\ttotal: 397ms\tremaining: 3.82s\n",
      "94:\tlearn: 4261.0288669\ttotal: 399ms\tremaining: 3.8s\n",
      "95:\tlearn: 4256.0905035\ttotal: 402ms\tremaining: 3.79s\n",
      "96:\tlearn: 4252.0588495\ttotal: 405ms\tremaining: 3.77s\n",
      "97:\tlearn: 4249.6110083\ttotal: 406ms\tremaining: 3.74s\n",
      "98:\tlearn: 4244.3083707\ttotal: 409ms\tremaining: 3.72s\n",
      "99:\tlearn: 4239.4629950\ttotal: 412ms\tremaining: 3.7s\n",
      "100:\tlearn: 4234.8616224\ttotal: 414ms\tremaining: 3.69s\n",
      "101:\tlearn: 4229.4610773\ttotal: 417ms\tremaining: 3.67s\n",
      "102:\tlearn: 4224.6547409\ttotal: 420ms\tremaining: 3.65s\n",
      "103:\tlearn: 4221.6047015\ttotal: 422ms\tremaining: 3.64s\n",
      "104:\tlearn: 4218.6714458\ttotal: 425ms\tremaining: 3.62s\n",
      "105:\tlearn: 4214.2522657\ttotal: 427ms\tremaining: 3.6s\n",
      "106:\tlearn: 4209.8829888\ttotal: 430ms\tremaining: 3.59s\n",
      "107:\tlearn: 4205.9363607\ttotal: 432ms\tremaining: 3.57s\n",
      "108:\tlearn: 4204.2169321\ttotal: 434ms\tremaining: 3.54s\n",
      "109:\tlearn: 4198.8871098\ttotal: 436ms\tremaining: 3.53s\n",
      "110:\tlearn: 4195.0864293\ttotal: 439ms\tremaining: 3.51s\n",
      "111:\tlearn: 4192.2469817\ttotal: 441ms\tremaining: 3.5s\n",
      "112:\tlearn: 4190.9705702\ttotal: 442ms\tremaining: 3.47s\n",
      "113:\tlearn: 4185.2312174\ttotal: 445ms\tremaining: 3.46s\n",
      "114:\tlearn: 4183.5060766\ttotal: 447ms\tremaining: 3.44s\n",
      "115:\tlearn: 4179.3771212\ttotal: 450ms\tremaining: 3.42s\n",
      "116:\tlearn: 4177.0616500\ttotal: 452ms\tremaining: 3.41s\n",
      "117:\tlearn: 4173.2250080\ttotal: 455ms\tremaining: 3.4s\n",
      "118:\tlearn: 4169.9575241\ttotal: 457ms\tremaining: 3.38s\n",
      "119:\tlearn: 4167.1734654\ttotal: 460ms\tremaining: 3.37s\n",
      "120:\tlearn: 4163.7188624\ttotal: 463ms\tremaining: 3.36s\n",
      "121:\tlearn: 4158.5922173\ttotal: 465ms\tremaining: 3.35s\n",
      "122:\tlearn: 4154.7082210\ttotal: 468ms\tremaining: 3.33s\n",
      "123:\tlearn: 4153.2224611\ttotal: 470ms\tremaining: 3.32s\n",
      "124:\tlearn: 4150.6905307\ttotal: 472ms\tremaining: 3.31s\n",
      "125:\tlearn: 4147.4450866\ttotal: 475ms\tremaining: 3.29s\n",
      "126:\tlearn: 4144.8872366\ttotal: 478ms\tremaining: 3.28s\n",
      "127:\tlearn: 4142.6968268\ttotal: 480ms\tremaining: 3.27s\n",
      "128:\tlearn: 4141.2630656\ttotal: 483ms\tremaining: 3.26s\n",
      "129:\tlearn: 4137.4704060\ttotal: 485ms\tremaining: 3.25s\n",
      "130:\tlearn: 4133.7153088\ttotal: 488ms\tremaining: 3.24s\n",
      "131:\tlearn: 4130.8640481\ttotal: 491ms\tremaining: 3.23s\n",
      "132:\tlearn: 4127.4231944\ttotal: 493ms\tremaining: 3.21s\n",
      "133:\tlearn: 4126.6458522\ttotal: 494ms\tremaining: 3.19s\n",
      "134:\tlearn: 4125.1284198\ttotal: 497ms\tremaining: 3.18s\n",
      "135:\tlearn: 4123.4411570\ttotal: 500ms\tremaining: 3.17s\n",
      "136:\tlearn: 4119.4790581\ttotal: 502ms\tremaining: 3.16s\n",
      "137:\tlearn: 4117.9190673\ttotal: 505ms\tremaining: 3.15s\n",
      "138:\tlearn: 4116.6290350\ttotal: 507ms\tremaining: 3.14s\n",
      "139:\tlearn: 4114.2080090\ttotal: 510ms\tremaining: 3.13s\n",
      "140:\tlearn: 4112.5383935\ttotal: 513ms\tremaining: 3.12s\n",
      "141:\tlearn: 4109.0550630\ttotal: 515ms\tremaining: 3.11s\n",
      "142:\tlearn: 4105.8098036\ttotal: 518ms\tremaining: 3.1s\n",
      "143:\tlearn: 4103.9913313\ttotal: 520ms\tremaining: 3.09s\n",
      "144:\tlearn: 4100.9395697\ttotal: 523ms\tremaining: 3.08s\n",
      "145:\tlearn: 4098.1752925\ttotal: 526ms\tremaining: 3.07s\n",
      "146:\tlearn: 4094.7381383\ttotal: 528ms\tremaining: 3.06s\n",
      "147:\tlearn: 4092.2346118\ttotal: 531ms\tremaining: 3.06s\n",
      "148:\tlearn: 4087.4901549\ttotal: 533ms\tremaining: 3.05s\n",
      "149:\tlearn: 4086.4395045\ttotal: 536ms\tremaining: 3.04s\n",
      "150:\tlearn: 4083.2334155\ttotal: 539ms\tremaining: 3.03s\n",
      "151:\tlearn: 4079.7023811\ttotal: 542ms\tremaining: 3.02s\n",
      "152:\tlearn: 4076.7365956\ttotal: 545ms\tremaining: 3.02s\n",
      "153:\tlearn: 4072.0057159\ttotal: 547ms\tremaining: 3.01s\n",
      "154:\tlearn: 4069.2420431\ttotal: 550ms\tremaining: 3s\n",
      "155:\tlearn: 4063.1260492\ttotal: 553ms\tremaining: 2.99s\n",
      "156:\tlearn: 4063.0573547\ttotal: 554ms\tremaining: 2.97s\n",
      "157:\tlearn: 4061.3191943\ttotal: 556ms\tremaining: 2.96s\n",
      "158:\tlearn: 4056.2006435\ttotal: 558ms\tremaining: 2.95s\n",
      "159:\tlearn: 4055.0161678\ttotal: 561ms\tremaining: 2.94s\n",
      "160:\tlearn: 4051.6638385\ttotal: 563ms\tremaining: 2.93s\n",
      "161:\tlearn: 4047.6825751\ttotal: 565ms\tremaining: 2.92s\n",
      "162:\tlearn: 4044.3545011\ttotal: 568ms\tremaining: 2.91s\n",
      "163:\tlearn: 4040.9397222\ttotal: 570ms\tremaining: 2.9s\n",
      "164:\tlearn: 4039.0681661\ttotal: 573ms\tremaining: 2.9s\n",
      "165:\tlearn: 4035.5121817\ttotal: 575ms\tremaining: 2.89s\n",
      "166:\tlearn: 4032.4477117\ttotal: 578ms\tremaining: 2.88s\n",
      "167:\tlearn: 4026.4195066\ttotal: 580ms\tremaining: 2.87s\n",
      "168:\tlearn: 4024.8101937\ttotal: 583ms\tremaining: 2.87s\n",
      "169:\tlearn: 4021.3622762\ttotal: 586ms\tremaining: 2.86s\n",
      "170:\tlearn: 4017.5091304\ttotal: 588ms\tremaining: 2.85s\n",
      "171:\tlearn: 4016.2414776\ttotal: 591ms\tremaining: 2.84s\n",
      "172:\tlearn: 4014.3814918\ttotal: 593ms\tremaining: 2.83s\n",
      "173:\tlearn: 4010.5383153\ttotal: 596ms\tremaining: 2.83s\n",
      "174:\tlearn: 4006.3938424\ttotal: 599ms\tremaining: 2.82s\n",
      "175:\tlearn: 4005.1977291\ttotal: 601ms\tremaining: 2.81s\n",
      "176:\tlearn: 4003.4924165\ttotal: 603ms\tremaining: 2.81s\n",
      "177:\tlearn: 4001.9814203\ttotal: 606ms\tremaining: 2.8s\n",
      "178:\tlearn: 3999.4588345\ttotal: 609ms\tremaining: 2.79s\n",
      "179:\tlearn: 3996.6726464\ttotal: 611ms\tremaining: 2.78s\n",
      "180:\tlearn: 3994.5466154\ttotal: 614ms\tremaining: 2.78s\n",
      "181:\tlearn: 3992.4791427\ttotal: 616ms\tremaining: 2.77s\n",
      "182:\tlearn: 3988.7002203\ttotal: 619ms\tremaining: 2.76s\n",
      "183:\tlearn: 3982.7333504\ttotal: 622ms\tremaining: 2.76s\n",
      "184:\tlearn: 3979.2395876\ttotal: 624ms\tremaining: 2.75s\n",
      "185:\tlearn: 3974.3576195\ttotal: 627ms\tremaining: 2.74s\n",
      "186:\tlearn: 3970.7765809\ttotal: 630ms\tremaining: 2.74s\n",
      "187:\tlearn: 3968.1681074\ttotal: 632ms\tremaining: 2.73s\n",
      "188:\tlearn: 3966.7862211\ttotal: 635ms\tremaining: 2.72s\n",
      "189:\tlearn: 3964.8947604\ttotal: 637ms\tremaining: 2.72s\n",
      "190:\tlearn: 3962.5051703\ttotal: 640ms\tremaining: 2.71s\n",
      "191:\tlearn: 3961.0589988\ttotal: 642ms\tremaining: 2.7s\n",
      "192:\tlearn: 3955.3173590\ttotal: 645ms\tremaining: 2.7s\n",
      "193:\tlearn: 3947.1776450\ttotal: 648ms\tremaining: 2.69s\n",
      "194:\tlearn: 3945.0611357\ttotal: 650ms\tremaining: 2.68s\n",
      "195:\tlearn: 3943.8670126\ttotal: 653ms\tremaining: 2.68s\n",
      "196:\tlearn: 3941.5958470\ttotal: 656ms\tremaining: 2.67s\n",
      "197:\tlearn: 3938.0164504\ttotal: 658ms\tremaining: 2.67s\n",
      "198:\tlearn: 3936.1931755\ttotal: 661ms\tremaining: 2.66s\n",
      "199:\tlearn: 3933.4606226\ttotal: 664ms\tremaining: 2.65s\n",
      "200:\tlearn: 3929.2599662\ttotal: 667ms\tremaining: 2.65s\n",
      "201:\tlearn: 3926.4943028\ttotal: 669ms\tremaining: 2.64s\n",
      "202:\tlearn: 3925.9229971\ttotal: 671ms\tremaining: 2.63s\n",
      "203:\tlearn: 3923.0579899\ttotal: 674ms\tremaining: 2.63s\n",
      "204:\tlearn: 3920.2693159\ttotal: 676ms\tremaining: 2.62s\n",
      "205:\tlearn: 3917.1637075\ttotal: 679ms\tremaining: 2.62s\n",
      "206:\tlearn: 3915.0381618\ttotal: 682ms\tremaining: 2.61s\n",
      "207:\tlearn: 3914.1276524\ttotal: 684ms\tremaining: 2.6s\n",
      "208:\tlearn: 3911.3339661\ttotal: 687ms\tremaining: 2.6s\n",
      "209:\tlearn: 3908.0695919\ttotal: 690ms\tremaining: 2.59s\n",
      "210:\tlearn: 3903.6055434\ttotal: 692ms\tremaining: 2.59s\n",
      "211:\tlearn: 3902.3616073\ttotal: 695ms\tremaining: 2.58s\n",
      "212:\tlearn: 3899.0071807\ttotal: 698ms\tremaining: 2.58s\n",
      "213:\tlearn: 3897.3585185\ttotal: 700ms\tremaining: 2.57s\n",
      "214:\tlearn: 3894.9384152\ttotal: 703ms\tremaining: 2.56s\n",
      "215:\tlearn: 3890.3899722\ttotal: 705ms\tremaining: 2.56s\n",
      "216:\tlearn: 3887.5871119\ttotal: 708ms\tremaining: 2.55s\n",
      "217:\tlearn: 3884.8071148\ttotal: 711ms\tremaining: 2.55s\n",
      "218:\tlearn: 3883.2384540\ttotal: 713ms\tremaining: 2.54s\n",
      "219:\tlearn: 3882.1996636\ttotal: 716ms\tremaining: 2.54s\n",
      "220:\tlearn: 3881.3764206\ttotal: 718ms\tremaining: 2.53s\n",
      "221:\tlearn: 3876.8470130\ttotal: 721ms\tremaining: 2.53s\n",
      "222:\tlearn: 3873.6709478\ttotal: 723ms\tremaining: 2.52s\n",
      "223:\tlearn: 3872.5030025\ttotal: 726ms\tremaining: 2.52s\n",
      "224:\tlearn: 3871.4529929\ttotal: 729ms\tremaining: 2.51s\n",
      "225:\tlearn: 3868.0537356\ttotal: 731ms\tremaining: 2.5s\n",
      "226:\tlearn: 3865.3609396\ttotal: 734ms\tremaining: 2.5s\n",
      "227:\tlearn: 3860.6810583\ttotal: 736ms\tremaining: 2.49s\n",
      "228:\tlearn: 3856.0447980\ttotal: 739ms\tremaining: 2.49s\n",
      "229:\tlearn: 3853.0453003\ttotal: 742ms\tremaining: 2.48s\n",
      "230:\tlearn: 3851.4705635\ttotal: 744ms\tremaining: 2.48s\n",
      "231:\tlearn: 3849.3719404\ttotal: 746ms\tremaining: 2.47s\n",
      "232:\tlearn: 3846.7477670\ttotal: 748ms\tremaining: 2.46s\n",
      "233:\tlearn: 3844.5060879\ttotal: 750ms\tremaining: 2.46s\n",
      "234:\tlearn: 3842.2271070\ttotal: 753ms\tremaining: 2.45s\n",
      "235:\tlearn: 3840.8469450\ttotal: 756ms\tremaining: 2.45s\n",
      "236:\tlearn: 3839.1759797\ttotal: 758ms\tremaining: 2.44s\n",
      "237:\tlearn: 3837.3347004\ttotal: 760ms\tremaining: 2.43s\n",
      "238:\tlearn: 3835.8635516\ttotal: 763ms\tremaining: 2.43s\n",
      "239:\tlearn: 3833.6076861\ttotal: 765ms\tremaining: 2.42s\n",
      "240:\tlearn: 3830.4189237\ttotal: 768ms\tremaining: 2.42s\n",
      "241:\tlearn: 3826.0510339\ttotal: 770ms\tremaining: 2.41s\n",
      "242:\tlearn: 3825.4541799\ttotal: 772ms\tremaining: 2.4s\n",
      "243:\tlearn: 3823.2504070\ttotal: 775ms\tremaining: 2.4s\n",
      "244:\tlearn: 3819.1641945\ttotal: 778ms\tremaining: 2.4s\n",
      "245:\tlearn: 3817.6983388\ttotal: 780ms\tremaining: 2.39s\n",
      "246:\tlearn: 3815.7310365\ttotal: 783ms\tremaining: 2.39s\n",
      "247:\tlearn: 3810.9818976\ttotal: 785ms\tremaining: 2.38s\n",
      "248:\tlearn: 3807.7611941\ttotal: 788ms\tremaining: 2.38s\n",
      "249:\tlearn: 3806.1611137\ttotal: 791ms\tremaining: 2.37s\n",
      "250:\tlearn: 3804.0575407\ttotal: 793ms\tremaining: 2.37s\n",
      "251:\tlearn: 3802.1441615\ttotal: 796ms\tremaining: 2.36s\n",
      "252:\tlearn: 3800.1858960\ttotal: 799ms\tremaining: 2.36s\n",
      "253:\tlearn: 3799.5388386\ttotal: 801ms\tremaining: 2.35s\n",
      "254:\tlearn: 3798.0638015\ttotal: 804ms\tremaining: 2.35s\n",
      "255:\tlearn: 3795.3466595\ttotal: 806ms\tremaining: 2.34s\n",
      "256:\tlearn: 3794.0943325\ttotal: 809ms\tremaining: 2.34s\n",
      "257:\tlearn: 3792.5953550\ttotal: 812ms\tremaining: 2.33s\n",
      "258:\tlearn: 3790.0415652\ttotal: 814ms\tremaining: 2.33s\n",
      "259:\tlearn: 3787.9075098\ttotal: 817ms\tremaining: 2.32s\n",
      "260:\tlearn: 3786.4876826\ttotal: 819ms\tremaining: 2.32s\n",
      "261:\tlearn: 3785.5063112\ttotal: 822ms\tremaining: 2.32s\n",
      "262:\tlearn: 3783.6632402\ttotal: 825ms\tremaining: 2.31s\n",
      "263:\tlearn: 3781.6263847\ttotal: 827ms\tremaining: 2.31s\n",
      "264:\tlearn: 3780.9207947\ttotal: 830ms\tremaining: 2.3s\n",
      "265:\tlearn: 3780.2495129\ttotal: 833ms\tremaining: 2.3s\n",
      "266:\tlearn: 3778.9199528\ttotal: 835ms\tremaining: 2.29s\n",
      "267:\tlearn: 3776.1433560\ttotal: 838ms\tremaining: 2.29s\n",
      "268:\tlearn: 3775.8698355\ttotal: 841ms\tremaining: 2.28s\n",
      "269:\tlearn: 3773.9479618\ttotal: 843ms\tremaining: 2.28s\n",
      "270:\tlearn: 3773.2272815\ttotal: 846ms\tremaining: 2.28s\n",
      "271:\tlearn: 3770.7944226\ttotal: 849ms\tremaining: 2.27s\n",
      "272:\tlearn: 3767.1155377\ttotal: 851ms\tremaining: 2.27s\n",
      "273:\tlearn: 3762.2050043\ttotal: 854ms\tremaining: 2.26s\n",
      "274:\tlearn: 3759.5110988\ttotal: 857ms\tremaining: 2.26s\n",
      "275:\tlearn: 3754.8719578\ttotal: 860ms\tremaining: 2.25s\n",
      "276:\tlearn: 3751.1602085\ttotal: 862ms\tremaining: 2.25s\n",
      "277:\tlearn: 3747.8373388\ttotal: 865ms\tremaining: 2.25s\n",
      "278:\tlearn: 3745.0035035\ttotal: 868ms\tremaining: 2.24s\n",
      "279:\tlearn: 3743.8242717\ttotal: 870ms\tremaining: 2.24s\n",
      "280:\tlearn: 3742.8798804\ttotal: 873ms\tremaining: 2.23s\n",
      "281:\tlearn: 3742.4665482\ttotal: 875ms\tremaining: 2.23s\n",
      "282:\tlearn: 3740.2756163\ttotal: 878ms\tremaining: 2.22s\n",
      "283:\tlearn: 3737.0492884\ttotal: 881ms\tremaining: 2.22s\n",
      "284:\tlearn: 3735.9133191\ttotal: 883ms\tremaining: 2.21s\n",
      "285:\tlearn: 3734.8846906\ttotal: 886ms\tremaining: 2.21s\n",
      "286:\tlearn: 3732.5508399\ttotal: 889ms\tremaining: 2.21s\n",
      "287:\tlearn: 3731.6563727\ttotal: 891ms\tremaining: 2.2s\n",
      "288:\tlearn: 3730.2296400\ttotal: 894ms\tremaining: 2.2s\n",
      "289:\tlearn: 3726.2886282\ttotal: 896ms\tremaining: 2.19s\n",
      "290:\tlearn: 3724.9309727\ttotal: 899ms\tremaining: 2.19s\n",
      "291:\tlearn: 3723.4192088\ttotal: 902ms\tremaining: 2.19s\n",
      "292:\tlearn: 3722.3668675\ttotal: 904ms\tremaining: 2.18s\n",
      "293:\tlearn: 3720.0175103\ttotal: 907ms\tremaining: 2.18s\n",
      "294:\tlearn: 3718.4245485\ttotal: 910ms\tremaining: 2.17s\n",
      "295:\tlearn: 3715.2654967\ttotal: 913ms\tremaining: 2.17s\n",
      "296:\tlearn: 3714.3941486\ttotal: 916ms\tremaining: 2.17s\n",
      "297:\tlearn: 3712.8005342\ttotal: 919ms\tremaining: 2.17s\n",
      "298:\tlearn: 3711.3226277\ttotal: 922ms\tremaining: 2.16s\n",
      "299:\tlearn: 3707.0109571\ttotal: 924ms\tremaining: 2.16s\n",
      "300:\tlearn: 3702.8568392\ttotal: 927ms\tremaining: 2.15s\n",
      "301:\tlearn: 3699.4970183\ttotal: 929ms\tremaining: 2.15s\n",
      "302:\tlearn: 3698.4168901\ttotal: 931ms\tremaining: 2.14s\n",
      "303:\tlearn: 3695.8696384\ttotal: 934ms\tremaining: 2.14s\n",
      "304:\tlearn: 3691.9436438\ttotal: 936ms\tremaining: 2.13s\n",
      "305:\tlearn: 3690.4245106\ttotal: 939ms\tremaining: 2.13s\n",
      "306:\tlearn: 3689.4533792\ttotal: 942ms\tremaining: 2.13s\n",
      "307:\tlearn: 3687.9881884\ttotal: 944ms\tremaining: 2.12s\n",
      "308:\tlearn: 3686.9280031\ttotal: 947ms\tremaining: 2.12s\n",
      "309:\tlearn: 3686.6648162\ttotal: 949ms\tremaining: 2.11s\n",
      "310:\tlearn: 3684.0289954\ttotal: 952ms\tremaining: 2.11s\n",
      "311:\tlearn: 3681.4166225\ttotal: 954ms\tremaining: 2.1s\n",
      "312:\tlearn: 3679.9927627\ttotal: 956ms\tremaining: 2.1s\n",
      "313:\tlearn: 3677.7673252\ttotal: 959ms\tremaining: 2.1s\n",
      "314:\tlearn: 3676.7666765\ttotal: 962ms\tremaining: 2.09s\n",
      "315:\tlearn: 3674.0904392\ttotal: 964ms\tremaining: 2.09s\n",
      "316:\tlearn: 3673.1112832\ttotal: 967ms\tremaining: 2.08s\n",
      "317:\tlearn: 3672.2181755\ttotal: 970ms\tremaining: 2.08s\n",
      "318:\tlearn: 3669.7752292\ttotal: 972ms\tremaining: 2.08s\n",
      "319:\tlearn: 3667.6323473\ttotal: 975ms\tremaining: 2.07s\n",
      "320:\tlearn: 3666.5806092\ttotal: 977ms\tremaining: 2.07s\n",
      "321:\tlearn: 3665.2499449\ttotal: 980ms\tremaining: 2.06s\n",
      "322:\tlearn: 3664.3212478\ttotal: 982ms\tremaining: 2.06s\n",
      "323:\tlearn: 3661.7941608\ttotal: 985ms\tremaining: 2.06s\n",
      "324:\tlearn: 3657.1750426\ttotal: 988ms\tremaining: 2.05s\n",
      "325:\tlearn: 3655.2201251\ttotal: 990ms\tremaining: 2.05s\n",
      "326:\tlearn: 3651.6286386\ttotal: 993ms\tremaining: 2.04s\n",
      "327:\tlearn: 3650.2907811\ttotal: 995ms\tremaining: 2.04s\n",
      "328:\tlearn: 3648.9857049\ttotal: 998ms\tremaining: 2.04s\n",
      "329:\tlearn: 3646.7045449\ttotal: 1s\tremaining: 2.03s\n",
      "330:\tlearn: 3646.4036807\ttotal: 1s\tremaining: 2.03s\n",
      "331:\tlearn: 3645.0782058\ttotal: 1.01s\tremaining: 2.02s\n",
      "332:\tlearn: 3643.6408310\ttotal: 1.01s\tremaining: 2.02s\n",
      "333:\tlearn: 3640.6033390\ttotal: 1.01s\tremaining: 2.02s\n",
      "334:\tlearn: 3636.4491008\ttotal: 1.01s\tremaining: 2.01s\n",
      "335:\tlearn: 3634.3705626\ttotal: 1.02s\tremaining: 2.01s\n",
      "336:\tlearn: 3630.5119399\ttotal: 1.02s\tremaining: 2s\n",
      "337:\tlearn: 3626.1354445\ttotal: 1.02s\tremaining: 2s\n",
      "338:\tlearn: 3623.8250164\ttotal: 1.02s\tremaining: 2s\n",
      "339:\tlearn: 3622.5621782\ttotal: 1.03s\tremaining: 1.99s\n",
      "340:\tlearn: 3620.0413124\ttotal: 1.03s\tremaining: 1.99s\n",
      "341:\tlearn: 3617.2085081\ttotal: 1.03s\tremaining: 1.99s\n",
      "342:\tlearn: 3614.8053972\ttotal: 1.03s\tremaining: 1.98s\n",
      "343:\tlearn: 3613.5562293\ttotal: 1.04s\tremaining: 1.98s\n",
      "344:\tlearn: 3612.6174373\ttotal: 1.04s\tremaining: 1.98s\n",
      "345:\tlearn: 3608.8346002\ttotal: 1.04s\tremaining: 1.97s\n",
      "346:\tlearn: 3606.8415359\ttotal: 1.05s\tremaining: 1.97s\n",
      "347:\tlearn: 3605.1220732\ttotal: 1.05s\tremaining: 1.96s\n",
      "348:\tlearn: 3602.8275407\ttotal: 1.05s\tremaining: 1.96s\n",
      "349:\tlearn: 3601.5809744\ttotal: 1.05s\tremaining: 1.96s\n",
      "350:\tlearn: 3601.3080250\ttotal: 1.06s\tremaining: 1.95s\n",
      "351:\tlearn: 3601.1356699\ttotal: 1.06s\tremaining: 1.95s\n",
      "352:\tlearn: 3599.9378523\ttotal: 1.06s\tremaining: 1.95s\n",
      "353:\tlearn: 3596.1506079\ttotal: 1.06s\tremaining: 1.94s\n",
      "354:\tlearn: 3594.9600330\ttotal: 1.07s\tremaining: 1.94s\n",
      "355:\tlearn: 3591.9365638\ttotal: 1.07s\tremaining: 1.94s\n",
      "356:\tlearn: 3591.8090218\ttotal: 1.07s\tremaining: 1.93s\n",
      "357:\tlearn: 3588.6934736\ttotal: 1.07s\tremaining: 1.93s\n",
      "358:\tlearn: 3586.6549037\ttotal: 1.08s\tremaining: 1.92s\n",
      "359:\tlearn: 3586.5325850\ttotal: 1.08s\tremaining: 1.92s\n",
      "360:\tlearn: 3583.6286594\ttotal: 1.08s\tremaining: 1.91s\n",
      "361:\tlearn: 3580.9065929\ttotal: 1.08s\tremaining: 1.91s\n",
      "362:\tlearn: 3579.2754671\ttotal: 1.08s\tremaining: 1.91s\n",
      "363:\tlearn: 3577.3593217\ttotal: 1.09s\tremaining: 1.9s\n",
      "364:\tlearn: 3575.0909482\ttotal: 1.09s\tremaining: 1.9s\n",
      "365:\tlearn: 3573.9025659\ttotal: 1.09s\tremaining: 1.89s\n",
      "366:\tlearn: 3572.3414994\ttotal: 1.09s\tremaining: 1.89s\n",
      "367:\tlearn: 3570.5973385\ttotal: 1.1s\tremaining: 1.89s\n",
      "368:\tlearn: 3569.8067499\ttotal: 1.1s\tremaining: 1.88s\n",
      "369:\tlearn: 3568.6700730\ttotal: 1.1s\tremaining: 1.88s\n",
      "370:\tlearn: 3567.3681756\ttotal: 1.11s\tremaining: 1.88s\n",
      "371:\tlearn: 3564.7972045\ttotal: 1.11s\tremaining: 1.87s\n",
      "372:\tlearn: 3561.8412052\ttotal: 1.11s\tremaining: 1.87s\n",
      "373:\tlearn: 3557.5527706\ttotal: 1.11s\tremaining: 1.86s\n",
      "374:\tlearn: 3556.7638589\ttotal: 1.12s\tremaining: 1.86s\n",
      "375:\tlearn: 3555.1100723\ttotal: 1.12s\tremaining: 1.86s\n",
      "376:\tlearn: 3554.4187832\ttotal: 1.12s\tremaining: 1.85s\n",
      "377:\tlearn: 3551.8700745\ttotal: 1.12s\tremaining: 1.85s\n",
      "378:\tlearn: 3548.8895301\ttotal: 1.13s\tremaining: 1.85s\n",
      "379:\tlearn: 3548.1598924\ttotal: 1.13s\tremaining: 1.84s\n",
      "380:\tlearn: 3547.0359957\ttotal: 1.13s\tremaining: 1.84s\n",
      "381:\tlearn: 3544.9634319\ttotal: 1.13s\tremaining: 1.84s\n",
      "382:\tlearn: 3542.5378973\ttotal: 1.14s\tremaining: 1.83s\n",
      "383:\tlearn: 3541.3779238\ttotal: 1.14s\tremaining: 1.83s\n",
      "384:\tlearn: 3539.3877194\ttotal: 1.14s\tremaining: 1.82s\n",
      "385:\tlearn: 3536.5694279\ttotal: 1.15s\tremaining: 1.82s\n",
      "386:\tlearn: 3534.2444147\ttotal: 1.15s\tremaining: 1.82s\n",
      "387:\tlearn: 3533.5088177\ttotal: 1.15s\tremaining: 1.81s\n",
      "388:\tlearn: 3532.7290539\ttotal: 1.15s\tremaining: 1.81s\n",
      "389:\tlearn: 3532.0179569\ttotal: 1.16s\tremaining: 1.81s\n",
      "390:\tlearn: 3529.0703500\ttotal: 1.16s\tremaining: 1.8s\n",
      "391:\tlearn: 3525.6880345\ttotal: 1.16s\tremaining: 1.8s\n",
      "392:\tlearn: 3522.9773454\ttotal: 1.16s\tremaining: 1.8s\n",
      "393:\tlearn: 3521.7980151\ttotal: 1.17s\tremaining: 1.8s\n",
      "394:\tlearn: 3519.1890067\ttotal: 1.17s\tremaining: 1.79s\n",
      "395:\tlearn: 3516.6689375\ttotal: 1.17s\tremaining: 1.79s\n",
      "396:\tlearn: 3514.1142921\ttotal: 1.18s\tremaining: 1.78s\n",
      "397:\tlearn: 3511.6057930\ttotal: 1.18s\tremaining: 1.78s\n",
      "398:\tlearn: 3509.2012095\ttotal: 1.18s\tremaining: 1.78s\n",
      "399:\tlearn: 3507.3140028\ttotal: 1.18s\tremaining: 1.77s\n",
      "400:\tlearn: 3507.1946756\ttotal: 1.19s\tremaining: 1.77s\n",
      "401:\tlearn: 3506.0532500\ttotal: 1.19s\tremaining: 1.77s\n",
      "402:\tlearn: 3505.4994017\ttotal: 1.19s\tremaining: 1.76s\n",
      "403:\tlearn: 3503.0071231\ttotal: 1.19s\tremaining: 1.76s\n",
      "404:\tlearn: 3502.7953887\ttotal: 1.2s\tremaining: 1.76s\n",
      "405:\tlearn: 3501.0485024\ttotal: 1.2s\tremaining: 1.75s\n",
      "406:\tlearn: 3499.7811151\ttotal: 1.2s\tremaining: 1.75s\n",
      "407:\tlearn: 3497.7542007\ttotal: 1.21s\tremaining: 1.75s\n",
      "408:\tlearn: 3496.8283036\ttotal: 1.21s\tremaining: 1.75s\n",
      "409:\tlearn: 3495.1925587\ttotal: 1.21s\tremaining: 1.74s\n",
      "410:\tlearn: 3492.3418525\ttotal: 1.21s\tremaining: 1.74s\n",
      "411:\tlearn: 3489.5712769\ttotal: 1.22s\tremaining: 1.74s\n",
      "412:\tlearn: 3486.2283819\ttotal: 1.22s\tremaining: 1.73s\n",
      "413:\tlearn: 3485.1255236\ttotal: 1.22s\tremaining: 1.73s\n",
      "414:\tlearn: 3483.0375414\ttotal: 1.22s\tremaining: 1.73s\n",
      "415:\tlearn: 3482.2311652\ttotal: 1.23s\tremaining: 1.72s\n",
      "416:\tlearn: 3478.8562741\ttotal: 1.23s\tremaining: 1.72s\n",
      "417:\tlearn: 3475.9675699\ttotal: 1.23s\tremaining: 1.72s\n",
      "418:\tlearn: 3473.9153974\ttotal: 1.23s\tremaining: 1.71s\n",
      "419:\tlearn: 3472.5590851\ttotal: 1.24s\tremaining: 1.71s\n",
      "420:\tlearn: 3472.3610454\ttotal: 1.24s\tremaining: 1.71s\n",
      "421:\tlearn: 3470.2994173\ttotal: 1.24s\tremaining: 1.7s\n",
      "422:\tlearn: 3466.4547150\ttotal: 1.25s\tremaining: 1.7s\n",
      "423:\tlearn: 3464.6802826\ttotal: 1.25s\tremaining: 1.69s\n",
      "424:\tlearn: 3462.7743956\ttotal: 1.25s\tremaining: 1.69s\n",
      "425:\tlearn: 3459.8779453\ttotal: 1.25s\tremaining: 1.69s\n",
      "426:\tlearn: 3457.6397453\ttotal: 1.25s\tremaining: 1.68s\n",
      "427:\tlearn: 3456.4732569\ttotal: 1.26s\tremaining: 1.68s\n",
      "428:\tlearn: 3454.7475826\ttotal: 1.26s\tremaining: 1.68s\n",
      "429:\tlearn: 3453.2173079\ttotal: 1.26s\tremaining: 1.68s\n",
      "430:\tlearn: 3452.1499325\ttotal: 1.27s\tremaining: 1.67s\n",
      "431:\tlearn: 3450.2615120\ttotal: 1.27s\tremaining: 1.67s\n",
      "432:\tlearn: 3449.6080957\ttotal: 1.27s\tremaining: 1.67s\n",
      "433:\tlearn: 3449.4696966\ttotal: 1.27s\tremaining: 1.66s\n",
      "434:\tlearn: 3448.6146467\ttotal: 1.28s\tremaining: 1.66s\n",
      "435:\tlearn: 3446.3389215\ttotal: 1.28s\tremaining: 1.66s\n",
      "436:\tlearn: 3442.5625402\ttotal: 1.28s\tremaining: 1.65s\n",
      "437:\tlearn: 3441.9185651\ttotal: 1.28s\tremaining: 1.65s\n",
      "438:\tlearn: 3439.7122994\ttotal: 1.29s\tremaining: 1.65s\n",
      "439:\tlearn: 3438.4328503\ttotal: 1.29s\tremaining: 1.64s\n",
      "440:\tlearn: 3437.8136738\ttotal: 1.29s\tremaining: 1.64s\n",
      "441:\tlearn: 3436.0980682\ttotal: 1.3s\tremaining: 1.64s\n",
      "442:\tlearn: 3432.6755878\ttotal: 1.3s\tremaining: 1.63s\n",
      "443:\tlearn: 3431.3423321\ttotal: 1.3s\tremaining: 1.63s\n",
      "444:\tlearn: 3430.3125808\ttotal: 1.3s\tremaining: 1.63s\n",
      "445:\tlearn: 3429.5689787\ttotal: 1.31s\tremaining: 1.62s\n",
      "446:\tlearn: 3426.8791365\ttotal: 1.31s\tremaining: 1.62s\n",
      "447:\tlearn: 3422.5643931\ttotal: 1.31s\tremaining: 1.62s\n",
      "448:\tlearn: 3420.2542019\ttotal: 1.31s\tremaining: 1.61s\n",
      "449:\tlearn: 3419.7113501\ttotal: 1.32s\tremaining: 1.61s\n",
      "450:\tlearn: 3418.6962599\ttotal: 1.32s\tremaining: 1.61s\n",
      "451:\tlearn: 3415.1121986\ttotal: 1.32s\tremaining: 1.6s\n",
      "452:\tlearn: 3414.3866402\ttotal: 1.32s\tremaining: 1.6s\n",
      "453:\tlearn: 3411.8523476\ttotal: 1.33s\tremaining: 1.6s\n",
      "454:\tlearn: 3409.7411010\ttotal: 1.33s\tremaining: 1.59s\n",
      "455:\tlearn: 3408.7480114\ttotal: 1.33s\tremaining: 1.59s\n",
      "456:\tlearn: 3407.9513986\ttotal: 1.33s\tremaining: 1.59s\n",
      "457:\tlearn: 3406.5562113\ttotal: 1.34s\tremaining: 1.58s\n",
      "458:\tlearn: 3405.5047610\ttotal: 1.34s\tremaining: 1.58s\n",
      "459:\tlearn: 3404.4839601\ttotal: 1.34s\tremaining: 1.57s\n",
      "460:\tlearn: 3403.7893119\ttotal: 1.34s\tremaining: 1.57s\n",
      "461:\tlearn: 3402.7712074\ttotal: 1.35s\tremaining: 1.57s\n",
      "462:\tlearn: 3402.5889839\ttotal: 1.35s\tremaining: 1.56s\n",
      "463:\tlearn: 3401.3784182\ttotal: 1.35s\tremaining: 1.56s\n",
      "464:\tlearn: 3400.3834468\ttotal: 1.35s\tremaining: 1.56s\n",
      "465:\tlearn: 3398.9010735\ttotal: 1.36s\tremaining: 1.55s\n",
      "466:\tlearn: 3396.2986586\ttotal: 1.36s\tremaining: 1.55s\n",
      "467:\tlearn: 3393.2136055\ttotal: 1.36s\tremaining: 1.55s\n",
      "468:\tlearn: 3391.1976645\ttotal: 1.36s\tremaining: 1.55s\n",
      "469:\tlearn: 3390.3826073\ttotal: 1.37s\tremaining: 1.54s\n",
      "470:\tlearn: 3389.2237546\ttotal: 1.37s\tremaining: 1.54s\n",
      "471:\tlearn: 3387.8703423\ttotal: 1.37s\tremaining: 1.54s\n",
      "472:\tlearn: 3386.3724267\ttotal: 1.38s\tremaining: 1.53s\n",
      "473:\tlearn: 3385.1902935\ttotal: 1.38s\tremaining: 1.53s\n",
      "474:\tlearn: 3382.1935016\ttotal: 1.38s\tremaining: 1.53s\n",
      "475:\tlearn: 3379.5111211\ttotal: 1.38s\tremaining: 1.52s\n",
      "476:\tlearn: 3379.3380795\ttotal: 1.39s\tremaining: 1.52s\n",
      "477:\tlearn: 3378.5030128\ttotal: 1.39s\tremaining: 1.52s\n",
      "478:\tlearn: 3377.4052555\ttotal: 1.39s\tremaining: 1.51s\n",
      "479:\tlearn: 3375.7482538\ttotal: 1.39s\tremaining: 1.51s\n",
      "480:\tlearn: 3373.5481946\ttotal: 1.4s\tremaining: 1.51s\n",
      "481:\tlearn: 3371.1467495\ttotal: 1.4s\tremaining: 1.5s\n",
      "482:\tlearn: 3370.2632877\ttotal: 1.4s\tremaining: 1.5s\n",
      "483:\tlearn: 3368.3211428\ttotal: 1.41s\tremaining: 1.5s\n",
      "484:\tlearn: 3366.7033064\ttotal: 1.41s\tremaining: 1.5s\n",
      "485:\tlearn: 3365.4899585\ttotal: 1.41s\tremaining: 1.49s\n",
      "486:\tlearn: 3365.1267510\ttotal: 1.41s\tremaining: 1.49s\n",
      "487:\tlearn: 3362.9737187\ttotal: 1.42s\tremaining: 1.49s\n",
      "488:\tlearn: 3361.2968892\ttotal: 1.42s\tremaining: 1.48s\n",
      "489:\tlearn: 3359.5517954\ttotal: 1.42s\tremaining: 1.48s\n",
      "490:\tlearn: 3357.7577566\ttotal: 1.42s\tremaining: 1.48s\n",
      "491:\tlearn: 3357.1560771\ttotal: 1.43s\tremaining: 1.47s\n",
      "492:\tlearn: 3356.2928757\ttotal: 1.43s\tremaining: 1.47s\n",
      "493:\tlearn: 3354.8454132\ttotal: 1.43s\tremaining: 1.47s\n",
      "494:\tlearn: 3354.0035066\ttotal: 1.43s\tremaining: 1.46s\n",
      "495:\tlearn: 3351.5499517\ttotal: 1.44s\tremaining: 1.46s\n",
      "496:\tlearn: 3349.4201276\ttotal: 1.44s\tremaining: 1.46s\n",
      "497:\tlearn: 3347.1111119\ttotal: 1.44s\tremaining: 1.45s\n",
      "498:\tlearn: 3346.4566269\ttotal: 1.44s\tremaining: 1.45s\n",
      "499:\tlearn: 3345.8211914\ttotal: 1.45s\tremaining: 1.45s\n",
      "500:\tlearn: 3344.9591333\ttotal: 1.45s\tremaining: 1.44s\n",
      "501:\tlearn: 3343.0539644\ttotal: 1.45s\tremaining: 1.44s\n",
      "502:\tlearn: 3341.6205740\ttotal: 1.46s\tremaining: 1.44s\n",
      "503:\tlearn: 3340.9439750\ttotal: 1.46s\tremaining: 1.43s\n",
      "504:\tlearn: 3339.3108368\ttotal: 1.46s\tremaining: 1.43s\n",
      "505:\tlearn: 3337.7621940\ttotal: 1.46s\tremaining: 1.43s\n",
      "506:\tlearn: 3337.3982725\ttotal: 1.47s\tremaining: 1.43s\n",
      "507:\tlearn: 3336.0170596\ttotal: 1.47s\tremaining: 1.42s\n",
      "508:\tlearn: 3334.7108035\ttotal: 1.47s\tremaining: 1.42s\n",
      "509:\tlearn: 3333.4335835\ttotal: 1.47s\tremaining: 1.42s\n",
      "510:\tlearn: 3331.2379660\ttotal: 1.48s\tremaining: 1.41s\n",
      "511:\tlearn: 3329.6997743\ttotal: 1.48s\tremaining: 1.41s\n",
      "512:\tlearn: 3327.4799745\ttotal: 1.49s\tremaining: 1.42s\n",
      "513:\tlearn: 3325.5229039\ttotal: 1.49s\tremaining: 1.41s\n",
      "514:\tlearn: 3321.7180800\ttotal: 1.5s\tremaining: 1.41s\n",
      "515:\tlearn: 3320.2074299\ttotal: 1.5s\tremaining: 1.41s\n",
      "516:\tlearn: 3319.0072522\ttotal: 1.5s\tremaining: 1.4s\n",
      "517:\tlearn: 3315.8168368\ttotal: 1.5s\tremaining: 1.4s\n",
      "518:\tlearn: 3312.0951683\ttotal: 1.51s\tremaining: 1.4s\n",
      "519:\tlearn: 3310.7762959\ttotal: 1.51s\tremaining: 1.39s\n",
      "520:\tlearn: 3309.3441312\ttotal: 1.51s\tremaining: 1.39s\n",
      "521:\tlearn: 3308.9295194\ttotal: 1.51s\tremaining: 1.39s\n",
      "522:\tlearn: 3307.5267825\ttotal: 1.52s\tremaining: 1.38s\n",
      "523:\tlearn: 3306.1904065\ttotal: 1.52s\tremaining: 1.38s\n",
      "524:\tlearn: 3305.0498287\ttotal: 1.52s\tremaining: 1.38s\n",
      "525:\tlearn: 3301.7155124\ttotal: 1.52s\tremaining: 1.37s\n",
      "526:\tlearn: 3301.1088304\ttotal: 1.53s\tremaining: 1.37s\n",
      "527:\tlearn: 3299.5952409\ttotal: 1.53s\tremaining: 1.37s\n",
      "528:\tlearn: 3298.3173880\ttotal: 1.53s\tremaining: 1.36s\n",
      "529:\tlearn: 3297.9222783\ttotal: 1.53s\tremaining: 1.36s\n",
      "530:\tlearn: 3296.2287838\ttotal: 1.54s\tremaining: 1.36s\n",
      "531:\tlearn: 3294.5497007\ttotal: 1.54s\tremaining: 1.35s\n",
      "532:\tlearn: 3293.2835064\ttotal: 1.54s\tremaining: 1.35s\n",
      "533:\tlearn: 3291.9287447\ttotal: 1.54s\tremaining: 1.35s\n",
      "534:\tlearn: 3289.6874592\ttotal: 1.55s\tremaining: 1.34s\n",
      "535:\tlearn: 3289.0246321\ttotal: 1.55s\tremaining: 1.34s\n",
      "536:\tlearn: 3288.5257763\ttotal: 1.55s\tremaining: 1.34s\n",
      "537:\tlearn: 3285.7570840\ttotal: 1.55s\tremaining: 1.33s\n",
      "538:\tlearn: 3281.9660384\ttotal: 1.56s\tremaining: 1.33s\n",
      "539:\tlearn: 3280.8317448\ttotal: 1.56s\tremaining: 1.33s\n",
      "540:\tlearn: 3279.5673575\ttotal: 1.56s\tremaining: 1.32s\n",
      "541:\tlearn: 3277.4644232\ttotal: 1.56s\tremaining: 1.32s\n",
      "542:\tlearn: 3274.9420484\ttotal: 1.57s\tremaining: 1.32s\n",
      "543:\tlearn: 3272.8633210\ttotal: 1.57s\tremaining: 1.32s\n",
      "544:\tlearn: 3270.2928348\ttotal: 1.57s\tremaining: 1.31s\n",
      "545:\tlearn: 3268.5482657\ttotal: 1.58s\tremaining: 1.31s\n",
      "546:\tlearn: 3266.8260820\ttotal: 1.58s\tremaining: 1.31s\n",
      "547:\tlearn: 3264.9959406\ttotal: 1.58s\tremaining: 1.3s\n",
      "548:\tlearn: 3262.9418442\ttotal: 1.58s\tremaining: 1.3s\n",
      "549:\tlearn: 3261.9467128\ttotal: 1.59s\tremaining: 1.3s\n",
      "550:\tlearn: 3260.7907888\ttotal: 1.59s\tremaining: 1.29s\n",
      "551:\tlearn: 3260.6430777\ttotal: 1.59s\tremaining: 1.29s\n",
      "552:\tlearn: 3259.5234658\ttotal: 1.59s\tremaining: 1.29s\n",
      "553:\tlearn: 3258.6376411\ttotal: 1.6s\tremaining: 1.29s\n",
      "554:\tlearn: 3257.5632301\ttotal: 1.6s\tremaining: 1.28s\n",
      "555:\tlearn: 3256.9416928\ttotal: 1.6s\tremaining: 1.28s\n",
      "556:\tlearn: 3254.6240343\ttotal: 1.6s\tremaining: 1.28s\n",
      "557:\tlearn: 3251.7923009\ttotal: 1.61s\tremaining: 1.27s\n",
      "558:\tlearn: 3251.4439902\ttotal: 1.61s\tremaining: 1.27s\n",
      "559:\tlearn: 3249.5724434\ttotal: 1.61s\tremaining: 1.27s\n",
      "560:\tlearn: 3247.7359867\ttotal: 1.62s\tremaining: 1.26s\n",
      "561:\tlearn: 3245.7589747\ttotal: 1.62s\tremaining: 1.26s\n",
      "562:\tlearn: 3243.1077671\ttotal: 1.62s\tremaining: 1.26s\n",
      "563:\tlearn: 3242.3103124\ttotal: 1.62s\tremaining: 1.26s\n",
      "564:\tlearn: 3241.8081121\ttotal: 1.63s\tremaining: 1.25s\n",
      "565:\tlearn: 3240.1745074\ttotal: 1.63s\tremaining: 1.25s\n",
      "566:\tlearn: 3237.9131177\ttotal: 1.63s\tremaining: 1.25s\n",
      "567:\tlearn: 3236.8652331\ttotal: 1.64s\tremaining: 1.24s\n",
      "568:\tlearn: 3233.7989965\ttotal: 1.64s\tremaining: 1.24s\n",
      "569:\tlearn: 3231.8085276\ttotal: 1.64s\tremaining: 1.24s\n",
      "570:\tlearn: 3230.4367275\ttotal: 1.64s\tremaining: 1.24s\n",
      "571:\tlearn: 3227.2483410\ttotal: 1.65s\tremaining: 1.23s\n",
      "572:\tlearn: 3225.4082750\ttotal: 1.65s\tremaining: 1.23s\n",
      "573:\tlearn: 3224.4991009\ttotal: 1.65s\tremaining: 1.23s\n",
      "574:\tlearn: 3223.0381098\ttotal: 1.65s\tremaining: 1.22s\n",
      "575:\tlearn: 3220.7275534\ttotal: 1.66s\tremaining: 1.22s\n",
      "576:\tlearn: 3219.8161215\ttotal: 1.66s\tremaining: 1.22s\n",
      "577:\tlearn: 3217.3724944\ttotal: 1.66s\tremaining: 1.22s\n",
      "578:\tlearn: 3216.6255383\ttotal: 1.67s\tremaining: 1.21s\n",
      "579:\tlearn: 3214.5399012\ttotal: 1.67s\tremaining: 1.21s\n",
      "580:\tlearn: 3212.6458046\ttotal: 1.67s\tremaining: 1.21s\n",
      "581:\tlearn: 3209.5407852\ttotal: 1.67s\tremaining: 1.2s\n",
      "582:\tlearn: 3207.8551861\ttotal: 1.68s\tremaining: 1.2s\n",
      "583:\tlearn: 3206.3372612\ttotal: 1.68s\tremaining: 1.2s\n",
      "584:\tlearn: 3205.5546841\ttotal: 1.68s\tremaining: 1.19s\n",
      "585:\tlearn: 3203.7836483\ttotal: 1.68s\tremaining: 1.19s\n",
      "586:\tlearn: 3202.9782836\ttotal: 1.69s\tremaining: 1.19s\n",
      "587:\tlearn: 3202.2324324\ttotal: 1.69s\tremaining: 1.18s\n",
      "588:\tlearn: 3201.5049246\ttotal: 1.69s\tremaining: 1.18s\n",
      "589:\tlearn: 3200.5925241\ttotal: 1.7s\tremaining: 1.18s\n",
      "590:\tlearn: 3199.3614592\ttotal: 1.7s\tremaining: 1.17s\n",
      "591:\tlearn: 3198.5451065\ttotal: 1.7s\tremaining: 1.17s\n",
      "592:\tlearn: 3197.8217056\ttotal: 1.7s\tremaining: 1.17s\n",
      "593:\tlearn: 3196.9719296\ttotal: 1.71s\tremaining: 1.17s\n",
      "594:\tlearn: 3195.9138894\ttotal: 1.71s\tremaining: 1.16s\n",
      "595:\tlearn: 3193.6804954\ttotal: 1.71s\tremaining: 1.16s\n",
      "596:\tlearn: 3191.7672716\ttotal: 1.71s\tremaining: 1.16s\n",
      "597:\tlearn: 3189.2575081\ttotal: 1.72s\tremaining: 1.15s\n",
      "598:\tlearn: 3187.5061679\ttotal: 1.72s\tremaining: 1.15s\n",
      "599:\tlearn: 3186.8024086\ttotal: 1.72s\tremaining: 1.15s\n",
      "600:\tlearn: 3184.1836593\ttotal: 1.72s\tremaining: 1.14s\n",
      "601:\tlearn: 3182.8411881\ttotal: 1.73s\tremaining: 1.14s\n",
      "602:\tlearn: 3182.1556207\ttotal: 1.73s\tremaining: 1.14s\n",
      "603:\tlearn: 3180.0698399\ttotal: 1.73s\tremaining: 1.14s\n",
      "604:\tlearn: 3177.3391115\ttotal: 1.73s\tremaining: 1.13s\n",
      "605:\tlearn: 3175.6459860\ttotal: 1.74s\tremaining: 1.13s\n",
      "606:\tlearn: 3172.3677672\ttotal: 1.74s\tremaining: 1.13s\n",
      "607:\tlearn: 3171.7378096\ttotal: 1.74s\tremaining: 1.12s\n",
      "608:\tlearn: 3171.1243260\ttotal: 1.74s\tremaining: 1.12s\n",
      "609:\tlearn: 3169.4473014\ttotal: 1.75s\tremaining: 1.12s\n",
      "610:\tlearn: 3167.5065810\ttotal: 1.75s\tremaining: 1.11s\n",
      "611:\tlearn: 3166.1003591\ttotal: 1.75s\tremaining: 1.11s\n",
      "612:\tlearn: 3164.4656490\ttotal: 1.75s\tremaining: 1.11s\n",
      "613:\tlearn: 3162.2490690\ttotal: 1.76s\tremaining: 1.1s\n",
      "614:\tlearn: 3159.9711635\ttotal: 1.76s\tremaining: 1.1s\n",
      "615:\tlearn: 3158.1742614\ttotal: 1.76s\tremaining: 1.1s\n",
      "616:\tlearn: 3156.4947183\ttotal: 1.76s\tremaining: 1.09s\n",
      "617:\tlearn: 3155.6102909\ttotal: 1.77s\tremaining: 1.09s\n",
      "618:\tlearn: 3154.3041706\ttotal: 1.77s\tremaining: 1.09s\n",
      "619:\tlearn: 3151.8331922\ttotal: 1.77s\tremaining: 1.09s\n",
      "620:\tlearn: 3150.0549708\ttotal: 1.78s\tremaining: 1.08s\n",
      "621:\tlearn: 3148.9170318\ttotal: 1.78s\tremaining: 1.08s\n",
      "622:\tlearn: 3148.2473351\ttotal: 1.78s\tremaining: 1.08s\n",
      "623:\tlearn: 3146.4320654\ttotal: 1.78s\tremaining: 1.07s\n",
      "624:\tlearn: 3143.4491545\ttotal: 1.79s\tremaining: 1.07s\n",
      "625:\tlearn: 3141.9690829\ttotal: 1.79s\tremaining: 1.07s\n",
      "626:\tlearn: 3139.9280793\ttotal: 1.79s\tremaining: 1.07s\n",
      "627:\tlearn: 3138.5739682\ttotal: 1.79s\tremaining: 1.06s\n",
      "628:\tlearn: 3138.0732858\ttotal: 1.8s\tremaining: 1.06s\n",
      "629:\tlearn: 3135.9951460\ttotal: 1.8s\tremaining: 1.06s\n",
      "630:\tlearn: 3135.3390983\ttotal: 1.8s\tremaining: 1.05s\n",
      "631:\tlearn: 3134.7359007\ttotal: 1.8s\tremaining: 1.05s\n",
      "632:\tlearn: 3132.8447435\ttotal: 1.81s\tremaining: 1.05s\n",
      "633:\tlearn: 3130.7851027\ttotal: 1.81s\tremaining: 1.04s\n",
      "634:\tlearn: 3129.9995048\ttotal: 1.81s\tremaining: 1.04s\n",
      "635:\tlearn: 3128.6393811\ttotal: 1.82s\tremaining: 1.04s\n",
      "636:\tlearn: 3127.9972993\ttotal: 1.82s\tremaining: 1.04s\n",
      "637:\tlearn: 3125.8789211\ttotal: 1.82s\tremaining: 1.03s\n",
      "638:\tlearn: 3123.3267955\ttotal: 1.82s\tremaining: 1.03s\n",
      "639:\tlearn: 3120.8844620\ttotal: 1.83s\tremaining: 1.03s\n",
      "640:\tlearn: 3120.1966103\ttotal: 1.83s\tremaining: 1.02s\n",
      "641:\tlearn: 3117.7172211\ttotal: 1.83s\tremaining: 1.02s\n",
      "642:\tlearn: 3115.8386362\ttotal: 1.83s\tremaining: 1.02s\n",
      "643:\tlearn: 3114.0303131\ttotal: 1.84s\tremaining: 1.01s\n",
      "644:\tlearn: 3113.2746893\ttotal: 1.84s\tremaining: 1.01s\n",
      "645:\tlearn: 3112.4195005\ttotal: 1.84s\tremaining: 1.01s\n",
      "646:\tlearn: 3111.3852850\ttotal: 1.85s\tremaining: 1.01s\n",
      "647:\tlearn: 3111.2704974\ttotal: 1.85s\tremaining: 1s\n",
      "648:\tlearn: 3109.4878213\ttotal: 1.85s\tremaining: 1s\n",
      "649:\tlearn: 3108.1341266\ttotal: 1.85s\tremaining: 998ms\n",
      "650:\tlearn: 3105.8319413\ttotal: 1.86s\tremaining: 995ms\n",
      "651:\tlearn: 3103.1936560\ttotal: 1.86s\tremaining: 992ms\n",
      "652:\tlearn: 3102.6547552\ttotal: 1.86s\tremaining: 989ms\n",
      "653:\tlearn: 3102.2725952\ttotal: 1.86s\tremaining: 986ms\n",
      "654:\tlearn: 3101.7138058\ttotal: 1.87s\tremaining: 983ms\n",
      "655:\tlearn: 3099.7979334\ttotal: 1.87s\tremaining: 980ms\n",
      "656:\tlearn: 3099.1448393\ttotal: 1.87s\tremaining: 977ms\n",
      "657:\tlearn: 3098.0008915\ttotal: 1.87s\tremaining: 974ms\n",
      "658:\tlearn: 3096.0140870\ttotal: 1.88s\tremaining: 971ms\n",
      "659:\tlearn: 3095.2675386\ttotal: 1.88s\tremaining: 968ms\n",
      "660:\tlearn: 3094.6343304\ttotal: 1.88s\tremaining: 965ms\n",
      "661:\tlearn: 3092.8997752\ttotal: 1.88s\tremaining: 962ms\n",
      "662:\tlearn: 3092.2800223\ttotal: 1.89s\tremaining: 959ms\n",
      "663:\tlearn: 3090.7887026\ttotal: 1.89s\tremaining: 956ms\n",
      "664:\tlearn: 3090.0821969\ttotal: 1.89s\tremaining: 953ms\n",
      "665:\tlearn: 3087.9969940\ttotal: 1.9s\tremaining: 950ms\n",
      "666:\tlearn: 3086.8115868\ttotal: 1.9s\tremaining: 947ms\n",
      "667:\tlearn: 3085.0129010\ttotal: 1.9s\tremaining: 944ms\n",
      "668:\tlearn: 3083.1554358\ttotal: 1.9s\tremaining: 942ms\n",
      "669:\tlearn: 3080.3798299\ttotal: 1.91s\tremaining: 939ms\n",
      "670:\tlearn: 3079.6578262\ttotal: 1.91s\tremaining: 936ms\n",
      "671:\tlearn: 3077.0157861\ttotal: 1.91s\tremaining: 933ms\n",
      "672:\tlearn: 3074.4093454\ttotal: 1.91s\tremaining: 930ms\n",
      "673:\tlearn: 3072.8902795\ttotal: 1.92s\tremaining: 927ms\n",
      "674:\tlearn: 3072.3827868\ttotal: 1.92s\tremaining: 924ms\n",
      "675:\tlearn: 3071.2734221\ttotal: 1.92s\tremaining: 921ms\n",
      "676:\tlearn: 3070.7876873\ttotal: 1.92s\tremaining: 918ms\n",
      "677:\tlearn: 3069.7552757\ttotal: 1.93s\tremaining: 915ms\n",
      "678:\tlearn: 3067.7137082\ttotal: 1.93s\tremaining: 912ms\n",
      "679:\tlearn: 3066.1094426\ttotal: 1.93s\tremaining: 909ms\n",
      "680:\tlearn: 3062.0161240\ttotal: 1.93s\tremaining: 906ms\n",
      "681:\tlearn: 3061.5781732\ttotal: 1.94s\tremaining: 903ms\n",
      "682:\tlearn: 3058.9608560\ttotal: 1.94s\tremaining: 900ms\n",
      "683:\tlearn: 3058.5039478\ttotal: 1.94s\tremaining: 897ms\n",
      "684:\tlearn: 3056.9095581\ttotal: 1.94s\tremaining: 894ms\n",
      "685:\tlearn: 3055.4060182\ttotal: 1.95s\tremaining: 891ms\n",
      "686:\tlearn: 3054.5584778\ttotal: 1.95s\tremaining: 888ms\n",
      "687:\tlearn: 3053.9492532\ttotal: 1.95s\tremaining: 885ms\n",
      "688:\tlearn: 3051.3268532\ttotal: 1.96s\tremaining: 883ms\n",
      "689:\tlearn: 3050.4218470\ttotal: 1.96s\tremaining: 880ms\n",
      "690:\tlearn: 3047.2547602\ttotal: 1.96s\tremaining: 877ms\n",
      "691:\tlearn: 3046.0052916\ttotal: 1.96s\tremaining: 874ms\n",
      "692:\tlearn: 3045.0377798\ttotal: 1.97s\tremaining: 871ms\n",
      "693:\tlearn: 3044.5801640\ttotal: 1.97s\tremaining: 868ms\n",
      "694:\tlearn: 3042.4621889\ttotal: 1.97s\tremaining: 865ms\n",
      "695:\tlearn: 3041.2897659\ttotal: 1.97s\tremaining: 862ms\n",
      "696:\tlearn: 3038.7942605\ttotal: 1.98s\tremaining: 859ms\n",
      "697:\tlearn: 3037.2076341\ttotal: 1.98s\tremaining: 856ms\n",
      "698:\tlearn: 3036.8114576\ttotal: 1.98s\tremaining: 854ms\n",
      "699:\tlearn: 3036.3354097\ttotal: 1.98s\tremaining: 851ms\n",
      "700:\tlearn: 3035.7610509\ttotal: 1.99s\tremaining: 848ms\n",
      "701:\tlearn: 3033.4074498\ttotal: 1.99s\tremaining: 845ms\n",
      "702:\tlearn: 3032.7449401\ttotal: 1.99s\tremaining: 842ms\n",
      "703:\tlearn: 3031.0387243\ttotal: 2s\tremaining: 839ms\n",
      "704:\tlearn: 3029.9978624\ttotal: 2s\tremaining: 836ms\n",
      "705:\tlearn: 3027.8696185\ttotal: 2s\tremaining: 833ms\n",
      "706:\tlearn: 3027.4519242\ttotal: 2s\tremaining: 830ms\n",
      "707:\tlearn: 3026.5611544\ttotal: 2.01s\tremaining: 828ms\n",
      "708:\tlearn: 3024.5922981\ttotal: 2.01s\tremaining: 825ms\n",
      "709:\tlearn: 3023.9473702\ttotal: 2.01s\tremaining: 822ms\n",
      "710:\tlearn: 3022.7691713\ttotal: 2.01s\tremaining: 819ms\n",
      "711:\tlearn: 3020.4990918\ttotal: 2.02s\tremaining: 816ms\n",
      "712:\tlearn: 3017.6478162\ttotal: 2.02s\tremaining: 813ms\n",
      "713:\tlearn: 3016.4575439\ttotal: 2.02s\tremaining: 810ms\n",
      "714:\tlearn: 3015.9968059\ttotal: 2.02s\tremaining: 807ms\n",
      "715:\tlearn: 3013.4068063\ttotal: 2.03s\tremaining: 804ms\n",
      "716:\tlearn: 3011.1831995\ttotal: 2.03s\tremaining: 802ms\n",
      "717:\tlearn: 3010.7586902\ttotal: 2.03s\tremaining: 799ms\n",
      "718:\tlearn: 3009.1389028\ttotal: 2.04s\tremaining: 796ms\n",
      "719:\tlearn: 3008.0925046\ttotal: 2.04s\tremaining: 793ms\n",
      "720:\tlearn: 3006.9774905\ttotal: 2.04s\tremaining: 790ms\n",
      "721:\tlearn: 3005.8999417\ttotal: 2.04s\tremaining: 787ms\n",
      "722:\tlearn: 3005.3118696\ttotal: 2.05s\tremaining: 784ms\n",
      "723:\tlearn: 3004.3065738\ttotal: 2.05s\tremaining: 781ms\n",
      "724:\tlearn: 3001.8538472\ttotal: 2.05s\tremaining: 778ms\n",
      "725:\tlearn: 3001.4609083\ttotal: 2.05s\tremaining: 776ms\n",
      "726:\tlearn: 3000.0342414\ttotal: 2.06s\tremaining: 773ms\n",
      "727:\tlearn: 2998.7709048\ttotal: 2.06s\tremaining: 770ms\n",
      "728:\tlearn: 2997.3064960\ttotal: 2.06s\tremaining: 767ms\n",
      "729:\tlearn: 2996.0955966\ttotal: 2.06s\tremaining: 764ms\n",
      "730:\tlearn: 2993.7977140\ttotal: 2.07s\tremaining: 761ms\n",
      "731:\tlearn: 2992.6903873\ttotal: 2.07s\tremaining: 758ms\n",
      "732:\tlearn: 2990.7661988\ttotal: 2.07s\tremaining: 755ms\n",
      "733:\tlearn: 2990.2036536\ttotal: 2.08s\tremaining: 753ms\n",
      "734:\tlearn: 2989.3785274\ttotal: 2.08s\tremaining: 750ms\n",
      "735:\tlearn: 2988.3112507\ttotal: 2.08s\tremaining: 747ms\n",
      "736:\tlearn: 2987.2729624\ttotal: 2.08s\tremaining: 744ms\n",
      "737:\tlearn: 2986.7101113\ttotal: 2.09s\tremaining: 741ms\n",
      "738:\tlearn: 2985.8945127\ttotal: 2.09s\tremaining: 738ms\n",
      "739:\tlearn: 2985.1701473\ttotal: 2.09s\tremaining: 735ms\n",
      "740:\tlearn: 2984.1392437\ttotal: 2.1s\tremaining: 732ms\n",
      "741:\tlearn: 2983.3198508\ttotal: 2.1s\tremaining: 729ms\n",
      "742:\tlearn: 2982.1747734\ttotal: 2.1s\tremaining: 726ms\n",
      "743:\tlearn: 2980.4268813\ttotal: 2.1s\tremaining: 724ms\n",
      "744:\tlearn: 2979.4621552\ttotal: 2.1s\tremaining: 721ms\n",
      "745:\tlearn: 2978.9632322\ttotal: 2.11s\tremaining: 718ms\n",
      "746:\tlearn: 2978.4224381\ttotal: 2.11s\tremaining: 715ms\n",
      "747:\tlearn: 2977.0963552\ttotal: 2.11s\tremaining: 712ms\n",
      "748:\tlearn: 2975.5266674\ttotal: 2.12s\tremaining: 709ms\n",
      "749:\tlearn: 2973.5348751\ttotal: 2.12s\tremaining: 706ms\n",
      "750:\tlearn: 2972.8822220\ttotal: 2.12s\tremaining: 703ms\n",
      "751:\tlearn: 2969.8467638\ttotal: 2.12s\tremaining: 701ms\n",
      "752:\tlearn: 2967.9087065\ttotal: 2.13s\tremaining: 698ms\n",
      "753:\tlearn: 2967.3720103\ttotal: 2.13s\tremaining: 695ms\n",
      "754:\tlearn: 2967.0283118\ttotal: 2.13s\tremaining: 692ms\n",
      "755:\tlearn: 2966.5415930\ttotal: 2.13s\tremaining: 689ms\n",
      "756:\tlearn: 2963.8785696\ttotal: 2.14s\tremaining: 686ms\n",
      "757:\tlearn: 2963.3506783\ttotal: 2.14s\tremaining: 683ms\n",
      "758:\tlearn: 2962.3955278\ttotal: 2.14s\tremaining: 680ms\n",
      "759:\tlearn: 2962.1007221\ttotal: 2.15s\tremaining: 678ms\n",
      "760:\tlearn: 2959.5629362\ttotal: 2.15s\tremaining: 675ms\n",
      "761:\tlearn: 2957.6399192\ttotal: 2.15s\tremaining: 672ms\n",
      "762:\tlearn: 2957.1268097\ttotal: 2.15s\tremaining: 669ms\n",
      "763:\tlearn: 2956.3485464\ttotal: 2.16s\tremaining: 666ms\n",
      "764:\tlearn: 2955.3858598\ttotal: 2.16s\tremaining: 663ms\n",
      "765:\tlearn: 2952.9381948\ttotal: 2.16s\tremaining: 660ms\n",
      "766:\tlearn: 2952.5170453\ttotal: 2.16s\tremaining: 657ms\n",
      "767:\tlearn: 2950.9103891\ttotal: 2.17s\tremaining: 655ms\n",
      "768:\tlearn: 2948.7999635\ttotal: 2.17s\tremaining: 652ms\n",
      "769:\tlearn: 2946.3555765\ttotal: 2.17s\tremaining: 649ms\n",
      "770:\tlearn: 2946.0651518\ttotal: 2.17s\tremaining: 646ms\n",
      "771:\tlearn: 2944.9968484\ttotal: 2.18s\tremaining: 643ms\n",
      "772:\tlearn: 2944.3453544\ttotal: 2.18s\tremaining: 640ms\n",
      "773:\tlearn: 2942.6222914\ttotal: 2.18s\tremaining: 637ms\n",
      "774:\tlearn: 2942.2220742\ttotal: 2.18s\tremaining: 634ms\n",
      "775:\tlearn: 2940.0161655\ttotal: 2.19s\tremaining: 631ms\n",
      "776:\tlearn: 2938.1842138\ttotal: 2.19s\tremaining: 629ms\n",
      "777:\tlearn: 2936.1348460\ttotal: 2.19s\tremaining: 626ms\n",
      "778:\tlearn: 2934.5822094\ttotal: 2.19s\tremaining: 623ms\n",
      "779:\tlearn: 2932.9769086\ttotal: 2.2s\tremaining: 620ms\n",
      "780:\tlearn: 2930.7173924\ttotal: 2.2s\tremaining: 617ms\n",
      "781:\tlearn: 2928.8595769\ttotal: 2.2s\tremaining: 614ms\n",
      "782:\tlearn: 2928.7609459\ttotal: 2.21s\tremaining: 611ms\n",
      "783:\tlearn: 2927.2699788\ttotal: 2.21s\tremaining: 608ms\n",
      "784:\tlearn: 2925.8174478\ttotal: 2.21s\tremaining: 606ms\n",
      "785:\tlearn: 2924.4176983\ttotal: 2.21s\tremaining: 603ms\n",
      "786:\tlearn: 2922.2361341\ttotal: 2.22s\tremaining: 600ms\n",
      "787:\tlearn: 2921.3273717\ttotal: 2.22s\tremaining: 597ms\n",
      "788:\tlearn: 2919.2247902\ttotal: 2.22s\tremaining: 594ms\n",
      "789:\tlearn: 2918.3256073\ttotal: 2.22s\tremaining: 591ms\n",
      "790:\tlearn: 2916.5564823\ttotal: 2.23s\tremaining: 589ms\n",
      "791:\tlearn: 2914.4561453\ttotal: 2.23s\tremaining: 586ms\n",
      "792:\tlearn: 2912.3530578\ttotal: 2.23s\tremaining: 583ms\n",
      "793:\tlearn: 2911.9946457\ttotal: 2.23s\tremaining: 580ms\n",
      "794:\tlearn: 2909.6203228\ttotal: 2.24s\tremaining: 577ms\n",
      "795:\tlearn: 2907.8446713\ttotal: 2.24s\tremaining: 574ms\n",
      "796:\tlearn: 2905.6939032\ttotal: 2.24s\tremaining: 571ms\n",
      "797:\tlearn: 2903.5531823\ttotal: 2.25s\tremaining: 568ms\n",
      "798:\tlearn: 2903.0038141\ttotal: 2.25s\tremaining: 566ms\n",
      "799:\tlearn: 2901.9798730\ttotal: 2.25s\tremaining: 563ms\n",
      "800:\tlearn: 2901.3089757\ttotal: 2.25s\tremaining: 560ms\n",
      "801:\tlearn: 2899.8795658\ttotal: 2.26s\tremaining: 557ms\n",
      "802:\tlearn: 2898.2625612\ttotal: 2.26s\tremaining: 554ms\n",
      "803:\tlearn: 2897.8785901\ttotal: 2.26s\tremaining: 551ms\n",
      "804:\tlearn: 2897.5509354\ttotal: 2.26s\tremaining: 548ms\n",
      "805:\tlearn: 2895.8401001\ttotal: 2.27s\tremaining: 546ms\n",
      "806:\tlearn: 2895.1728727\ttotal: 2.27s\tremaining: 543ms\n",
      "807:\tlearn: 2894.1889277\ttotal: 2.27s\tremaining: 540ms\n",
      "808:\tlearn: 2891.9248822\ttotal: 2.27s\tremaining: 537ms\n",
      "809:\tlearn: 2890.7502052\ttotal: 2.28s\tremaining: 534ms\n",
      "810:\tlearn: 2889.1555253\ttotal: 2.28s\tremaining: 531ms\n",
      "811:\tlearn: 2888.3050170\ttotal: 2.28s\tremaining: 528ms\n",
      "812:\tlearn: 2887.4427136\ttotal: 2.29s\tremaining: 526ms\n",
      "813:\tlearn: 2886.4727273\ttotal: 2.29s\tremaining: 523ms\n",
      "814:\tlearn: 2885.0091511\ttotal: 2.29s\tremaining: 520ms\n",
      "815:\tlearn: 2883.7334750\ttotal: 2.29s\tremaining: 517ms\n",
      "816:\tlearn: 2882.7673482\ttotal: 2.29s\tremaining: 514ms\n",
      "817:\tlearn: 2882.4546131\ttotal: 2.3s\tremaining: 511ms\n",
      "818:\tlearn: 2880.4734261\ttotal: 2.3s\tremaining: 509ms\n",
      "819:\tlearn: 2878.2806653\ttotal: 2.3s\tremaining: 506ms\n",
      "820:\tlearn: 2876.7278951\ttotal: 2.31s\tremaining: 503ms\n",
      "821:\tlearn: 2875.1425200\ttotal: 2.31s\tremaining: 500ms\n",
      "822:\tlearn: 2873.3021217\ttotal: 2.31s\tremaining: 497ms\n",
      "823:\tlearn: 2872.5527962\ttotal: 2.31s\tremaining: 494ms\n",
      "824:\tlearn: 2871.1906574\ttotal: 2.32s\tremaining: 491ms\n",
      "825:\tlearn: 2869.1089887\ttotal: 2.32s\tremaining: 489ms\n",
      "826:\tlearn: 2867.2126400\ttotal: 2.32s\tremaining: 486ms\n",
      "827:\tlearn: 2865.7769077\ttotal: 2.32s\tremaining: 483ms\n",
      "828:\tlearn: 2865.2626127\ttotal: 2.33s\tremaining: 480ms\n",
      "829:\tlearn: 2864.9278730\ttotal: 2.33s\tremaining: 477ms\n",
      "830:\tlearn: 2863.7673867\ttotal: 2.33s\tremaining: 474ms\n",
      "831:\tlearn: 2862.9545151\ttotal: 2.33s\tremaining: 472ms\n",
      "832:\tlearn: 2861.5169849\ttotal: 2.34s\tremaining: 469ms\n",
      "833:\tlearn: 2860.8622833\ttotal: 2.34s\tremaining: 466ms\n",
      "834:\tlearn: 2860.5006605\ttotal: 2.34s\tremaining: 463ms\n",
      "835:\tlearn: 2859.9976930\ttotal: 2.35s\tremaining: 460ms\n",
      "836:\tlearn: 2859.0046421\ttotal: 2.35s\tremaining: 457ms\n",
      "837:\tlearn: 2858.2932161\ttotal: 2.35s\tremaining: 455ms\n",
      "838:\tlearn: 2857.4730859\ttotal: 2.35s\tremaining: 452ms\n",
      "839:\tlearn: 2856.4945185\ttotal: 2.36s\tremaining: 449ms\n",
      "840:\tlearn: 2855.6976685\ttotal: 2.36s\tremaining: 446ms\n",
      "841:\tlearn: 2854.0390636\ttotal: 2.36s\tremaining: 443ms\n",
      "842:\tlearn: 2852.0362472\ttotal: 2.36s\tremaining: 440ms\n",
      "843:\tlearn: 2850.4430784\ttotal: 2.37s\tremaining: 438ms\n",
      "844:\tlearn: 2850.1152299\ttotal: 2.37s\tremaining: 435ms\n",
      "845:\tlearn: 2848.2587673\ttotal: 2.37s\tremaining: 432ms\n",
      "846:\tlearn: 2848.1624037\ttotal: 2.38s\tremaining: 429ms\n",
      "847:\tlearn: 2847.6765117\ttotal: 2.38s\tremaining: 426ms\n",
      "848:\tlearn: 2846.9373547\ttotal: 2.38s\tremaining: 423ms\n",
      "849:\tlearn: 2845.6402765\ttotal: 2.38s\tremaining: 421ms\n",
      "850:\tlearn: 2843.7483470\ttotal: 2.38s\tremaining: 418ms\n",
      "851:\tlearn: 2842.5700371\ttotal: 2.39s\tremaining: 415ms\n",
      "852:\tlearn: 2840.7543703\ttotal: 2.39s\tremaining: 412ms\n",
      "853:\tlearn: 2839.8149530\ttotal: 2.39s\tremaining: 409ms\n",
      "854:\tlearn: 2836.6437004\ttotal: 2.4s\tremaining: 406ms\n",
      "855:\tlearn: 2835.4079428\ttotal: 2.4s\tremaining: 404ms\n",
      "856:\tlearn: 2834.5371177\ttotal: 2.4s\tremaining: 401ms\n",
      "857:\tlearn: 2834.0888134\ttotal: 2.4s\tremaining: 398ms\n",
      "858:\tlearn: 2832.0313716\ttotal: 2.41s\tremaining: 395ms\n",
      "859:\tlearn: 2830.9895013\ttotal: 2.41s\tremaining: 392ms\n",
      "860:\tlearn: 2830.6786689\ttotal: 2.41s\tremaining: 390ms\n",
      "861:\tlearn: 2829.6778546\ttotal: 2.42s\tremaining: 387ms\n",
      "862:\tlearn: 2827.4261016\ttotal: 2.42s\tremaining: 384ms\n",
      "863:\tlearn: 2826.3283767\ttotal: 2.42s\tremaining: 381ms\n",
      "864:\tlearn: 2825.0698639\ttotal: 2.42s\tremaining: 378ms\n",
      "865:\tlearn: 2824.3029152\ttotal: 2.43s\tremaining: 375ms\n",
      "866:\tlearn: 2822.3234555\ttotal: 2.43s\tremaining: 373ms\n",
      "867:\tlearn: 2820.0508447\ttotal: 2.43s\tremaining: 370ms\n",
      "868:\tlearn: 2818.2519075\ttotal: 2.43s\tremaining: 367ms\n",
      "869:\tlearn: 2817.4151786\ttotal: 2.44s\tremaining: 364ms\n",
      "870:\tlearn: 2816.7111961\ttotal: 2.44s\tremaining: 361ms\n",
      "871:\tlearn: 2816.2085525\ttotal: 2.44s\tremaining: 358ms\n",
      "872:\tlearn: 2814.9028837\ttotal: 2.44s\tremaining: 356ms\n",
      "873:\tlearn: 2813.2894879\ttotal: 2.45s\tremaining: 353ms\n",
      "874:\tlearn: 2811.7614742\ttotal: 2.45s\tremaining: 350ms\n",
      "875:\tlearn: 2811.4757095\ttotal: 2.45s\tremaining: 347ms\n",
      "876:\tlearn: 2810.4648773\ttotal: 2.45s\tremaining: 344ms\n",
      "877:\tlearn: 2809.1632905\ttotal: 2.46s\tremaining: 341ms\n",
      "878:\tlearn: 2808.2325290\ttotal: 2.46s\tremaining: 339ms\n",
      "879:\tlearn: 2808.1455874\ttotal: 2.46s\tremaining: 336ms\n",
      "880:\tlearn: 2807.8110802\ttotal: 2.46s\tremaining: 333ms\n",
      "881:\tlearn: 2805.3934193\ttotal: 2.47s\tremaining: 330ms\n",
      "882:\tlearn: 2804.7324496\ttotal: 2.47s\tremaining: 327ms\n",
      "883:\tlearn: 2803.7315112\ttotal: 2.47s\tremaining: 324ms\n",
      "884:\tlearn: 2802.1101885\ttotal: 2.48s\tremaining: 322ms\n",
      "885:\tlearn: 2801.8340057\ttotal: 2.48s\tremaining: 319ms\n",
      "886:\tlearn: 2801.5286689\ttotal: 2.48s\tremaining: 316ms\n",
      "887:\tlearn: 2800.8594458\ttotal: 2.48s\tremaining: 313ms\n",
      "888:\tlearn: 2799.9005664\ttotal: 2.48s\tremaining: 310ms\n",
      "889:\tlearn: 2799.8161464\ttotal: 2.49s\tremaining: 308ms\n",
      "890:\tlearn: 2797.9948410\ttotal: 2.49s\tremaining: 305ms\n",
      "891:\tlearn: 2797.2369918\ttotal: 2.49s\tremaining: 302ms\n",
      "892:\tlearn: 2796.4508837\ttotal: 2.5s\tremaining: 299ms\n",
      "893:\tlearn: 2794.5757445\ttotal: 2.5s\tremaining: 296ms\n",
      "894:\tlearn: 2793.7771163\ttotal: 2.5s\tremaining: 293ms\n",
      "895:\tlearn: 2793.2930639\ttotal: 2.5s\tremaining: 291ms\n",
      "896:\tlearn: 2792.1023250\ttotal: 2.51s\tremaining: 288ms\n",
      "897:\tlearn: 2791.0802417\ttotal: 2.51s\tremaining: 285ms\n",
      "898:\tlearn: 2790.1661538\ttotal: 2.51s\tremaining: 282ms\n",
      "899:\tlearn: 2789.6709996\ttotal: 2.51s\tremaining: 279ms\n",
      "900:\tlearn: 2788.4707103\ttotal: 2.52s\tremaining: 277ms\n",
      "901:\tlearn: 2786.4755590\ttotal: 2.52s\tremaining: 274ms\n",
      "902:\tlearn: 2785.4762904\ttotal: 2.52s\tremaining: 271ms\n",
      "903:\tlearn: 2784.5637094\ttotal: 2.52s\tremaining: 268ms\n",
      "904:\tlearn: 2781.5470978\ttotal: 2.53s\tremaining: 265ms\n",
      "905:\tlearn: 2780.2488604\ttotal: 2.53s\tremaining: 263ms\n",
      "906:\tlearn: 2778.9800718\ttotal: 2.53s\tremaining: 260ms\n",
      "907:\tlearn: 2778.1369211\ttotal: 2.54s\tremaining: 257ms\n",
      "908:\tlearn: 2777.4244532\ttotal: 2.54s\tremaining: 254ms\n",
      "909:\tlearn: 2776.6789600\ttotal: 2.54s\tremaining: 251ms\n",
      "910:\tlearn: 2776.2240085\ttotal: 2.54s\tremaining: 249ms\n",
      "911:\tlearn: 2774.8522548\ttotal: 2.55s\tremaining: 246ms\n",
      "912:\tlearn: 2773.9549893\ttotal: 2.55s\tremaining: 243ms\n",
      "913:\tlearn: 2772.8418363\ttotal: 2.55s\tremaining: 240ms\n",
      "914:\tlearn: 2770.8294384\ttotal: 2.55s\tremaining: 237ms\n",
      "915:\tlearn: 2769.9524498\ttotal: 2.56s\tremaining: 235ms\n",
      "916:\tlearn: 2768.4034409\ttotal: 2.56s\tremaining: 232ms\n",
      "917:\tlearn: 2767.8998976\ttotal: 2.56s\tremaining: 229ms\n",
      "918:\tlearn: 2766.5031743\ttotal: 2.56s\tremaining: 226ms\n",
      "919:\tlearn: 2763.6415567\ttotal: 2.57s\tremaining: 223ms\n",
      "920:\tlearn: 2762.8906111\ttotal: 2.57s\tremaining: 221ms\n",
      "921:\tlearn: 2762.4157794\ttotal: 2.57s\tremaining: 218ms\n",
      "922:\tlearn: 2760.8514881\ttotal: 2.58s\tremaining: 215ms\n",
      "923:\tlearn: 2758.8426681\ttotal: 2.58s\tremaining: 212ms\n",
      "924:\tlearn: 2755.5425373\ttotal: 2.58s\tremaining: 209ms\n",
      "925:\tlearn: 2754.8533898\ttotal: 2.58s\tremaining: 207ms\n",
      "926:\tlearn: 2753.0122133\ttotal: 2.59s\tremaining: 204ms\n",
      "927:\tlearn: 2751.3594180\ttotal: 2.59s\tremaining: 201ms\n",
      "928:\tlearn: 2750.4596084\ttotal: 2.59s\tremaining: 198ms\n",
      "929:\tlearn: 2748.7751616\ttotal: 2.6s\tremaining: 195ms\n",
      "930:\tlearn: 2746.4161260\ttotal: 2.6s\tremaining: 193ms\n",
      "931:\tlearn: 2745.6206495\ttotal: 2.6s\tremaining: 190ms\n",
      "932:\tlearn: 2744.3638067\ttotal: 2.6s\tremaining: 187ms\n",
      "933:\tlearn: 2742.6370950\ttotal: 2.61s\tremaining: 184ms\n",
      "934:\tlearn: 2741.8133227\ttotal: 2.61s\tremaining: 181ms\n",
      "935:\tlearn: 2740.6745940\ttotal: 2.61s\tremaining: 179ms\n",
      "936:\tlearn: 2739.4750622\ttotal: 2.61s\tremaining: 176ms\n",
      "937:\tlearn: 2738.5751938\ttotal: 2.62s\tremaining: 173ms\n",
      "938:\tlearn: 2737.7377117\ttotal: 2.62s\tremaining: 170ms\n",
      "939:\tlearn: 2736.7722833\ttotal: 2.62s\tremaining: 167ms\n",
      "940:\tlearn: 2735.4236546\ttotal: 2.63s\tremaining: 165ms\n",
      "941:\tlearn: 2734.0287477\ttotal: 2.63s\tremaining: 162ms\n",
      "942:\tlearn: 2732.5075531\ttotal: 2.63s\tremaining: 159ms\n",
      "943:\tlearn: 2731.6573652\ttotal: 2.63s\tremaining: 156ms\n",
      "944:\tlearn: 2730.8357624\ttotal: 2.63s\tremaining: 153ms\n",
      "945:\tlearn: 2730.0813692\ttotal: 2.64s\tremaining: 151ms\n",
      "946:\tlearn: 2729.1060355\ttotal: 2.64s\tremaining: 148ms\n",
      "947:\tlearn: 2728.5312336\ttotal: 2.64s\tremaining: 145ms\n",
      "948:\tlearn: 2727.7377168\ttotal: 2.65s\tremaining: 142ms\n",
      "949:\tlearn: 2725.9334337\ttotal: 2.65s\tremaining: 139ms\n",
      "950:\tlearn: 2724.2201101\ttotal: 2.65s\tremaining: 137ms\n",
      "951:\tlearn: 2723.6693090\ttotal: 2.65s\tremaining: 134ms\n",
      "952:\tlearn: 2722.1839864\ttotal: 2.66s\tremaining: 131ms\n",
      "953:\tlearn: 2720.8880403\ttotal: 2.66s\tremaining: 128ms\n",
      "954:\tlearn: 2719.0845162\ttotal: 2.66s\tremaining: 125ms\n",
      "955:\tlearn: 2717.3567660\ttotal: 2.66s\tremaining: 123ms\n",
      "956:\tlearn: 2717.3014539\ttotal: 2.67s\tremaining: 120ms\n",
      "957:\tlearn: 2714.9635394\ttotal: 2.67s\tremaining: 117ms\n",
      "958:\tlearn: 2713.2055822\ttotal: 2.67s\tremaining: 114ms\n",
      "959:\tlearn: 2712.2927832\ttotal: 2.67s\tremaining: 111ms\n",
      "960:\tlearn: 2711.4899951\ttotal: 2.68s\tremaining: 109ms\n",
      "961:\tlearn: 2709.6555464\ttotal: 2.68s\tremaining: 106ms\n",
      "962:\tlearn: 2708.4672211\ttotal: 2.68s\tremaining: 103ms\n",
      "963:\tlearn: 2707.6301247\ttotal: 2.69s\tremaining: 100ms\n",
      "964:\tlearn: 2705.8738040\ttotal: 2.69s\tremaining: 97.5ms\n",
      "965:\tlearn: 2703.9187649\ttotal: 2.69s\tremaining: 94.7ms\n",
      "966:\tlearn: 2702.2639622\ttotal: 2.69s\tremaining: 91.9ms\n",
      "967:\tlearn: 2700.7554995\ttotal: 2.7s\tremaining: 89.1ms\n",
      "968:\tlearn: 2699.4265410\ttotal: 2.7s\tremaining: 86.3ms\n",
      "969:\tlearn: 2698.7214215\ttotal: 2.7s\tremaining: 83.6ms\n",
      "970:\tlearn: 2698.0246015\ttotal: 2.7s\tremaining: 80.8ms\n",
      "971:\tlearn: 2696.4851678\ttotal: 2.71s\tremaining: 78ms\n",
      "972:\tlearn: 2695.9035402\ttotal: 2.71s\tremaining: 75.2ms\n",
      "973:\tlearn: 2693.6820245\ttotal: 2.71s\tremaining: 72.4ms\n",
      "974:\tlearn: 2692.6581400\ttotal: 2.71s\tremaining: 69.6ms\n",
      "975:\tlearn: 2692.1401679\ttotal: 2.72s\tremaining: 66.8ms\n",
      "976:\tlearn: 2690.5633921\ttotal: 2.72s\tremaining: 64ms\n",
      "977:\tlearn: 2689.8864101\ttotal: 2.72s\tremaining: 61.3ms\n",
      "978:\tlearn: 2688.2855305\ttotal: 2.73s\tremaining: 58.5ms\n",
      "979:\tlearn: 2687.3888583\ttotal: 2.73s\tremaining: 55.7ms\n",
      "980:\tlearn: 2686.9318631\ttotal: 2.73s\tremaining: 52.9ms\n",
      "981:\tlearn: 2684.9983281\ttotal: 2.73s\tremaining: 50.1ms\n",
      "982:\tlearn: 2683.5475516\ttotal: 2.74s\tremaining: 47.3ms\n",
      "983:\tlearn: 2683.0443133\ttotal: 2.74s\tremaining: 44.5ms\n",
      "984:\tlearn: 2682.0380011\ttotal: 2.74s\tremaining: 41.8ms\n",
      "985:\tlearn: 2680.7022175\ttotal: 2.74s\tremaining: 39ms\n",
      "986:\tlearn: 2680.1495652\ttotal: 2.75s\tremaining: 36.2ms\n",
      "987:\tlearn: 2679.8487092\ttotal: 2.75s\tremaining: 33.4ms\n",
      "988:\tlearn: 2678.6289323\ttotal: 2.75s\tremaining: 30.6ms\n",
      "989:\tlearn: 2677.6148211\ttotal: 2.75s\tremaining: 27.8ms\n",
      "990:\tlearn: 2676.7900626\ttotal: 2.76s\tremaining: 25ms\n",
      "991:\tlearn: 2676.1927391\ttotal: 2.76s\tremaining: 22.3ms\n",
      "992:\tlearn: 2675.3099195\ttotal: 2.76s\tremaining: 19.5ms\n",
      "993:\tlearn: 2674.1037711\ttotal: 2.77s\tremaining: 16.7ms\n",
      "994:\tlearn: 2674.0278050\ttotal: 2.77s\tremaining: 13.9ms\n",
      "995:\tlearn: 2672.4228123\ttotal: 2.77s\tremaining: 11.1ms\n",
      "996:\tlearn: 2671.2834301\ttotal: 2.77s\tremaining: 8.35ms\n",
      "997:\tlearn: 2670.7433440\ttotal: 2.78s\tremaining: 5.57ms\n",
      "998:\tlearn: 2669.8844260\ttotal: 2.78s\tremaining: 2.78ms\n",
      "999:\tlearn: 2667.3504454\ttotal: 2.78s\tremaining: 0us\n"
     ]
    },
    {
     "data": {
      "text/plain": [
       "<catboost.core.CatBoostRegressor at 0x2400bcd1110>"
      ]
     },
     "execution_count": 137,
     "metadata": {},
     "output_type": "execute_result"
    }
   ],
   "source": [
    "# Fitt the model on train\n",
    "catb_model.fit(x_train, y_train)"
   ]
  },
  {
   "cell_type": "code",
   "execution_count": 138,
   "id": "02a8ba69",
   "metadata": {},
   "outputs": [],
   "source": [
    "# Predict the train and test\n",
    "y_pred_train_cat = catb_model.predict(x_train)\n",
    "y_pred_test_cat = catb_model.predict(x_test)"
   ]
  },
  {
   "cell_type": "code",
   "execution_count": 139,
   "id": "ec22ca11",
   "metadata": {},
   "outputs": [
    {
     "data": {
      "text/plain": [
       "array([ 3867.79804609,  5794.20346074, 26845.22299325, ...,\n",
       "        1834.40841037,  7064.55057166,  6758.29894796])"
      ]
     },
     "execution_count": 139,
     "metadata": {},
     "output_type": "execute_result"
    }
   ],
   "source": [
    "y_pred_train_cat"
   ]
  },
  {
   "cell_type": "code",
   "execution_count": 140,
   "id": "dbcb0782",
   "metadata": {},
   "outputs": [
    {
     "data": {
      "text/plain": [
       "array([10648.64414252,  9097.99469319, 13530.00860234, 38364.80150553,\n",
       "        7487.90489401,  9800.07777613, 40759.30459305,  3781.50714774,\n",
       "       11719.35799428, 11201.46568933, 13779.80618062, 28086.71422962,\n",
       "       39533.99096967, 14638.57420232,  7204.55830649,  9073.66645164,\n",
       "        5087.00955423, 39736.40500659,  4618.62979414,  5021.70714293,\n",
       "        4942.01070284, 21443.3635761 ,  9797.97828953, 21825.43163426,\n",
       "       37253.19376678, 18373.01509447, 44351.4043271 , 43061.56100814,\n",
       "       11400.28933   , 18502.96297374,  4519.17739066,  9684.25322527,\n",
       "        2683.37106802, 12960.39610674, 44242.9139966 ,  9956.92320681,\n",
       "        9529.75492332,  4817.68835593, 21893.74786637,  9125.63129199,\n",
       "        3360.8353232 , 20102.29255866, 42972.62675986, 10130.09252625,\n",
       "        7765.28835749,  3475.65462305,  3353.01918492,  7532.51273043,\n",
       "        5759.53371398,  8744.00004609,  6332.8590089 ,  6542.13661808,\n",
       "       22598.27039115,  4647.47070031,  8138.90419412, 10520.27792119,\n",
       "       10914.53082872,  5411.1365814 , 39789.23176227,  8270.66061578,\n",
       "       13693.94069406,  5863.31611104, 13739.78250663,  1503.39735564,\n",
       "       11578.00988912, 13807.45826286,  7546.66561464, 23141.59435403,\n",
       "       17264.47431366, 16369.24437709, 16700.81140953,  8044.98646098,\n",
       "        7849.12396281,  3087.66997411, 11033.87703294,  4483.7084603 ,\n",
       "       14575.31557307,  7354.33593686, 11330.99327101, 12423.16299391,\n",
       "        6829.86560372, 14182.77907824, 14303.60023536, 11706.39562469,\n",
       "       28217.47204251, 15649.55016245,  2801.09491971,  2614.26972204,\n",
       "        5265.73060991,  3949.71001195, 17261.36303455, 17482.82912827,\n",
       "        7563.25422582,  3460.16038088,  2977.95386125, 44326.69912263,\n",
       "       10484.29160177,  9457.88811583,  4017.95887838,  9787.76131385,\n",
       "       13707.77376264, 16572.52915118, 24745.55760096, 14843.60986076,\n",
       "       39240.48849577,  3067.89296797, 40888.43923679, 16763.92539576,\n",
       "       13305.70218899,  6235.81363936,  7621.97858015, 12752.00637009,\n",
       "        7768.71183838,  7515.67369181,  4104.60423144,  2965.71827822,\n",
       "        3892.51565387,  3545.22048384,  2109.73833429, 13363.07033945,\n",
       "       43034.88528644,  4298.3563842 ,  7868.70472612,  6290.99047642,\n",
       "        7971.50407067,  6957.54386856,  7480.86061375, 13510.54971319,\n",
       "       39610.61062096, 46729.48832806, 29035.15489604,  8979.77479934,\n",
       "        3102.39923013, 11779.35985015,  4530.18648161, 13042.27845709,\n",
       "       44046.33405273, 21626.31669439, 18542.88608401,  4053.57177595,\n",
       "        8405.87164756,  7720.14459069, 43395.61084408, 12086.78952418,\n",
       "        2813.52935613,  6494.60029564,  4657.07553332,  9335.16793299,\n",
       "       44684.90777404, 13460.53112838,  7606.06802525,  8710.13077147,\n",
       "        4865.00144102, 13838.51678351,  9474.59962666, 37371.92183967,\n",
       "       40276.59092868, 10096.44455816, 12054.48177392, 10184.91143775,\n",
       "       13025.80569363,  4635.55847346, 11484.45714765, 11718.54576049,\n",
       "       41449.63153252, 40723.52099135, 11928.71436805, 18026.6032442 ,\n",
       "        4913.45864563,  3418.26739541,  4515.00690636,  1957.90612176,\n",
       "        4636.8527442 , 14439.26586872,  9033.90848664, 15475.01004496,\n",
       "        4075.40734892, 11200.18133429,  8973.30204991, 11032.53383574,\n",
       "       15831.91299206,  5842.86306818, 12904.80033963, 11578.58231618,\n",
       "       39083.74703948, 12072.17136776,  4066.39692376,  5465.38432974,\n",
       "        1123.70009793, 44788.7136348 ,  4998.89745625, 25191.92133234,\n",
       "       12718.05523694,  5037.51722504,  2803.37555506,  3907.98289407,\n",
       "       39801.61726417,  5688.43494551, 14109.34204558, 16251.51133818,\n",
       "       33235.24226085, 20726.94885898,  4416.9270793 , 11710.46822856,\n",
       "       22211.29386777,  6104.87906754,  7876.4181164 ,  7915.14079891,\n",
       "        4010.18001736, 41864.55258754, 21909.66426942, 10447.15632778,\n",
       "        4556.18493044,  6998.06106255, 18625.49089494,  1601.50905306,\n",
       "        1208.96993313,  9369.40025218, 11426.79256883,  5857.11033006,\n",
       "        4426.12920403, 44053.1529678 , 43275.20499314, 18422.87803886,\n",
       "       10190.99376045, 46246.06798833, 42725.26193021, 16116.54491452,\n",
       "       36624.08445684,  4470.10875427, 13202.88540498, 35174.12517121,\n",
       "        6557.01025144,  6898.79991642, 13749.26997934, 11630.47551771,\n",
       "       16115.96784738,  1460.78694075,  3180.08148634,  4182.19598804,\n",
       "        5506.44468809,  2957.75790768,  6225.26567338, 11311.52056249,\n",
       "         549.07518954,  9918.46486655, 11076.61395846,  6608.6086835 ,\n",
       "        3507.86249398,  8655.92234591,  6722.27808646, 12334.90355614,\n",
       "       11986.03159261, 15217.7044478 , 45968.67803925, 15530.56300649,\n",
       "       11942.61557056,  7324.4999366 ,  6974.82025187, 11852.00643784,\n",
       "       43432.29684696, 45716.42554513, 17482.28459429, 13554.4560771 ,\n",
       "       15433.00922028,  7779.75134994, 47446.16179243, 12054.28557375])"
      ]
     },
     "execution_count": 140,
     "metadata": {},
     "output_type": "execute_result"
    }
   ],
   "source": [
    "y_pred_test_cat"
   ]
  },
  {
   "cell_type": "code",
   "execution_count": 141,
   "id": "1f07f24c",
   "metadata": {},
   "outputs": [
    {
     "data": {
      "text/plain": [
       "0.9480350914726857"
      ]
     },
     "execution_count": 141,
     "metadata": {},
     "output_type": "execute_result"
    }
   ],
   "source": [
    "# Accuracy score for train\n",
    "catb_model.score(x_train, y_train)"
   ]
  },
  {
   "cell_type": "code",
   "execution_count": 142,
   "id": "05395ca9",
   "metadata": {},
   "outputs": [
    {
     "data": {
      "text/plain": [
       "0.881902117207155"
      ]
     },
     "execution_count": 142,
     "metadata": {},
     "output_type": "execute_result"
    }
   ],
   "source": [
    "# Accuracy score for test\n",
    "catb_model.score(x_test, y_test)"
   ]
  },
  {
   "cell_type": "markdown",
   "id": "f7cde3d0",
   "metadata": {},
   "source": [
    "Model Evaluation"
   ]
  },
  {
   "cell_type": "code",
   "execution_count": 143,
   "id": "7c9ff1c0",
   "metadata": {},
   "outputs": [
    {
     "name": "stdout",
     "output_type": "stream",
     "text": [
      "Mean squared error: 7114758.308828511\n",
      "RMSE VALUE: 2667.3504285767385\n"
     ]
    }
   ],
   "source": [
    "from sklearn.metrics import mean_squared_error, r2_score\n",
    "\n",
    "# calculate RMSE of train data\n",
    "mse_train = mean_squared_error(y_train, y_pred_train_cat)\n",
    "print(\"Mean squared error:\", mse_train)\n",
    "rmse_train = np.sqrt(mse_train)\n",
    "print(\"RMSE VALUE:\", rmse_train)"
   ]
  },
  {
   "cell_type": "code",
   "execution_count": 144,
   "id": "7816bcb7",
   "metadata": {},
   "outputs": [
    {
     "name": "stdout",
     "output_type": "stream",
     "text": [
      "Mean squared error: 21701202.113600276\n",
      "RMSE VALUE: 4658.454906253819\n"
     ]
    }
   ],
   "source": [
    "# calculate RMSE of test data\n",
    "mse_test = mean_squared_error(y_test, y_pred_test_cat)\n",
    "print(\"Mean squared error:\", mse_test)\n",
    "rmse_test = np.sqrt(mse_test)\n",
    "print(\"RMSE VALUE:\", rmse_test)"
   ]
  },
  {
   "cell_type": "code",
   "execution_count": 145,
   "id": "e75aa595",
   "metadata": {},
   "outputs": [
    {
     "name": "stdout",
     "output_type": "stream",
     "text": [
      "R-squared for train data: 0.9480350914726857\n"
     ]
    }
   ],
   "source": [
    "# Assuming y_train and y_pred_train are your actual and predicted target values for the train set\n",
    "r_squared_train = r2_score(y_train, y_pred_train_cat)\n",
    "print(\"R-squared for train data:\", r_squared_train)"
   ]
  },
  {
   "cell_type": "code",
   "execution_count": 146,
   "id": "84e60869",
   "metadata": {},
   "outputs": [
    {
     "name": "stdout",
     "output_type": "stream",
     "text": [
      "R-squared for test data: 0.881902117207155\n"
     ]
    }
   ],
   "source": [
    "# Assuming y_test and y_pred_test are your actual and predicted target values for the test set\n",
    "r_squared_test = r2_score(y_test, y_pred_test_cat)\n",
    "print(\"R-squared for test data:\", r_squared_test)"
   ]
  },
  {
   "cell_type": "code",
   "execution_count": 147,
   "id": "ed696e75",
   "metadata": {},
   "outputs": [],
   "source": [
    "# Check to the Adjusted R Squared\n",
    "\n",
    "def adjusted_r_squared(r_squared, n, k):\n",
    "    adjusted_r2 = 1 - (1 - r_squared) * (n - 1) / (n - k - 1)\n",
    "    return adjusted_r2"
   ]
  },
  {
   "cell_type": "code",
   "execution_count": 148,
   "id": "7bc5652b",
   "metadata": {},
   "outputs": [],
   "source": [
    "# For train data\n",
    "n_train, p = x_train.shape[0], x_train.shape[1]\n",
    "model_train_adjusted_r2 = adjusted_r_squared(r_squared_train, n_train, p)\n",
    "\n",
    "# For test data\n",
    "n_test = x_test.shape[0]\n",
    "model_test_adjusted_r2 = adjusted_r_squared(r_squared_test, n_test, p)"
   ]
  },
  {
   "cell_type": "code",
   "execution_count": 149,
   "id": "87b3147e",
   "metadata": {},
   "outputs": [
    {
     "data": {
      "text/html": [
       "<div>\n",
       "<style scoped>\n",
       "    .dataframe tbody tr th:only-of-type {\n",
       "        vertical-align: middle;\n",
       "    }\n",
       "\n",
       "    .dataframe tbody tr th {\n",
       "        vertical-align: top;\n",
       "    }\n",
       "\n",
       "    .dataframe thead th {\n",
       "        text-align: right;\n",
       "    }\n",
       "</style>\n",
       "<table border=\"1\" class=\"dataframe\">\n",
       "  <thead>\n",
       "    <tr style=\"text-align: right;\">\n",
       "      <th></th>\n",
       "      <th>Title</th>\n",
       "      <th>Vales</th>\n",
       "    </tr>\n",
       "  </thead>\n",
       "  <tbody>\n",
       "    <tr>\n",
       "      <th>0</th>\n",
       "      <td>RMSE_train</td>\n",
       "      <td>2667.350429</td>\n",
       "    </tr>\n",
       "    <tr>\n",
       "      <th>1</th>\n",
       "      <td>RMSE_test</td>\n",
       "      <td>4658.454906</td>\n",
       "    </tr>\n",
       "    <tr>\n",
       "      <th>2</th>\n",
       "      <td>R squared_train</td>\n",
       "      <td>0.948035</td>\n",
       "    </tr>\n",
       "    <tr>\n",
       "      <th>3</th>\n",
       "      <td>R squared_test</td>\n",
       "      <td>0.881902</td>\n",
       "    </tr>\n",
       "    <tr>\n",
       "      <th>4</th>\n",
       "      <td>Adjusted R squraed_train</td>\n",
       "      <td>0.947643</td>\n",
       "    </tr>\n",
       "    <tr>\n",
       "      <th>5</th>\n",
       "      <td>Adjusted R squraed_test</td>\n",
       "      <td>0.878254</td>\n",
       "    </tr>\n",
       "  </tbody>\n",
       "</table>\n",
       "</div>"
      ],
      "text/plain": [
       "                      Title        Vales\n",
       "0                RMSE_train  2667.350429\n",
       "1                 RMSE_test  4658.454906\n",
       "2           R squared_train     0.948035\n",
       "3            R squared_test     0.881902\n",
       "4  Adjusted R squraed_train     0.947643\n",
       "5   Adjusted R squraed_test     0.878254"
      ]
     },
     "execution_count": 149,
     "metadata": {},
     "output_type": "execute_result"
    }
   ],
   "source": [
    "d1 = {'Title':['RMSE_train', 'RMSE_test', 'R squared_train', 'R squared_test', 'Adjusted R squraed_train', 'Adjusted R squraed_test'], 'Vales':[rmse_train, rmse_test, r_squared_train, r_squared_test, model_train_adjusted_r2, model_test_adjusted_r2]}\n",
    "pd.DataFrame(d1)"
   ]
  }
 ],
 "metadata": {
  "kernelspec": {
   "display_name": "Python 3 (ipykernel)",
   "language": "python",
   "name": "python3"
  },
  "language_info": {
   "codemirror_mode": {
    "name": "ipython",
    "version": 3
   },
   "file_extension": ".py",
   "mimetype": "text/x-python",
   "name": "python",
   "nbconvert_exporter": "python",
   "pygments_lexer": "ipython3",
   "version": "3.11.5"
  }
 },
 "nbformat": 4,
 "nbformat_minor": 5
}
